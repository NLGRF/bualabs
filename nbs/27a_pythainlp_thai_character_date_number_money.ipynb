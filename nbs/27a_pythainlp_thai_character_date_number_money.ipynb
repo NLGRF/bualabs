{
  "nbformat": 4,
  "nbformat_minor": 0,
  "metadata": {
    "colab": {
      "name": "27a_pythainlp_thai_character_date_number_money.ipynb",
      "provenance": []
    },
    "kernelspec": {
      "name": "python3",
      "display_name": "Python 3"
    }
  },
  "cells": [
    {
      "cell_type": "markdown",
      "metadata": {
        "colab_type": "text",
        "id": "XlQtoavmlNzL"
      },
      "source": [
        "ใน ep นี้เราจะมาเรียนรู้ [NLP](https://www.bualabs.com/archives/119/what-is-nlp-natural-language-processing-nlp-task-in-thai-nlp-ep-1/) ภาษาไทย กับการเริ่มต้นเรียนรู้การใช้งาน Library NLP ภาษาไทย ที่ดีที่สุดของภาษา Python ในปัจจุบัน คือ PyThaiNLP ที่จะเป็นพื้นฐานในการพัฒนาต่อยอดสร้างโมเดล Machine Learning ที่จะแก้ปัญหาด้าน NLP ที่ซับซ้อนขึ้นต่อไป"
      ]
    },
    {
      "cell_type": "markdown",
      "metadata": {
        "id": "vLD7GDadA72m",
        "colab_type": "text"
      },
      "source": [
        "# PyThaiNLP คืออะไร"
      ]
    },
    {
      "cell_type": "markdown",
      "metadata": {
        "id": "k9oWRFHnA6aB",
        "colab_type": "text"
      },
      "source": [
        "\n",
        "\n",
        "[PyThaiNLP](https://github.com/PyThaiNLP/pythainlp) คือ Library แพคเกจของภาษา Python ใช้สำหรับประมวลผลข้อความ และการวิเคราะห์ทางภาษา คล้ายกับ NLTK แต่ใช้กับภาษาไทยโดยเฉพาะ มีฟังก์ชันการทำงานที่หลากหลาย เช่น Set ของ Character อักษรไทย คำไทย, เรียงคำภาษาไทย, ตัดคำภาษาไทย, วิเคราะห์ชนิดของคำทางไวยากรณ์, ตรวจตัวสะกด แก้คำผิด และอีกมากมาย ดังด้านล่าง\n",
        "\n",
        "\n",
        "* Convenient character and word classes, like Thai consonants (pythainlp.thai_consonants), vowels (pythainlp.thai_vowels), digits (pythainlp.thai_digits), and stop words (pythainlp.corpus.thai_stopwords) -- comparable to constants like string.letters, string.digits, and string.punctuation\n",
        "* Thai word segmentation (word_tokenize), including subword segmentation based on Thai Character Cluster (subword_tokenize)\n",
        "* Thai transliteration (transliterate)\n",
        "* Thai part-of-speech taggers (pos_tag)\n",
        "Read out number to Thai words (bahttext, num_to_thaiword)\n",
        "* Thai collation (sort by dictionoary order) (collate)\n",
        "* Thai-English keyboard misswitched fix (eng_to_thai, thai_to_eng)\n",
        "* Thai spelling suggestion and correction (spell and correct)\n",
        "* Thai soundex (soundex) with three engines (lk82, udom83, metasound)\n",
        "* Thai WordNet wrapper\n",
        "* etc."
      ]
    },
    {
      "cell_type": "markdown",
      "metadata": {
        "colab_type": "text",
        "id": "CzApwnjVlKxC"
      },
      "source": [
        "# 0. Install"
      ]
    },
    {
      "cell_type": "code",
      "metadata": {
        "colab_type": "code",
        "id": "0WcUkQRak7e6",
        "colab": {}
      },
      "source": [
        "%reload_ext autoreload\n",
        "%autoreload 2\n",
        "%matplotlib inline"
      ],
      "execution_count": 0,
      "outputs": []
    },
    {
      "cell_type": "markdown",
      "metadata": {
        "colab_type": "text",
        "id": "MGOPzh9vCLJh"
      },
      "source": [
        "Install Library ที่จำเป็น แล้ว Restart Runtime"
      ]
    },
    {
      "cell_type": "code",
      "metadata": {
        "id": "QpAhcT3WxGqF",
        "colab_type": "code",
        "outputId": "d19baba9-ef27-4eca-94fa-102dd95912ca",
        "colab": {
          "base_uri": "https://localhost:8080/",
          "height": 1000
        }
      },
      "source": [
        "# dev version\n",
        "# !pip install https://github.com/PyThaiNLP/pythainlp/archive/dev.zip\n",
        "\n",
        "# release version \n",
        "! pip install pythainlp\n",
        "\n",
        "!pip install epitran\n",
        "!pip install sklearn_crfsuite"
      ],
      "execution_count": 3,
      "outputs": [
        {
          "output_type": "stream",
          "text": [
            "Collecting pythainlp\n",
            "\u001b[?25l  Downloading https://files.pythonhosted.org/packages/cb/14/b80930a2cc09ed6b5f8a22da9be6ece56939839ae66d921d9c7123034ba0/pythainlp-2.1.4-py3-none-any.whl (11.1MB)\n",
            "\u001b[K     |████████████████████████████████| 11.1MB 26kB/s \n",
            "\u001b[?25hCollecting requests>=2.22.0\n",
            "\u001b[?25l  Downloading https://files.pythonhosted.org/packages/1a/70/1935c770cb3be6e3a8b78ced23d7e0f3b187f5cbfab4749523ed65d7c9b1/requests-2.23.0-py2.py3-none-any.whl (58kB)\n",
            "\u001b[K     |████████████████████████████████| 61kB 6.7MB/s \n",
            "\u001b[?25hCollecting tinydb>=3.0\n",
            "  Downloading https://files.pythonhosted.org/packages/22/11/c3adfc1b367d1955461f82a4a0a8ffffd37b193e98f2fe89338cdd4a8a6a/tinydb-3.15.2-py2.py3-none-any.whl\n",
            "Collecting nltk>=3.3\n",
            "\u001b[?25l  Downloading https://files.pythonhosted.org/packages/92/75/ce35194d8e3022203cca0d2f896dbb88689f9b3fce8e9f9cff942913519d/nltk-3.5.zip (1.4MB)\n",
            "\u001b[K     |████████████████████████████████| 1.4MB 32.1MB/s \n",
            "\u001b[?25hRequirement already satisfied: tqdm>=4.1 in /usr/local/lib/python3.6/dist-packages (from pythainlp) (4.38.0)\n",
            "Requirement already satisfied: dill>=0.3.0 in /usr/local/lib/python3.6/dist-packages (from pythainlp) (0.3.1.1)\n",
            "Requirement already satisfied: idna<3,>=2.5 in /usr/local/lib/python3.6/dist-packages (from requests>=2.22.0->pythainlp) (2.8)\n",
            "Requirement already satisfied: certifi>=2017.4.17 in /usr/local/lib/python3.6/dist-packages (from requests>=2.22.0->pythainlp) (2020.4.5.1)\n",
            "Requirement already satisfied: urllib3!=1.25.0,!=1.25.1,<1.26,>=1.21.1 in /usr/local/lib/python3.6/dist-packages (from requests>=2.22.0->pythainlp) (1.24.3)\n",
            "Requirement already satisfied: chardet<4,>=3.0.2 in /usr/local/lib/python3.6/dist-packages (from requests>=2.22.0->pythainlp) (3.0.4)\n",
            "Requirement already satisfied: click in /usr/local/lib/python3.6/dist-packages (from nltk>=3.3->pythainlp) (7.1.1)\n",
            "Requirement already satisfied: joblib in /usr/local/lib/python3.6/dist-packages (from nltk>=3.3->pythainlp) (0.14.1)\n",
            "Requirement already satisfied: regex in /usr/local/lib/python3.6/dist-packages (from nltk>=3.3->pythainlp) (2019.12.20)\n",
            "Building wheels for collected packages: nltk\n",
            "  Building wheel for nltk (setup.py) ... \u001b[?25l\u001b[?25hdone\n",
            "  Created wheel for nltk: filename=nltk-3.5-cp36-none-any.whl size=1434677 sha256=570c83eca96da95ff0717211ce6b0e6d9b614e5bc83f2414598641014813705d\n",
            "  Stored in directory: /root/.cache/pip/wheels/ae/8c/3f/b1fe0ba04555b08b57ab52ab7f86023639a526d8bc8d384306\n",
            "Successfully built nltk\n",
            "\u001b[31mERROR: google-colab 1.0.0 has requirement requests~=2.21.0, but you'll have requests 2.23.0 which is incompatible.\u001b[0m\n",
            "\u001b[31mERROR: datascience 0.10.6 has requirement folium==0.2.1, but you'll have folium 0.8.3 which is incompatible.\u001b[0m\n",
            "Installing collected packages: requests, tinydb, nltk, pythainlp\n",
            "  Found existing installation: requests 2.21.0\n",
            "    Uninstalling requests-2.21.0:\n",
            "      Successfully uninstalled requests-2.21.0\n",
            "  Found existing installation: nltk 3.2.5\n",
            "    Uninstalling nltk-3.2.5:\n",
            "      Successfully uninstalled nltk-3.2.5\n",
            "Successfully installed nltk-3.5 pythainlp-2.1.4 requests-2.23.0 tinydb-3.15.2\n"
          ],
          "name": "stdout"
        },
        {
          "output_type": "display_data",
          "data": {
            "application/vnd.colab-display-data+json": {
              "pip_warning": {
                "packages": [
                  "requests"
                ]
              }
            }
          },
          "metadata": {
            "tags": []
          }
        },
        {
          "output_type": "stream",
          "text": [
            "Collecting epitran\n",
            "\u001b[?25l  Downloading https://files.pythonhosted.org/packages/00/ce/ebf70bb24f220c628d4ce1e153c07e95f59132a1d882b586427ade2b1b3d/epitran-1.8-py2.py3-none-any.whl (132kB)\n",
            "\u001b[K     |████████████████████████████████| 133kB 2.8MB/s \n",
            "\u001b[?25hCollecting panphon>=0.16\n",
            "\u001b[?25l  Downloading https://files.pythonhosted.org/packages/ef/25/935f443f0a2cce5d7a4b6b0d9101c990a6f3c74702c02287d4addd3fe009/panphon-0.17-py2.py3-none-any.whl (71kB)\n",
            "\u001b[K     |████████████████████████████████| 71kB 8.7MB/s \n",
            "\u001b[?25hCollecting marisa-trie\n",
            "\u001b[?25l  Downloading https://files.pythonhosted.org/packages/20/95/d23071d0992dabcb61c948fb118a90683193befc88c23e745b050a29e7db/marisa-trie-0.7.5.tar.gz (270kB)\n",
            "\u001b[K     |████████████████████████████████| 276kB 51.5MB/s \n",
            "\u001b[?25hRequirement already satisfied: setuptools in /usr/local/lib/python3.6/dist-packages (from epitran) (46.1.3)\n",
            "Collecting unicodecsv\n",
            "  Downloading https://files.pythonhosted.org/packages/6f/a4/691ab63b17505a26096608cc309960b5a6bdf39e4ba1a793d5f9b1a53270/unicodecsv-0.14.1.tar.gz\n",
            "Requirement already satisfied: regex in /usr/local/lib/python3.6/dist-packages (from epitran) (2019.12.20)\n",
            "Requirement already satisfied: PyYAML in /usr/local/lib/python3.6/dist-packages (from panphon>=0.16->epitran) (3.13)\n",
            "Requirement already satisfied: numpy in /usr/local/lib/python3.6/dist-packages (from panphon>=0.16->epitran) (1.18.2)\n",
            "Collecting munkres\n",
            "  Downloading https://files.pythonhosted.org/packages/64/97/61ddc63578870e04db6eb1d3bee58ad4e727f682068a7c7405edb8b2cdeb/munkres-1.1.2-py2.py3-none-any.whl\n",
            "Requirement already satisfied: editdistance in /usr/local/lib/python3.6/dist-packages (from panphon>=0.16->epitran) (0.5.3)\n",
            "Building wheels for collected packages: marisa-trie, unicodecsv\n",
            "  Building wheel for marisa-trie (setup.py) ... \u001b[?25l\u001b[?25hdone\n",
            "  Created wheel for marisa-trie: filename=marisa_trie-0.7.5-cp36-cp36m-linux_x86_64.whl size=862110 sha256=778b12adda2da4f9f5a05da770d338525efd6f76097e1d79aa42b19817fe6275\n",
            "  Stored in directory: /root/.cache/pip/wheels/45/24/79/022624fc914f0e559fe8a1141aaff1f9df810905a13fc75d57\n",
            "  Building wheel for unicodecsv (setup.py) ... \u001b[?25l\u001b[?25hdone\n",
            "  Created wheel for unicodecsv: filename=unicodecsv-0.14.1-cp36-none-any.whl size=10768 sha256=9f8853fe059f1de4eb5fd79533a54775fae01fe81288eb57a16bb79aa74f0ee5\n",
            "  Stored in directory: /root/.cache/pip/wheels/a6/09/e9/e800279c98a0a8c94543f3de6c8a562f60e51363ed26e71283\n",
            "Successfully built marisa-trie unicodecsv\n",
            "Installing collected packages: munkres, unicodecsv, panphon, marisa-trie, epitran\n",
            "Successfully installed epitran-1.8 marisa-trie-0.7.5 munkres-1.1.2 panphon-0.17 unicodecsv-0.14.1\n",
            "Collecting sklearn_crfsuite\n",
            "  Downloading https://files.pythonhosted.org/packages/25/74/5b7befa513482e6dee1f3dd68171a6c9dfc14c0eaa00f885ffeba54fe9b0/sklearn_crfsuite-0.3.6-py2.py3-none-any.whl\n",
            "Collecting python-crfsuite>=0.8.3\n",
            "\u001b[?25l  Downloading https://files.pythonhosted.org/packages/95/99/869dde6dbf3e0d07a013c8eebfb0a3d30776334e0097f8432b631a9a3a19/python_crfsuite-0.9.7-cp36-cp36m-manylinux1_x86_64.whl (743kB)\n",
            "\u001b[K     |████████████████████████████████| 747kB 3.4MB/s \n",
            "\u001b[?25hRequirement already satisfied: tqdm>=2.0 in /usr/local/lib/python3.6/dist-packages (from sklearn_crfsuite) (4.38.0)\n",
            "Requirement already satisfied: six in /usr/local/lib/python3.6/dist-packages (from sklearn_crfsuite) (1.12.0)\n",
            "Requirement already satisfied: tabulate in /usr/local/lib/python3.6/dist-packages (from sklearn_crfsuite) (0.8.7)\n",
            "Installing collected packages: python-crfsuite, sklearn-crfsuite\n",
            "Successfully installed python-crfsuite-0.9.7 sklearn-crfsuite-0.3.6\n"
          ],
          "name": "stdout"
        }
      ]
    },
    {
      "cell_type": "markdown",
      "metadata": {
        "id": "0u3BdH34_hN1",
        "colab_type": "text"
      },
      "source": [
        "Restart Runtime เพื่อให้ใช้ Library เวอร์ชัน ที่เพิ่ง Install ลงไป"
      ]
    },
    {
      "cell_type": "markdown",
      "metadata": {
        "id": "86CaxdqnE0Ag",
        "colab_type": "text"
      },
      "source": [
        "ในเคสนี้ เราจะปิด Warning ไว้ก่อน จะได้อ่านผลลัพท์ง่าย"
      ]
    },
    {
      "cell_type": "code",
      "metadata": {
        "id": "rha7sfRokmVJ",
        "colab_type": "code",
        "colab": {}
      },
      "source": [
        "import warnings\n",
        "warnings.filterwarnings('ignore')"
      ],
      "execution_count": 0,
      "outputs": []
    },
    {
      "cell_type": "markdown",
      "metadata": {
        "colab_type": "text",
        "id": "3VxLNfAElR29"
      },
      "source": [
        "# 1. Import"
      ]
    },
    {
      "cell_type": "markdown",
      "metadata": {
        "colab_type": "text",
        "id": "nGm02SG0CQrq"
      },
      "source": [
        "Import Library ที่จะใช้ ในที่นี้คือ PyThaiNLP"
      ]
    },
    {
      "cell_type": "code",
      "metadata": {
        "id": "RUurvnGIsEWv",
        "colab_type": "code",
        "outputId": "e9578224-a866-4512-ae02-040ed65405fc",
        "colab": {
          "base_uri": "https://localhost:8080/",
          "height": 34
        }
      },
      "source": [
        "import pythainlp\n",
        "\n",
        "pythainlp.__version__"
      ],
      "execution_count": 5,
      "outputs": [
        {
          "output_type": "execute_result",
          "data": {
            "text/plain": [
              "'2.1.4'"
            ]
          },
          "metadata": {
            "tags": []
          },
          "execution_count": 5
        }
      ]
    },
    {
      "cell_type": "markdown",
      "metadata": {
        "id": "YeJuPfAjSGnt",
        "colab_type": "text"
      },
      "source": [
        "# 2. เกี่ยวกับอักษรในภาษาไทย"
      ]
    },
    {
      "cell_type": "markdown",
      "metadata": {
        "id": "UtnYCnMxWbbY",
        "colab_type": "text"
      },
      "source": [
        "ใน PyThaiNLP Library จะมีข้อมูลเกี่ยวกับ Set ของ Character อักษรไทย พยัญชนะ สระ วรรณยุกต์ และ สัญลักษณ์ต่าง ๆ ที่เกี่ยวข้อง และมีฟังก์ชันสำหรับแยกแยะ และจัดการ String ภาษาไทย"
      ]
    },
    {
      "cell_type": "markdown",
      "metadata": {
        "id": "gcwm-PUZazCo",
        "colab_type": "text"
      },
      "source": [
        "## 2.1 อักษรไทย"
      ]
    },
    {
      "cell_type": "markdown",
      "metadata": {
        "id": "mzGmuD88X1c6",
        "colab_type": "text"
      },
      "source": [
        "### Set ของ Character อักษรไทยทั้งหมด ที่เกี่ยวข้อง\n",
        "\n",
        "ในรูปแบบ String เพื่อให้สะดวกในการนำไปใช้"
      ]
    },
    {
      "cell_type": "code",
      "metadata": {
        "colab_type": "code",
        "id": "GAvoeZg3Igp-",
        "outputId": "48da243f-6034-40fb-c541-c31e929b094e",
        "colab": {
          "base_uri": "https://localhost:8080/",
          "height": 34
        }
      },
      "source": [
        "pythainlp.thai_characters"
      ],
      "execution_count": 6,
      "outputs": [
        {
          "output_type": "execute_result",
          "data": {
            "text/plain": [
              "'กขฃคฅฆงจฉชซฌญฎฏฐฑฒณดตถทธนบปผฝพฟภมยรลวศษสหฬอฮฤฦะัาำิีึืุูเแโใไๅ็่้๊๋ฯๆฺ์ํ๎๏๚๛๐๑๒๓๔๕๖๗๘๙฿'"
            ]
          },
          "metadata": {
            "tags": []
          },
          "execution_count": 6
        }
      ]
    },
    {
      "cell_type": "markdown",
      "metadata": {
        "id": "5NFCVT37X7Lk",
        "colab_type": "text"
      },
      "source": [
        "จำนวน 87 ตัวอักษร"
      ]
    },
    {
      "cell_type": "code",
      "metadata": {
        "id": "a-LVOR_DsEW-",
        "colab_type": "code",
        "outputId": "7fd99349-a67a-4f55-90c1-c23495894275",
        "colab": {
          "base_uri": "https://localhost:8080/",
          "height": 34
        }
      },
      "source": [
        "len(pythainlp.thai_characters)"
      ],
      "execution_count": 7,
      "outputs": [
        {
          "output_type": "execute_result",
          "data": {
            "text/plain": [
              "87"
            ]
          },
          "metadata": {
            "tags": []
          },
          "execution_count": 7
        }
      ]
    },
    {
      "cell_type": "markdown",
      "metadata": {
        "id": "8bTg51Z8X-Aa",
        "colab_type": "text"
      },
      "source": [
        "### เฉพาะ พยัญชนะ"
      ]
    },
    {
      "cell_type": "code",
      "metadata": {
        "colab_type": "code",
        "id": "uPwx53A6IgqF",
        "outputId": "5a481ac1-51c4-4ed4-f93a-a84b7993ce76",
        "colab": {
          "base_uri": "https://localhost:8080/",
          "height": 34
        }
      },
      "source": [
        "pythainlp.thai_consonants"
      ],
      "execution_count": 8,
      "outputs": [
        {
          "output_type": "execute_result",
          "data": {
            "text/plain": [
              "'กขฃคฅฆงจฉชซฌญฎฏฐฑฒณดตถทธนบปผฝพฟภมยรลวศษสหฬอฮ'"
            ]
          },
          "metadata": {
            "tags": []
          },
          "execution_count": 8
        }
      ]
    },
    {
      "cell_type": "markdown",
      "metadata": {
        "id": "0mJJqApbYBa_",
        "colab_type": "text"
      },
      "source": [
        "จำนวน 44 ตัวอักษร"
      ]
    },
    {
      "cell_type": "code",
      "metadata": {
        "id": "0VrucMUusEXG",
        "colab_type": "code",
        "outputId": "cfb846c3-17a7-49cb-ce25-75e1dedc54c6",
        "colab": {
          "base_uri": "https://localhost:8080/",
          "height": 34
        }
      },
      "source": [
        "len(pythainlp.thai_consonants)"
      ],
      "execution_count": 9,
      "outputs": [
        {
          "output_type": "execute_result",
          "data": {
            "text/plain": [
              "44"
            ]
          },
          "metadata": {
            "tags": []
          },
          "execution_count": 9
        }
      ]
    },
    {
      "cell_type": "markdown",
      "metadata": {
        "colab_type": "text",
        "id": "Eftjce43YWfX"
      },
      "source": [
        "### เฉพาะ สระ \n",
        "\n",
        "เช่น สระอะ สระอา สระอิ สระอี etc..."
      ]
    },
    {
      "cell_type": "code",
      "metadata": {
        "colab_type": "code",
        "outputId": "098c0109-e3e2-4c03-9f1b-4e7976f6ef0e",
        "id": "RTlHd8K_YWfc",
        "colab": {
          "base_uri": "https://localhost:8080/",
          "height": 34
        }
      },
      "source": [
        "pythainlp.thai_vowels"
      ],
      "execution_count": 10,
      "outputs": [
        {
          "output_type": "execute_result",
          "data": {
            "text/plain": [
              "'ฤฦะัาำิีึืุูเแโใไๅ็'"
            ]
          },
          "metadata": {
            "tags": []
          },
          "execution_count": 10
        }
      ]
    },
    {
      "cell_type": "markdown",
      "metadata": {
        "colab_type": "text",
        "id": "97KOsJRDYWfh"
      },
      "source": [
        "จำนวน 19 ตัวอักษร"
      ]
    },
    {
      "cell_type": "code",
      "metadata": {
        "colab_type": "code",
        "outputId": "589d943e-faa7-4d11-b1e3-ef8b88e3d82f",
        "id": "LLQB7E2bYWfi",
        "colab": {
          "base_uri": "https://localhost:8080/",
          "height": 34
        }
      },
      "source": [
        "len(pythainlp.thai_vowels)"
      ],
      "execution_count": 11,
      "outputs": [
        {
          "output_type": "execute_result",
          "data": {
            "text/plain": [
              "19"
            ]
          },
          "metadata": {
            "tags": []
          },
          "execution_count": 11
        }
      ]
    },
    {
      "cell_type": "markdown",
      "metadata": {
        "colab_type": "text",
        "id": "m20yZLGXYYBF"
      },
      "source": [
        "### เฉพาะ วรรณยุกต์"
      ]
    },
    {
      "cell_type": "code",
      "metadata": {
        "colab_type": "code",
        "outputId": "a124bf63-2c7f-405e-e831-8481f7bfbcc3",
        "id": "HOIHcf5BYYBI",
        "colab": {
          "base_uri": "https://localhost:8080/",
          "height": 34
        }
      },
      "source": [
        "pythainlp.thai_tonemarks"
      ],
      "execution_count": 12,
      "outputs": [
        {
          "output_type": "execute_result",
          "data": {
            "text/plain": [
              "'่้๊๋'"
            ]
          },
          "metadata": {
            "tags": []
          },
          "execution_count": 12
        }
      ]
    },
    {
      "cell_type": "markdown",
      "metadata": {
        "colab_type": "text",
        "id": "ezduc6AzYYBN"
      },
      "source": [
        "จำนวน 4 ตัวอักษร ไม้เอก ไม้โท ไม้ตรี ไม้จัตวา"
      ]
    },
    {
      "cell_type": "code",
      "metadata": {
        "colab_type": "code",
        "outputId": "4ec8d126-2a22-4d1d-8f30-9dcb56e81db5",
        "id": "adhJO6buYYBO",
        "colab": {
          "base_uri": "https://localhost:8080/",
          "height": 34
        }
      },
      "source": [
        "len(pythainlp.thai_tonemarks)"
      ],
      "execution_count": 13,
      "outputs": [
        {
          "output_type": "execute_result",
          "data": {
            "text/plain": [
              "4"
            ]
          },
          "metadata": {
            "tags": []
          },
          "execution_count": 13
        }
      ]
    },
    {
      "cell_type": "markdown",
      "metadata": {
        "colab_type": "text",
        "id": "mfPmEXAdZrwC"
      },
      "source": [
        "### เฉพาะ เครื่องหมายที่เกี่ยวข้อง \n",
        "\n",
        "เช่น ไม้ยมก ไปยาลน้อย ทัณฑฆาต (ตัวการันต์) etc."
      ]
    },
    {
      "cell_type": "code",
      "metadata": {
        "colab_type": "code",
        "outputId": "bde3607e-209b-4c3f-8498-a55608a2babc",
        "id": "dKK_JQJaZrwH",
        "colab": {
          "base_uri": "https://localhost:8080/",
          "height": 34
        }
      },
      "source": [
        "pythainlp.thai_signs"
      ],
      "execution_count": 14,
      "outputs": [
        {
          "output_type": "execute_result",
          "data": {
            "text/plain": [
              "'ฯๆฺ์ํ๎'"
            ]
          },
          "metadata": {
            "tags": []
          },
          "execution_count": 14
        }
      ]
    },
    {
      "cell_type": "markdown",
      "metadata": {
        "colab_type": "text",
        "id": "5Xru3b1kZrwM"
      },
      "source": [
        "จำนวน 6 ตัวอักษร "
      ]
    },
    {
      "cell_type": "code",
      "metadata": {
        "colab_type": "code",
        "outputId": "14f9b5b7-41b7-4b5f-ab06-297de41511ea",
        "id": "rQfoqD6NZrwN",
        "colab": {
          "base_uri": "https://localhost:8080/",
          "height": 34
        }
      },
      "source": [
        "len(pythainlp.thai_signs)"
      ],
      "execution_count": 15,
      "outputs": [
        {
          "output_type": "execute_result",
          "data": {
            "text/plain": [
              "6"
            ]
          },
          "metadata": {
            "tags": []
          },
          "execution_count": 15
        }
      ]
    },
    {
      "cell_type": "markdown",
      "metadata": {
        "id": "e3YXathFc4cn",
        "colab_type": "text"
      },
      "source": [
        "### เครื่องหมายวรรคตอน\n",
        "\n",
        "ได้แก่ ฟองมัน (ตาไก่),อังคั่นคู่ (คั่นคู่), โคมูตร (เยี่ยววัว)"
      ]
    },
    {
      "cell_type": "code",
      "metadata": {
        "id": "7mX0nooScTkV",
        "colab_type": "code",
        "outputId": "0bd2f84a-7fde-483e-ef12-bb29adad64bb",
        "colab": {
          "base_uri": "https://localhost:8080/",
          "height": 34
        }
      },
      "source": [
        "pythainlp.thai_punctuations"
      ],
      "execution_count": 16,
      "outputs": [
        {
          "output_type": "execute_result",
          "data": {
            "text/plain": [
              "'๏๚๛'"
            ]
          },
          "metadata": {
            "tags": []
          },
          "execution_count": 16
        }
      ]
    },
    {
      "cell_type": "markdown",
      "metadata": {
        "colab_type": "text",
        "id": "qberoiz5YY7m"
      },
      "source": [
        "### เลขไทย"
      ]
    },
    {
      "cell_type": "code",
      "metadata": {
        "colab_type": "code",
        "outputId": "fde474a6-fc17-48e4-b0c1-93957e025bae",
        "id": "2PgJ5Hf5YY7n",
        "colab": {
          "base_uri": "https://localhost:8080/",
          "height": 34
        }
      },
      "source": [
        "pythainlp.thai_digits"
      ],
      "execution_count": 17,
      "outputs": [
        {
          "output_type": "execute_result",
          "data": {
            "text/plain": [
              "'๐๑๒๓๔๕๖๗๘๙'"
            ]
          },
          "metadata": {
            "tags": []
          },
          "execution_count": 17
        }
      ]
    },
    {
      "cell_type": "markdown",
      "metadata": {
        "id": "ImAqtVQYcZcp",
        "colab_type": "text"
      },
      "source": [
        "จำนวน 10 ตัวอักษร"
      ]
    },
    {
      "cell_type": "code",
      "metadata": {
        "id": "HzgZv1X8cXiP",
        "colab_type": "code",
        "outputId": "9fa9a1f7-12ef-4280-d206-8d3966d41b86",
        "colab": {
          "base_uri": "https://localhost:8080/",
          "height": 34
        }
      },
      "source": [
        "len(pythainlp.thai_digits)"
      ],
      "execution_count": 18,
      "outputs": [
        {
          "output_type": "execute_result",
          "data": {
            "text/plain": [
              "10"
            ]
          },
          "metadata": {
            "tags": []
          },
          "execution_count": 18
        }
      ]
    },
    {
      "cell_type": "markdown",
      "metadata": {
        "id": "xofm9yaRaM5f",
        "colab_type": "text"
      },
      "source": [
        "### สัญลักษณ์ สกุลเงินของประเทศไทย เงินบาท"
      ]
    },
    {
      "cell_type": "code",
      "metadata": {
        "id": "5qHHPkIfYS8m",
        "colab_type": "code",
        "outputId": "f0a50777-99d1-4433-f1b1-793cd694ea2d",
        "colab": {
          "base_uri": "https://localhost:8080/",
          "height": 34
        }
      },
      "source": [
        "pythainlp.thai_symbols"
      ],
      "execution_count": 19,
      "outputs": [
        {
          "output_type": "execute_result",
          "data": {
            "text/plain": [
              "'฿'"
            ]
          },
          "metadata": {
            "tags": []
          },
          "execution_count": 19
        }
      ]
    },
    {
      "cell_type": "markdown",
      "metadata": {
        "colab_type": "text",
        "id": "bG4urTbfYY7e"
      },
      "source": [
        "### รวม อักษรไทย\n",
        "\n",
        "พยัญชนะ สระ วรรณยุกต์ "
      ]
    },
    {
      "cell_type": "code",
      "metadata": {
        "colab_type": "code",
        "outputId": "b0b79992-4b62-4b26-a20e-ba82f1c992c8",
        "id": "wa0XAZg1YY7f",
        "colab": {
          "base_uri": "https://localhost:8080/",
          "height": 34
        }
      },
      "source": [
        "pythainlp.thai_letters"
      ],
      "execution_count": 20,
      "outputs": [
        {
          "output_type": "execute_result",
          "data": {
            "text/plain": [
              "'กขฃคฅฆงจฉชซฌญฎฏฐฑฒณดตถทธนบปผฝพฟภมยรลวศษสหฬอฮฤฦะัาำิีึืุูเแโใไๅ็่้๊๋ฯๆฺ์ํ๎'"
            ]
          },
          "metadata": {
            "tags": []
          },
          "execution_count": 20
        }
      ]
    },
    {
      "cell_type": "markdown",
      "metadata": {
        "id": "5E2qgTVXYTIL",
        "colab_type": "text"
      },
      "source": [
        "## 2.2 เช็คว่าเป็นภาษาไทย"
      ]
    },
    {
      "cell_type": "markdown",
      "metadata": {
        "id": "GTQ-4jlSeICl",
        "colab_type": "text"
      },
      "source": [
        "### เช็คว่าอยู่ใน Set ของ Character อักษาไทยด้านบน"
      ]
    },
    {
      "cell_type": "code",
      "metadata": {
        "colab_type": "code",
        "id": "5UA7Hwy_IgqI",
        "outputId": "fce27c2e-935e-48f6-bf8b-c8c449fddc5f",
        "colab": {
          "base_uri": "https://localhost:8080/",
          "height": 34
        }
      },
      "source": [
        "\"๔\" in pythainlp.thai_digits  "
      ],
      "execution_count": 21,
      "outputs": [
        {
          "output_type": "execute_result",
          "data": {
            "text/plain": [
              "True"
            ]
          },
          "metadata": {
            "tags": []
          },
          "execution_count": 21
        }
      ]
    },
    {
      "cell_type": "code",
      "metadata": {
        "colab_type": "code",
        "outputId": "76291d96-f13c-42dc-dd4e-c8caa84d82ce",
        "id": "GQnLTJOKfSWc",
        "colab": {
          "base_uri": "https://localhost:8080/",
          "height": 34
        }
      },
      "source": [
        "\"ๆ\" in pythainlp.thai_letters  "
      ],
      "execution_count": 22,
      "outputs": [
        {
          "output_type": "execute_result",
          "data": {
            "text/plain": [
              "True"
            ]
          },
          "metadata": {
            "tags": []
          },
          "execution_count": 22
        }
      ]
    },
    {
      "cell_type": "code",
      "metadata": {
        "id": "nWShV_a29Xg-",
        "colab_type": "code",
        "outputId": "f760bd5d-a5f4-4b36-bf95-41d1d301961d",
        "colab": {
          "base_uri": "https://localhost:8080/",
          "height": 34
        }
      },
      "source": [
        "\",\" in pythainlp.thai_characters  "
      ],
      "execution_count": 23,
      "outputs": [
        {
          "output_type": "execute_result",
          "data": {
            "text/plain": [
              "False"
            ]
          },
          "metadata": {
            "tags": []
          },
          "execution_count": 23
        }
      ]
    },
    {
      "cell_type": "code",
      "metadata": {
        "id": "npOATI109yIH",
        "colab_type": "code",
        "outputId": "7cbf40e8-d279-4965-9f38-50433a921578",
        "colab": {
          "base_uri": "https://localhost:8080/",
          "height": 34
        }
      },
      "source": [
        "\"+\" in pythainlp.thai_characters  "
      ],
      "execution_count": 24,
      "outputs": [
        {
          "output_type": "execute_result",
          "data": {
            "text/plain": [
              "False"
            ]
          },
          "metadata": {
            "tags": []
          },
          "execution_count": 24
        }
      ]
    },
    {
      "cell_type": "code",
      "metadata": {
        "colab_type": "code",
        "outputId": "2876509a-b775-4474-93c2-5fbabe149761",
        "id": "sD7J9W2efclb",
        "colab": {
          "base_uri": "https://localhost:8080/",
          "height": 34
        }
      },
      "source": [
        "\"&\" in pythainlp.thai_characters  "
      ],
      "execution_count": 25,
      "outputs": [
        {
          "output_type": "execute_result",
          "data": {
            "text/plain": [
              "False"
            ]
          },
          "metadata": {
            "tags": []
          },
          "execution_count": 25
        }
      ]
    },
    {
      "cell_type": "code",
      "metadata": {
        "id": "p-V8RlUwkQEv",
        "colab_type": "code",
        "outputId": "c4db7d4b-eeec-4cfc-b3c6-f894c2f07805",
        "colab": {
          "base_uri": "https://localhost:8080/",
          "height": 34
        }
      },
      "source": [
        "\"K\" in pythainlp.thai_characters  "
      ],
      "execution_count": 26,
      "outputs": [
        {
          "output_type": "execute_result",
          "data": {
            "text/plain": [
              "False"
            ]
          },
          "metadata": {
            "tags": []
          },
          "execution_count": 26
        }
      ]
    },
    {
      "cell_type": "markdown",
      "metadata": {
        "id": "GGGcwST-eY86",
        "colab_type": "text"
      },
      "source": [
        "### ฟังก์ชันเช็คว่าเป็นภาษาไทย หรือไม่"
      ]
    },
    {
      "cell_type": "markdown",
      "metadata": {
        "id": "TKFWZMCRfIod",
        "colab_type": "text"
      },
      "source": [
        "เช็คว่า ตัวอักษรทุกตัว ใน String เป็นภาษาไทย อยู่ใน Set ของ Character pythainlp.thai_characters หรือไม่ return boolean \n",
        "\n",
        "โดย Default จะสนใจทุกตัว รวมถึง Space, (, \", etc. แต่จะยกเว้น \".\" Full Stop เท่านั้น"
      ]
    },
    {
      "cell_type": "code",
      "metadata": {
        "id": "6x0HtgBtmXlv",
        "colab_type": "code",
        "colab": {}
      },
      "source": [
        "import pythainlp.util\n",
        "\n",
        "# pythainlp.util.isthai??\n",
        "# pythainlp.util.isthaichar??"
      ],
      "execution_count": 0,
      "outputs": []
    },
    {
      "cell_type": "code",
      "metadata": {
        "colab_type": "code",
        "id": "t3NvXqYFIgqK",
        "outputId": "8bc88107-e54a-4261-dc97-ecd25eea2054",
        "colab": {
          "base_uri": "https://localhost:8080/",
          "height": 34
        }
      },
      "source": [
        "pythainlp.util.isthai(\"ก\")"
      ],
      "execution_count": 28,
      "outputs": [
        {
          "output_type": "execute_result",
          "data": {
            "text/plain": [
              "True"
            ]
          },
          "metadata": {
            "tags": []
          },
          "execution_count": 28
        }
      ]
    },
    {
      "cell_type": "code",
      "metadata": {
        "colab_type": "code",
        "id": "sRzSQjugIgqM",
        "outputId": "d6c228df-be93-4d3b-d6b0-c5f662a1868b",
        "colab": {
          "base_uri": "https://localhost:8080/",
          "height": 34
        }
      },
      "source": [
        "pythainlp.util.isthai(\"สวัสดีตอนเช้า\")"
      ],
      "execution_count": 29,
      "outputs": [
        {
          "output_type": "execute_result",
          "data": {
            "text/plain": [
              "True"
            ]
          },
          "metadata": {
            "tags": []
          },
          "execution_count": 29
        }
      ]
    },
    {
      "cell_type": "code",
      "metadata": {
        "id": "zhMHA_usnvOT",
        "colab_type": "code",
        "outputId": "f4a04a8a-c3b8-4c89-df53-a8e50cd01b2d",
        "colab": {
          "base_uri": "https://localhost:8080/",
          "height": 34
        }
      },
      "source": [
        "pythainlp.util.isthai(\"สวัสดีตอนเช้า.\")"
      ],
      "execution_count": 30,
      "outputs": [
        {
          "output_type": "execute_result",
          "data": {
            "text/plain": [
              "True"
            ]
          },
          "metadata": {
            "tags": []
          },
          "execution_count": 30
        }
      ]
    },
    {
      "cell_type": "code",
      "metadata": {
        "id": "C4vZX_cxo8Qt",
        "colab_type": "code",
        "outputId": "ab77360d-30f8-493a-e5ce-afd60fb7bb99",
        "colab": {
          "base_uri": "https://localhost:8080/",
          "height": 34
        }
      },
      "source": [
        "pythainlp.util.isthai(\"สวัสดี.ตอนเช้า\")"
      ],
      "execution_count": 31,
      "outputs": [
        {
          "output_type": "execute_result",
          "data": {
            "text/plain": [
              "True"
            ]
          },
          "metadata": {
            "tags": []
          },
          "execution_count": 31
        }
      ]
    },
    {
      "cell_type": "markdown",
      "metadata": {
        "id": "eZ-FpsUe8xz2",
        "colab_type": "text"
      },
      "source": [
        "มีตัวอักษรที่ไม่ใช่ภาษาไทย ปนอยู่ด้วย"
      ]
    },
    {
      "cell_type": "code",
      "metadata": {
        "id": "Jq9nO4YJoM3U",
        "colab_type": "code",
        "outputId": "1c7f2580-a12f-4f38-9b62-f0016dcd348d",
        "colab": {
          "base_uri": "https://localhost:8080/",
          "height": 34
        }
      },
      "source": [
        "pythainlp.util.isthai(\"สวัสดีตอนเช้า กินข้าวหรือยัง?\")"
      ],
      "execution_count": 32,
      "outputs": [
        {
          "output_type": "execute_result",
          "data": {
            "text/plain": [
              "False"
            ]
          },
          "metadata": {
            "tags": []
          },
          "execution_count": 32
        }
      ]
    },
    {
      "cell_type": "markdown",
      "metadata": {
        "id": "iIdOqZiE-Plv",
        "colab_type": "text"
      },
      "source": [
        "ignore question mark ?"
      ]
    },
    {
      "cell_type": "code",
      "metadata": {
        "colab_type": "code",
        "id": "DP5yfJebIgqP",
        "outputId": "7c18ffb1-5c76-4d5e-84c5-255a04f2fe6d",
        "colab": {
          "base_uri": "https://localhost:8080/",
          "height": 34
        }
      },
      "source": [
        "pythainlp.util.isthai(\"สวัสดีตอนเช้า กินข้าวหรือยัง?\", ignore_chars=\"?\")"
      ],
      "execution_count": 33,
      "outputs": [
        {
          "output_type": "execute_result",
          "data": {
            "text/plain": [
              "False"
            ]
          },
          "metadata": {
            "tags": []
          },
          "execution_count": 33
        }
      ]
    },
    {
      "cell_type": "markdown",
      "metadata": {
        "id": "lts5dKQu8skf",
        "colab_type": "text"
      },
      "source": [
        "ยังไม่พอ ต้อง ignore space ด้วย"
      ]
    },
    {
      "cell_type": "code",
      "metadata": {
        "id": "RTyfQryyoSd7",
        "colab_type": "code",
        "outputId": "c66b4207-4274-48e9-fc2f-3b6e16bcd457",
        "colab": {
          "base_uri": "https://localhost:8080/",
          "height": 34
        }
      },
      "source": [
        "pythainlp.util.isthai(\"สวัสดีตอนเช้า กินข้าวหรือยัง?\", ignore_chars=\" ?\")"
      ],
      "execution_count": 34,
      "outputs": [
        {
          "output_type": "execute_result",
          "data": {
            "text/plain": [
              "True"
            ]
          },
          "metadata": {
            "tags": []
          },
          "execution_count": 34
        }
      ]
    },
    {
      "cell_type": "code",
      "metadata": {
        "id": "vFcnsoY1pcK5",
        "colab_type": "code",
        "outputId": "7a6b6352-ee2e-4e6e-e1b2-b41b7c06569c",
        "colab": {
          "base_uri": "https://localhost:8080/",
          "height": 34
        }
      },
      "source": [
        "pythainlp.util.isthai(\"ดัชนีช่วงเช้าปิดที่ระดับ 60,596.53 จุด เพิ่มขึ้น 18.01 จุด หรือ 2.51% มูลค่าการซื้อขาย 8.95 หมื่นล้านบาท\", ignore_chars=\" 0123456789,.%\")"
      ],
      "execution_count": 35,
      "outputs": [
        {
          "output_type": "execute_result",
          "data": {
            "text/plain": [
              "True"
            ]
          },
          "metadata": {
            "tags": []
          },
          "execution_count": 35
        }
      ]
    },
    {
      "cell_type": "markdown",
      "metadata": {
        "id": "9XDhfoKTeQpK",
        "colab_type": "text"
      },
      "source": [
        "### ฟังก์ชันนับตัวหนังสือ ว่าเป็นภาษาไทย กี่เปอร์เซ็นต์"
      ]
    },
    {
      "cell_type": "markdown",
      "metadata": {
        "id": "5vgInhQWq6nt",
        "colab_type": "text"
      },
      "source": [
        "โดย Default แล้ว countthai จะ ignore พวก Whitespace อักษรพิเศษบางตัว และตัวเลข ดังนี้ ' \\t\\n\\r\\x0b\\x0c0123456789!\"#$...'"
      ]
    },
    {
      "cell_type": "code",
      "metadata": {
        "id": "O3utuhQoqhu0",
        "colab_type": "code",
        "colab": {}
      },
      "source": [
        "# pythainlp.util.countthai??"
      ],
      "execution_count": 0,
      "outputs": []
    },
    {
      "cell_type": "code",
      "metadata": {
        "id": "K-CsO3P2FYnJ",
        "colab_type": "code",
        "outputId": "d99504b4-33c9-42f4-d438-d67464029089",
        "colab": {
          "base_uri": "https://localhost:8080/",
          "height": 34
        }
      },
      "source": [
        "pythainlp.util.countthai(\"แมวสีสวาท\")"
      ],
      "execution_count": 37,
      "outputs": [
        {
          "output_type": "execute_result",
          "data": {
            "text/plain": [
              "100.0"
            ]
          },
          "metadata": {
            "tags": []
          },
          "execution_count": 37
        }
      ]
    },
    {
      "cell_type": "code",
      "metadata": {
        "id": "YF-xHayMFdN2",
        "colab_type": "code",
        "outputId": "b95d23b0-8f0b-4d2f-b053-452fb3d3b399",
        "colab": {
          "base_uri": "https://localhost:8080/",
          "height": 34
        }
      },
      "source": [
        "pythainlp.util.countthai(\"แมว cat\")"
      ],
      "execution_count": 38,
      "outputs": [
        {
          "output_type": "execute_result",
          "data": {
            "text/plain": [
              "50.0"
            ]
          },
          "metadata": {
            "tags": []
          },
          "execution_count": 38
        }
      ]
    },
    {
      "cell_type": "code",
      "metadata": {
        "colab_type": "code",
        "id": "87Z8P9WPIgqS",
        "outputId": "5b3fcf7e-8293-47ed-f9e1-36b9a3c70def",
        "colab": {
          "base_uri": "https://localhost:8080/",
          "height": 34
        }
      },
      "source": [
        "pythainlp.util.countthai(\"วันอาทิตย์ที่ 24 มีนาคม 2562\")"
      ],
      "execution_count": 39,
      "outputs": [
        {
          "output_type": "execute_result",
          "data": {
            "text/plain": [
              "100.0"
            ]
          },
          "metadata": {
            "tags": []
          },
          "execution_count": 39
        }
      ]
    },
    {
      "cell_type": "markdown",
      "metadata": {
        "id": "EYpZFAXwrnJy",
        "colab_type": "text"
      },
      "source": [
        "ลองไม่ต้อง ignore Whitespace ใด ๆ"
      ]
    },
    {
      "cell_type": "code",
      "metadata": {
        "colab_type": "code",
        "id": "ukSQP8ZTIgqV",
        "outputId": "b0bbd229-d0ac-4373-ff2c-904a208b5c9b",
        "colab": {
          "base_uri": "https://localhost:8080/",
          "height": 34
        }
      },
      "source": [
        "pythainlp.util.countthai(\"วันอาทิตย์ที่ 24 มีนาคม 2562\", ignore_chars=\"\")"
      ],
      "execution_count": 40,
      "outputs": [
        {
          "output_type": "execute_result",
          "data": {
            "text/plain": [
              "67.85714285714286"
            ]
          },
          "metadata": {
            "tags": []
          },
          "execution_count": 40
        }
      ]
    },
    {
      "cell_type": "markdown",
      "metadata": {
        "id": "MPC4C-7Nezm2",
        "colab_type": "text"
      },
      "source": [
        "# 3. เรียงคำแบบภาษาไทย"
      ]
    },
    {
      "cell_type": "markdown",
      "metadata": {
        "id": "iTwhxKd9r-J6",
        "colab_type": "text"
      },
      "source": [
        "การเรียงคำตามพจนานุกรมภาษาไทย การเรียงคำของภาษาไทย จะมีเรื่องลำดับการผสมคำ ของตัวอักษร และสระ ถ้าสระอยู่หน้าตัวอักษร ทำให้ไม่สามารถใช้เรียงตามรหัสตัวอักษร ใน String แบบตรง ๆ ได้"
      ]
    },
    {
      "cell_type": "code",
      "metadata": {
        "id": "Nq7MdzjJtAKZ",
        "colab_type": "code",
        "colab": {}
      },
      "source": [
        "from pythainlp.util import collate\n",
        "\n",
        "# collate??"
      ],
      "execution_count": 0,
      "outputs": []
    },
    {
      "cell_type": "code",
      "metadata": {
        "colab_type": "code",
        "id": "hT1Pj52bIgqY",
        "outputId": "edffb05b-455d-474c-bc34-3c52bc28181b",
        "colab": {
          "base_uri": "https://localhost:8080/",
          "height": 34
        }
      },
      "source": [
        "thai_words = [\"หมู\", \"เห็ด\", \"เป็ด\", \"ไก่\", \"ช้าง\", \"ม้า\", \"วัว\", \"ควาย\"]\n",
        "collate(thai_words)"
      ],
      "execution_count": 42,
      "outputs": [
        {
          "output_type": "execute_result",
          "data": {
            "text/plain": [
              "['ไก่', 'ควาย', 'ช้าง', 'เป็ด', 'ม้า', 'วัว', 'หมู', 'เห็ด']"
            ]
          },
          "metadata": {
            "tags": []
          },
          "execution_count": 42
        }
      ]
    },
    {
      "cell_type": "code",
      "metadata": {
        "colab_type": "code",
        "id": "XgWpZM8hIgqb",
        "outputId": "6eece3fc-96d5-4861-b220-77eb531050d9",
        "colab": {
          "base_uri": "https://localhost:8080/",
          "height": 34
        }
      },
      "source": [
        "collate(thai_words, reverse=True)"
      ],
      "execution_count": 43,
      "outputs": [
        {
          "output_type": "execute_result",
          "data": {
            "text/plain": [
              "['เห็ด', 'หมู', 'วัว', 'ม้า', 'เป็ด', 'ช้าง', 'ควาย', 'ไก่']"
            ]
          },
          "metadata": {
            "tags": []
          },
          "execution_count": 43
        }
      ]
    },
    {
      "cell_type": "markdown",
      "metadata": {
        "id": "5m_PnBuawTlz",
        "colab_type": "text"
      },
      "source": [
        "เรียงคำไทย ผสมอังกฤษ ผสมตัวเลข"
      ]
    },
    {
      "cell_type": "code",
      "metadata": {
        "id": "gGdNXv0gtTvF",
        "colab_type": "code",
        "outputId": "6f9c16d2-812e-4000-f31c-63141a159b56",
        "colab": {
          "base_uri": "https://localhost:8080/",
          "height": 170
        }
      },
      "source": [
        "thai_words = [\"หมูแดง\", \"หมูทอด\", \"หมู 3 ชั้น\", \"หมูกรอบ\", \"หมูปิ้ง\", \"หมูตุ๋น\", \"หมูแฮม\", \"Suckling pig\", \"Pork chop\"]\n",
        "collate(thai_words)"
      ],
      "execution_count": 44,
      "outputs": [
        {
          "output_type": "execute_result",
          "data": {
            "text/plain": [
              "['Pork chop',\n",
              " 'Suckling pig',\n",
              " 'หมู 3 ชั้น',\n",
              " 'หมูกรอบ',\n",
              " 'หมูแดง',\n",
              " 'หมูตุ๋น',\n",
              " 'หมูทอด',\n",
              " 'หมูปิ้ง',\n",
              " 'หมูแฮม']"
            ]
          },
          "metadata": {
            "tags": []
          },
          "execution_count": 44
        }
      ]
    },
    {
      "cell_type": "markdown",
      "metadata": {
        "id": "-aQkfLBVe9sc",
        "colab_type": "text"
      },
      "source": [
        "# 4. วันที่ และเวลา ภาษาไทย"
      ]
    },
    {
      "cell_type": "markdown",
      "metadata": {
        "id": "A1fBvlwz0GrE",
        "colab_type": "text"
      },
      "source": [
        "## 4.1 Datetime Format"
      ]
    },
    {
      "cell_type": "markdown",
      "metadata": {
        "id": "RRLzWD9_w5jX",
        "colab_type": "text"
      },
      "source": [
        "รูปแบบ Date Format ของ ปีพุทธศักราช Thai Buddhist Era (B.E.). ใช้ formatting directive จาก datetime.strftime()"
      ]
    },
    {
      "cell_type": "code",
      "metadata": {
        "id": "K9BfB5mLxY7B",
        "colab_type": "code",
        "colab": {}
      },
      "source": [
        "import datetime\n",
        "from pythainlp.util import thai_strftime\n",
        "# thai_strftime??"
      ],
      "execution_count": 0,
      "outputs": []
    },
    {
      "cell_type": "code",
      "metadata": {
        "colab_type": "code",
        "id": "F03_rMWzIgqe",
        "outputId": "bd915577-801d-44ea-c7b7-10d61151c0a5",
        "colab": {
          "base_uri": "https://localhost:8080/",
          "height": 34
        }
      },
      "source": [
        "date = datetime.datetime(2020, 12, 31, 23, 59)\n",
        "\n",
        "fmt = \"%Aที่ %-d %B พ.ศ. %Y เวลา %H:%M น.\"\n",
        "thai_strftime(date, fmt)"
      ],
      "execution_count": 46,
      "outputs": [
        {
          "output_type": "execute_result",
          "data": {
            "text/plain": [
              "'วันพฤหัสบดีที่ 31 ธันวาคม พ.ศ. 2563 เวลา 23:59 น.'"
            ]
          },
          "metadata": {
            "tags": []
          },
          "execution_count": 46
        }
      ]
    },
    {
      "cell_type": "code",
      "metadata": {
        "id": "1w4IaQmpxgfw",
        "colab_type": "code",
        "outputId": "65cdeb00-04fb-4c02-dad4-30d0fdf95b72",
        "colab": {
          "base_uri": "https://localhost:8080/",
          "height": 34
        }
      },
      "source": [
        "fmt = \"%d-%b-%y\"\n",
        "thai_strftime(date, fmt)"
      ],
      "execution_count": 47,
      "outputs": [
        {
          "output_type": "execute_result",
          "data": {
            "text/plain": [
              "'31-ธ.ค.-63'"
            ]
          },
          "metadata": {
            "tags": []
          },
          "execution_count": 47
        }
      ]
    },
    {
      "cell_type": "markdown",
      "metadata": {
        "id": "-R7M8p4lzhPz",
        "colab_type": "text"
      },
      "source": [
        "ที่ใช้กันทั่วไป"
      ]
    },
    {
      "cell_type": "code",
      "metadata": {
        "id": "nt6rdK2qzbsI",
        "colab_type": "code",
        "outputId": "5ec2edc7-35b1-425d-efd9-98e0c3fc192d",
        "colab": {
          "base_uri": "https://localhost:8080/",
          "height": 34
        }
      },
      "source": [
        "fmt = \"%c\"\n",
        "thai_strftime(date, fmt)"
      ],
      "execution_count": 48,
      "outputs": [
        {
          "output_type": "execute_result",
          "data": {
            "text/plain": [
              "'พฤ 31 ธ.ค. 23:59:00 2563'"
            ]
          },
          "metadata": {
            "tags": []
          },
          "execution_count": 48
        }
      ]
    },
    {
      "cell_type": "code",
      "metadata": {
        "id": "nEjiElk2zbyU",
        "colab_type": "code",
        "outputId": "9699276e-bfef-4103-c49c-cf0f18e4b218",
        "colab": {
          "base_uri": "https://localhost:8080/",
          "height": 34
        }
      },
      "source": [
        "fmt = \"%v\"\n",
        "thai_strftime(date, fmt)"
      ],
      "execution_count": 49,
      "outputs": [
        {
          "output_type": "execute_result",
          "data": {
            "text/plain": [
              "'31-ธ.ค.-2563'"
            ]
          },
          "metadata": {
            "tags": []
          },
          "execution_count": 49
        }
      ]
    },
    {
      "cell_type": "markdown",
      "metadata": {
        "id": "zxp_uDVFzJNo",
        "colab_type": "text"
      },
      "source": [
        "ใช้เลขไทย"
      ]
    },
    {
      "cell_type": "code",
      "metadata": {
        "id": "vF2DcBAJxglD",
        "colab_type": "code",
        "outputId": "968dfc5e-df42-48f1-c2a7-8a1452992674",
        "colab": {
          "base_uri": "https://localhost:8080/",
          "height": 34
        }
      },
      "source": [
        "fmt = \"%Aที่ %-d %B พ.ศ. %Y เวลา %H:%M น. (%a %d-%b-%y)\"\n",
        "thai_strftime(date, fmt, thaidigit=True)"
      ],
      "execution_count": 50,
      "outputs": [
        {
          "output_type": "execute_result",
          "data": {
            "text/plain": [
              "'วันพฤหัสบดีที่ ๓๑ ธันวาคม พ.ศ. ๒๕๖๓ เวลา ๒๓:๕๙ น. (พฤ ๓๑-ธ.ค.-๖๓)'"
            ]
          },
          "metadata": {
            "tags": []
          },
          "execution_count": 50
        }
      ]
    },
    {
      "cell_type": "markdown",
      "metadata": {
        "id": "z3xMhs7a0CaE",
        "colab_type": "text"
      },
      "source": [
        "## 4.2 คำอ่านเวลาเป็นภาษาไทย"
      ]
    },
    {
      "cell_type": "markdown",
      "metadata": {
        "id": "b4W9yY0d6V8t",
        "colab_type": "text"
      },
      "source": [
        "### ฟังก์ชัน thai_time \n",
        "\n",
        "ที่รับ String, Date แล้ว return คำอ่านเป็นภาษาไทย"
      ]
    },
    {
      "cell_type": "code",
      "metadata": {
        "id": "RA6vRbQ50iRD",
        "colab_type": "code",
        "colab": {}
      },
      "source": [
        "from pythainlp.util import thai_time\n",
        "# thai_time??"
      ],
      "execution_count": 0,
      "outputs": []
    },
    {
      "cell_type": "code",
      "metadata": {
        "id": "ZRv4iJM-sEX2",
        "colab_type": "code",
        "outputId": "1d1eb0cc-e9df-4512-d8cc-4b4b64a97371",
        "colab": {
          "base_uri": "https://localhost:8080/",
          "height": 34
        }
      },
      "source": [
        "thai_time(\"00:01:19\")"
      ],
      "execution_count": 52,
      "outputs": [
        {
          "output_type": "execute_result",
          "data": {
            "text/plain": [
              "'ศูนย์นาฬิกาหนึ่งนาทีสิบเก้าวินาที'"
            ]
          },
          "metadata": {
            "tags": []
          },
          "execution_count": 52
        }
      ]
    },
    {
      "cell_type": "code",
      "metadata": {
        "id": "dfSnieWE1PMw",
        "colab_type": "code",
        "outputId": "00559d62-66a8-45b3-fefc-7d01c57de5dc",
        "colab": {
          "base_uri": "https://localhost:8080/",
          "height": 34
        }
      },
      "source": [
        "thai_time(\"00:00:01\")"
      ],
      "execution_count": 53,
      "outputs": [
        {
          "output_type": "execute_result",
          "data": {
            "text/plain": [
              "'ศูนย์นาฬิกาหนึ่งวินาที'"
            ]
          },
          "metadata": {
            "tags": []
          },
          "execution_count": 53
        }
      ]
    },
    {
      "cell_type": "code",
      "metadata": {
        "id": "kehF5Tv31UbS",
        "colab_type": "code",
        "outputId": "71f58366-587f-4b8b-ff2a-7ccb1959354f",
        "colab": {
          "base_uri": "https://localhost:8080/",
          "height": 34
        }
      },
      "source": [
        "thai_time(\"00:01:00\")"
      ],
      "execution_count": 54,
      "outputs": [
        {
          "output_type": "execute_result",
          "data": {
            "text/plain": [
              "'ศูนย์นาฬิกาหนึ่งนาที'"
            ]
          },
          "metadata": {
            "tags": []
          },
          "execution_count": 54
        }
      ]
    },
    {
      "cell_type": "code",
      "metadata": {
        "id": "1-DsOIdn1aWN",
        "colab_type": "code",
        "outputId": "457ff06e-9bc8-4f80-b6bc-3fd289f6582b",
        "colab": {
          "base_uri": "https://localhost:8080/",
          "height": 34
        }
      },
      "source": [
        "thai_time(\"01:00:00\")"
      ],
      "execution_count": 55,
      "outputs": [
        {
          "output_type": "execute_result",
          "data": {
            "text/plain": [
              "'หนึ่งนาฬิกา'"
            ]
          },
          "metadata": {
            "tags": []
          },
          "execution_count": 55
        }
      ]
    },
    {
      "cell_type": "code",
      "metadata": {
        "id": "vaRqGGp81LOM",
        "colab_type": "code",
        "outputId": "bbc89bed-0deb-46e4-b45b-51c82682a8c4",
        "colab": {
          "base_uri": "https://localhost:8080/",
          "height": 34
        }
      },
      "source": [
        "thai_time(\"00:00:00\")"
      ],
      "execution_count": 56,
      "outputs": [
        {
          "output_type": "execute_result",
          "data": {
            "text/plain": [
              "'ศูนย์นาฬิกา'"
            ]
          },
          "metadata": {
            "tags": []
          },
          "execution_count": 56
        }
      ]
    },
    {
      "cell_type": "code",
      "metadata": {
        "id": "c948CjG006gN",
        "colab_type": "code",
        "outputId": "275a5eaf-2823-422b-e129-4c9b18fccbc4",
        "colab": {
          "base_uri": "https://localhost:8080/",
          "height": 34
        }
      },
      "source": [
        "thai_time(\"23:59:00\")"
      ],
      "execution_count": 57,
      "outputs": [
        {
          "output_type": "execute_result",
          "data": {
            "text/plain": [
              "'ยี่สิบสามนาฬิกาห้าสิบเก้านาที'"
            ]
          },
          "metadata": {
            "tags": []
          },
          "execution_count": 57
        }
      ]
    },
    {
      "cell_type": "markdown",
      "metadata": {
        "id": "x0PFK-sf1m4z",
        "colab_type": "text"
      },
      "source": [
        "เราสามารถระบุรูปแบบของคำอ่านได้ด้วย fmt เช่น 24h, 6h และ m6h "
      ]
    },
    {
      "cell_type": "code",
      "metadata": {
        "id": "Cth_WUBW1-vq",
        "colab_type": "code",
        "outputId": "5d0de466-0168-4337-c84d-9d3a5e764981",
        "colab": {
          "base_uri": "https://localhost:8080/",
          "height": 34
        }
      },
      "source": [
        "thai_time(\"19:30:01\", fmt=\"24h\")"
      ],
      "execution_count": 58,
      "outputs": [
        {
          "output_type": "execute_result",
          "data": {
            "text/plain": [
              "'สิบเก้านาฬิกาสามสิบนาทีหนึ่งวินาที'"
            ]
          },
          "metadata": {
            "tags": []
          },
          "execution_count": 58
        }
      ]
    },
    {
      "cell_type": "code",
      "metadata": {
        "id": "uJwTH5mjsEX6",
        "colab_type": "code",
        "outputId": "667845c4-02c3-45a4-dffd-3dfa3c1f4e29",
        "colab": {
          "base_uri": "https://localhost:8080/",
          "height": 34
        }
      },
      "source": [
        "thai_time(\"19:30:01\", fmt=\"6h\")"
      ],
      "execution_count": 59,
      "outputs": [
        {
          "output_type": "execute_result",
          "data": {
            "text/plain": [
              "'หนึ่งทุ่มสามสิบนาทีหนึ่งวินาที'"
            ]
          },
          "metadata": {
            "tags": []
          },
          "execution_count": 59
        }
      ]
    },
    {
      "cell_type": "code",
      "metadata": {
        "id": "P7hr82YB6N0p",
        "colab_type": "code",
        "outputId": "34049822-5792-436c-983e-f60dca49cc81",
        "colab": {
          "base_uri": "https://localhost:8080/",
          "height": 34
        }
      },
      "source": [
        "thai_time(\"05:00:07\", fmt=\"24h\")"
      ],
      "execution_count": 60,
      "outputs": [
        {
          "output_type": "execute_result",
          "data": {
            "text/plain": [
              "'ห้านาฬิกาเจ็ดวินาที'"
            ]
          },
          "metadata": {
            "tags": []
          },
          "execution_count": 60
        }
      ]
    },
    {
      "cell_type": "code",
      "metadata": {
        "id": "bNqW6Cu_598M",
        "colab_type": "code",
        "outputId": "61fa3fe5-c240-4acf-a6dc-20485e2960c7",
        "colab": {
          "base_uri": "https://localhost:8080/",
          "height": 34
        }
      },
      "source": [
        "thai_time(\"05:00:07\", fmt=\"6h\")"
      ],
      "execution_count": 61,
      "outputs": [
        {
          "output_type": "execute_result",
          "data": {
            "text/plain": [
              "'ตีห้าเจ็ดวินาที'"
            ]
          },
          "metadata": {
            "tags": []
          },
          "execution_count": 61
        }
      ]
    },
    {
      "cell_type": "markdown",
      "metadata": {
        "id": "PlJFO_u46moz",
        "colab_type": "text"
      },
      "source": [
        "### thai_time Date Format"
      ]
    },
    {
      "cell_type": "markdown",
      "metadata": {
        "id": "WELdHOxn28PT",
        "colab_type": "text"
      },
      "source": [
        "6 Hour และ Modified 6 Hour Format"
      ]
    },
    {
      "cell_type": "code",
      "metadata": {
        "id": "qSslk8Mf2kE6",
        "colab_type": "code",
        "outputId": "d0fc3a93-a352-48f3-92fd-4bb43e4bc44b",
        "colab": {
          "base_uri": "https://localhost:8080/",
          "height": 34
        }
      },
      "source": [
        "thai_time(\"08:28:59\", fmt=\"6h\")"
      ],
      "execution_count": 62,
      "outputs": [
        {
          "output_type": "execute_result",
          "data": {
            "text/plain": [
              "'สองโมงเช้ายี่สิบแปดนาทีห้าสิบเก้าวินาที'"
            ]
          },
          "metadata": {
            "tags": []
          },
          "execution_count": 62
        }
      ]
    },
    {
      "cell_type": "code",
      "metadata": {
        "id": "NKDDI05F1-jY",
        "colab_type": "code",
        "outputId": "1e8ac63a-c0a2-4b47-983c-4e1b985f5f05",
        "colab": {
          "base_uri": "https://localhost:8080/",
          "height": 34
        }
      },
      "source": [
        "thai_time(\"08:28:59\", fmt=\"m6h\")"
      ],
      "execution_count": 63,
      "outputs": [
        {
          "output_type": "execute_result",
          "data": {
            "text/plain": [
              "'แปดโมงยี่สิบแปดนาทีห้าสิบเก้าวินาที'"
            ]
          },
          "metadata": {
            "tags": []
          },
          "execution_count": 63
        }
      ]
    },
    {
      "cell_type": "markdown",
      "metadata": {
        "id": "QLAMfRXU6ujo",
        "colab_type": "text"
      },
      "source": [
        "### thai_time precision"
      ]
    },
    {
      "cell_type": "markdown",
      "metadata": {
        "id": "A80e5db83MnC",
        "colab_type": "text"
      },
      "source": [
        "เราสามารถระบุความละเอียด ด้วย `precision` ว่าจะให้อ่านถึง `m` นาที หรือ `s` วินาที หรือ None ให้ข้ามค่าที่เท่ากับศูนย์ (Default)"
      ]
    },
    {
      "cell_type": "code",
      "metadata": {
        "id": "2RZa7j-qsEX_",
        "colab_type": "code",
        "outputId": "283ed51d-22de-4857-9043-0a76a46a6a3b",
        "colab": {
          "base_uri": "https://localhost:8080/",
          "height": 34
        }
      },
      "source": [
        "thai_time(\"11:48:59\", precision=\"m\")"
      ],
      "execution_count": 64,
      "outputs": [
        {
          "output_type": "execute_result",
          "data": {
            "text/plain": [
              "'สิบเอ็ดนาฬิกาสี่สิบแปดนาที'"
            ]
          },
          "metadata": {
            "tags": []
          },
          "execution_count": 64
        }
      ]
    },
    {
      "cell_type": "code",
      "metadata": {
        "id": "tUcNapgUsEYG",
        "colab_type": "code",
        "outputId": "f7a8b8f1-1b85-4c3a-be8a-4e95c848f498",
        "colab": {
          "base_uri": "https://localhost:8080/",
          "height": 85
        }
      },
      "source": [
        "print(thai_time(\"11:00:00\", fmt=\"24h\"))\n",
        "print(thai_time(\"11:00:00\", fmt=\"24h\", precision=\"s\"))\n",
        "print(thai_time(\"11:00:00\", fmt=\"24h\", precision=\"m\"))\n",
        "print(thai_time(\"11:00:00\", fmt=\"24h\", precision=None))"
      ],
      "execution_count": 65,
      "outputs": [
        {
          "output_type": "stream",
          "text": [
            "สิบเอ็ดนาฬิกา\n",
            "สิบเอ็ดนาฬิกาศูนย์นาทีศูนย์วินาที\n",
            "สิบเอ็ดนาฬิกาศูนย์นาที\n",
            "สิบเอ็ดนาฬิกา\n"
          ],
          "name": "stdout"
        }
      ]
    },
    {
      "cell_type": "code",
      "metadata": {
        "id": "kG6KFOkK4DVH",
        "colab_type": "code",
        "outputId": "dd430467-431e-42a9-89c6-bd28a3adb880",
        "colab": {
          "base_uri": "https://localhost:8080/",
          "height": 85
        }
      },
      "source": [
        "print(thai_time(\"11:48:00\", fmt=\"6h\"))\n",
        "print(thai_time(\"11:48:00\", fmt=\"6h\", precision=\"s\"))\n",
        "print(thai_time(\"11:48:00\", fmt=\"6h\", precision=\"m\"))\n",
        "print(thai_time(\"11:48:00\", fmt=\"6h\", precision=None))"
      ],
      "execution_count": 66,
      "outputs": [
        {
          "output_type": "stream",
          "text": [
            "ห้าโมงเช้าสี่สิบแปดนาที\n",
            "ห้าโมงเช้าสี่สิบแปดนาทีศูนย์วินาที\n",
            "ห้าโมงเช้าสี่สิบแปดนาที\n",
            "ห้าโมงเช้าสี่สิบแปดนาที\n"
          ],
          "name": "stdout"
        }
      ]
    },
    {
      "cell_type": "code",
      "metadata": {
        "id": "JaYTEWMn5UVa",
        "colab_type": "code",
        "outputId": "a117af51-454b-47bc-a702-9f66745c171b",
        "colab": {
          "base_uri": "https://localhost:8080/",
          "height": 85
        }
      },
      "source": [
        "print(thai_time(\"07:00:00\", fmt=\"m6h\"))\n",
        "print(thai_time(\"07:00:00\", fmt=\"m6h\", precision=\"s\"))\n",
        "print(thai_time(\"07:00:00\", fmt=\"m6h\", precision=\"m\"))\n",
        "print(thai_time(\"07:00:00\", fmt=\"m6h\", precision=None))"
      ],
      "execution_count": 67,
      "outputs": [
        {
          "output_type": "stream",
          "text": [
            "เจ็ดโมง\n",
            "เจ็ดโมงศูนย์นาทีศูนย์วินาที\n",
            "เจ็ดโมงศูนย์นาที\n",
            "เจ็ดโมง\n"
          ],
          "name": "stdout"
        }
      ]
    },
    {
      "cell_type": "markdown",
      "metadata": {
        "id": "eWLazdup7xEt",
        "colab_type": "text"
      },
      "source": [
        "นอกจาก `string` เราสามารถ pass `datetime` และ `time` object ให้ฟังก์ชัน thai_time "
      ]
    },
    {
      "cell_type": "code",
      "metadata": {
        "id": "cWYqvKAy8JhI",
        "colab_type": "code",
        "colab": {}
      },
      "source": [
        "import datetime"
      ],
      "execution_count": 0,
      "outputs": []
    },
    {
      "cell_type": "code",
      "metadata": {
        "id": "ByXKbOn3sEYL",
        "colab_type": "code",
        "outputId": "cd29e767-a303-474d-d036-9f6ebdda193d",
        "colab": {
          "base_uri": "https://localhost:8080/",
          "height": 34
        }
      },
      "source": [
        "time = datetime.time(23, 59, 58)\n",
        "thai_time(time)"
      ],
      "execution_count": 69,
      "outputs": [
        {
          "output_type": "execute_result",
          "data": {
            "text/plain": [
              "'ยี่สิบสามนาฬิกาห้าสิบเก้านาทีห้าสิบแปดวินาที'"
            ]
          },
          "metadata": {
            "tags": []
          },
          "execution_count": 69
        }
      ]
    },
    {
      "cell_type": "code",
      "metadata": {
        "id": "JZFoN5LasEYO",
        "colab_type": "code",
        "outputId": "464e1790-78d3-4eed-86fa-fc0fcc8a95d6",
        "colab": {
          "base_uri": "https://localhost:8080/",
          "height": 34
        }
      },
      "source": [
        "time = datetime.datetime(1980, 12, 31, 23, 58, 57)\n",
        "thai_time(time, fmt=\"6h\", precision=\"m\")"
      ],
      "execution_count": 70,
      "outputs": [
        {
          "output_type": "execute_result",
          "data": {
            "text/plain": [
              "'ห้าทุ่มห้าสิบแปดนาที'"
            ]
          },
          "metadata": {
            "tags": []
          },
          "execution_count": 70
        }
      ]
    },
    {
      "cell_type": "markdown",
      "metadata": {
        "id": "9kyqmsttDmrI",
        "colab_type": "text"
      },
      "source": [
        "# 5. อ่านตัวเลข และอ่านจำนวนเงินบาท"
      ]
    },
    {
      "cell_type": "markdown",
      "metadata": {
        "id": "Ts9bxsaiDvPn",
        "colab_type": "text"
      },
      "source": [
        "อ่านจำนวนเงินบาท เป็นภาษาไทย"
      ]
    },
    {
      "cell_type": "code",
      "metadata": {
        "id": "fH8nz43wD4wV",
        "colab_type": "code",
        "colab": {}
      },
      "source": [
        "from pythainlp.util import num_to_thaiword, thaiword_to_num, bahttext\n",
        "# num_to_thaiword??\n",
        "# thaiword_to_num??\n",
        "# bahttext??"
      ],
      "execution_count": 0,
      "outputs": []
    },
    {
      "cell_type": "markdown",
      "metadata": {
        "id": "86_trxpEFyob",
        "colab_type": "text"
      },
      "source": [
        "รับได้แต่ integer"
      ]
    },
    {
      "cell_type": "code",
      "metadata": {
        "id": "4t3qCc6nFsJn",
        "colab_type": "code",
        "outputId": "9fab268f-62a8-4280-df3f-8f337c3b66cc",
        "colab": {
          "base_uri": "https://localhost:8080/",
          "height": 34
        }
      },
      "source": [
        "num_to_thaiword(123456789)"
      ],
      "execution_count": 72,
      "outputs": [
        {
          "output_type": "execute_result",
          "data": {
            "text/plain": [
              "'หนึ่งร้อยยี่สิบสามล้านสี่แสนห้าหมื่นหกพันเจ็ดร้อยแปดสิบเก้า'"
            ]
          },
          "metadata": {
            "tags": []
          },
          "execution_count": 72
        }
      ]
    },
    {
      "cell_type": "code",
      "metadata": {
        "id": "MbF7rTJAFsS4",
        "colab_type": "code",
        "outputId": "8b583145-b4fc-4fd0-d25a-da0e2d08ed26",
        "colab": {
          "base_uri": "https://localhost:8080/",
          "height": 34
        }
      },
      "source": [
        "num_to_thaiword(0)"
      ],
      "execution_count": 73,
      "outputs": [
        {
          "output_type": "execute_result",
          "data": {
            "text/plain": [
              "'ศูนย์'"
            ]
          },
          "metadata": {
            "tags": []
          },
          "execution_count": 73
        }
      ]
    },
    {
      "cell_type": "code",
      "metadata": {
        "id": "l_w9pSeUFsaN",
        "colab_type": "code",
        "outputId": "8868ecc1-87b2-4b9f-9f6e-974435e77235",
        "colab": {
          "base_uri": "https://localhost:8080/",
          "height": 34
        }
      },
      "source": [
        "thaiword_to_num(\"สองพันล้านล้านสี่หมื่นหกพันเจ็ดร้อยยี่สิบสอง\")"
      ],
      "execution_count": 74,
      "outputs": [
        {
          "output_type": "execute_result",
          "data": {
            "text/plain": [
              "2000000000046722"
            ]
          },
          "metadata": {
            "tags": []
          },
          "execution_count": 74
        }
      ]
    },
    {
      "cell_type": "code",
      "metadata": {
        "id": "GEAwRVGaDmfO",
        "colab_type": "code",
        "outputId": "ddc052f7-2720-4e2f-bbf4-dc358f8f732c",
        "colab": {
          "base_uri": "https://localhost:8080/",
          "height": 34
        }
      },
      "source": [
        "bahttext(12345.67)"
      ],
      "execution_count": 75,
      "outputs": [
        {
          "output_type": "execute_result",
          "data": {
            "text/plain": [
              "'หนึ่งหมื่นสองพันสามร้อยสี่สิบห้าบาทหกสิบเจ็ดสตางค์'"
            ]
          },
          "metadata": {
            "tags": []
          },
          "execution_count": 75
        }
      ]
    },
    {
      "cell_type": "code",
      "metadata": {
        "id": "HmTrrV2bEFdo",
        "colab_type": "code",
        "outputId": "73d7115e-e4b2-498b-af20-54df55c5e937",
        "colab": {
          "base_uri": "https://localhost:8080/",
          "height": 34
        }
      },
      "source": [
        "bahttext(10000000000.00)"
      ],
      "execution_count": 76,
      "outputs": [
        {
          "output_type": "execute_result",
          "data": {
            "text/plain": [
              "'หนึ่งหมื่นล้านบาทถ้วน'"
            ]
          },
          "metadata": {
            "tags": []
          },
          "execution_count": 76
        }
      ]
    },
    {
      "cell_type": "code",
      "metadata": {
        "id": "95KpbETREWbV",
        "colab_type": "code",
        "outputId": "348cd6c8-8468-4454-f02a-ef9fa65da7a3",
        "colab": {
          "base_uri": "https://localhost:8080/",
          "height": 34
        }
      },
      "source": [
        "bahttext(0)"
      ],
      "execution_count": 77,
      "outputs": [
        {
          "output_type": "execute_result",
          "data": {
            "text/plain": [
              "'ศูนย์บาทถ้วน'"
            ]
          },
          "metadata": {
            "tags": []
          },
          "execution_count": 77
        }
      ]
    },
    {
      "cell_type": "code",
      "metadata": {
        "id": "C_P4nWSvEFUG",
        "colab_type": "code",
        "outputId": "119950a0-4d4d-4620-d328-af7146235dd3",
        "colab": {
          "base_uri": "https://localhost:8080/",
          "height": 34
        }
      },
      "source": [
        "bahttext(0.01)"
      ],
      "execution_count": 78,
      "outputs": [
        {
          "output_type": "execute_result",
          "data": {
            "text/plain": [
              "'ศูนย์บาทหนึ่งสตางค์'"
            ]
          },
          "metadata": {
            "tags": []
          },
          "execution_count": 78
        }
      ]
    },
    {
      "cell_type": "code",
      "metadata": {
        "id": "jt2Qar82EFKb",
        "colab_type": "code",
        "outputId": "daa2a55b-ace3-4800-fa0a-f622403c9b59",
        "colab": {
          "base_uri": "https://localhost:8080/",
          "height": 34
        }
      },
      "source": [
        "bahttext(0.001)"
      ],
      "execution_count": 79,
      "outputs": [
        {
          "output_type": "execute_result",
          "data": {
            "text/plain": [
              "'ศูนย์บาทถ้วน'"
            ]
          },
          "metadata": {
            "tags": []
          },
          "execution_count": 79
        }
      ]
    },
    {
      "cell_type": "markdown",
      "metadata": {
        "id": "Js5N-1B0b6hC",
        "colab_type": "text"
      },
      "source": [
        "# 6. การเข้ารหัสซาวน์เด็กซ์ (Soundex)"
      ]
    },
    {
      "cell_type": "markdown",
      "metadata": {
        "id": "hojxPXLccp0Z",
        "colab_type": "text"
      },
      "source": [
        "เนื่องจากเสียง 1 เสียง เป็นได้มากกว่า 1 คำ เช่น ค่า ฆ่า ข้า, การ กาล การณ์, เพชรัตน์ เพ็ชรัตน์ เพ็ชรรัตน์ เพชรรัช เพชรรัชต์ เพชรรัฐ เพชรรัตต์ เพชรรัตติ์ เพชรรัศม์, Smith Smythe, Dam Dame, Two Too \n",
        "\n",
        "ในบางกรณีที่ผู้ใช้ต้องการค้นคำบางคำ แต่ไม่สามารถสะกดคำค้นได้ตรงตามในฐานข้อมูล จึงได้มีการคิดค้น การสืบค้นคำตามเสียงอ่าน เรียกว่า Soundex มาจาก Sound-Index เพื่อแก้ปัญหานี้ "
      ]
    },
    {
      "cell_type": "code",
      "metadata": {
        "id": "gW1PpMFhb6Wk",
        "colab_type": "code",
        "colab": {}
      },
      "source": [
        "from pythainlp.soundex import lk82, metasound, udom83"
      ],
      "execution_count": 0,
      "outputs": []
    },
    {
      "cell_type": "code",
      "metadata": {
        "id": "0sl-TY1yfhsv",
        "colab_type": "code",
        "colab": {
          "base_uri": "https://localhost:8080/",
          "height": 119
        },
        "outputId": "e93640f5-4249-4d0e-f5fd-7f18db124a85"
      },
      "source": [
        "print(lk82(\"ค่า\") == lk82(\"ข้า\"))\n",
        "print(lk82(\"การ\") == lk82(\"กาล\"))\n",
        "print(lk82(\"เพชรรัช\") == lk82(\"เพชรรัศม์\"))\n",
        "\n",
        "print(lk82(\"ค่า\") == lk82(\"ข้า\"))\n",
        "print(metasound(\"สวิทช์\") == metasound(\"สวิส\"))\n",
        "print(udom83(\"ค่า\") == udom83(\"ข้า\"))"
      ],
      "execution_count": 102,
      "outputs": [
        {
          "output_type": "stream",
          "text": [
            "True\n",
            "True\n",
            "True\n",
            "True\n",
            "True\n",
            "True\n"
          ],
          "name": "stdout"
        }
      ]
    },
    {
      "cell_type": "code",
      "metadata": {
        "id": "bzuSps47iEgC",
        "colab_type": "code",
        "colab": {}
      },
      "source": [
        "# lk82??\n",
        "# udom83??\n",
        "# metasound??"
      ],
      "execution_count": 0,
      "outputs": []
    },
    {
      "cell_type": "code",
      "metadata": {
        "id": "34eMQt7Uf52C",
        "colab_type": "code",
        "colab": {
          "base_uri": "https://localhost:8080/",
          "height": 187
        },
        "outputId": "d3ce7a3c-3cdc-4504-a803-959cec3dc38a"
      },
      "source": [
        "texts = [\"ค่า\", \"ข้า\", \"ฆ่า\", \"การ\", \"กาล\", \"การณ์\", \"เพ็ชรรัตน์ \", \"เพชรรัตติ์\", \"รัก\", \"รักษ์\"]\n",
        "\n",
        "for text in texts:\n",
        "    print(f\"Text: {text}, lk82:, {lk82(text)}, udom83: {udom83(text)}, metasound: {metasound(text)}\")"
      ],
      "execution_count": 103,
      "outputs": [
        {
          "output_type": "stream",
          "text": [
            "Text: ค่า, lk82:, ก9000, udom83: ข000000, metasound: ค000\n",
            "Text: ข้า, lk82:, ก9000, udom83: ข000000, metasound: ข000\n",
            "Text: ฆ่า, lk82:, ก9000, udom83: ข000000, metasound: ฆ000\n",
            "Text: การ, lk82:, ก9400, udom83: ก900000, metasound: ก500\n",
            "Text: กาล, lk82:, ก9400, udom83: ก900000, metasound: ก500\n",
            "Text: การณ์, lk82:, ก9400, udom83: ก900000, metasound: ก500\n",
            "Text: เพ็ชรรัตน์ , lk82:, พB33 , udom83: พ734 00, metasound: พ255\n",
            "Text: เพชรรัตติ์, lk82:, พB330, udom83: พ734000, metasound: พ255\n",
            "Text: รัก, lk82:, ร1000, udom83: ร100000, metasound: ร100\n",
            "Text: รักษ์, lk82:, ร1000, udom83: ร100000, metasound: ร100\n"
          ],
          "name": "stdout"
        }
      ]
    },
    {
      "cell_type": "markdown",
      "metadata": {
        "id": "pWxx8WjoC6Yn",
        "colab_type": "text"
      },
      "source": [
        "# Credit"
      ]
    },
    {
      "cell_type": "markdown",
      "metadata": {
        "id": "RVATahu8C8G1",
        "colab_type": "text"
      },
      "source": [
        "* https://www.thainlp.org/pythainlp/tutorials/notebooks/pythainlp_get_started.html\n",
        "* https://github.com/PyThaiNLP/pythainlp\n",
        "* https://www.facebook.com/pythainlp/\n",
        "* https://www.facebook.com/groups/thainlp/\n",
        "* https://www.youtube.com/watch?v=fKM9lTcyXLA\n",
        "* https://docs.python.org/3/library/datetime.html#strftime-and-strptime-format-codes"
      ]
    },
    {
      "cell_type": "code",
      "metadata": {
        "id": "FGATuWuoxRkM",
        "colab_type": "code",
        "colab": {}
      },
      "source": [
        ""
      ],
      "execution_count": 0,
      "outputs": []
    }
  ]
}