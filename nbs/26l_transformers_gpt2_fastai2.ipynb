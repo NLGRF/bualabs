{
  "nbformat": 4,
  "nbformat_minor": 0,
  "metadata": {
    "colab": {
      "name": "26l_transformers_gpt2_fastai2.ipynb",
      "provenance": [],
      "collapsed_sections": [],
      "authorship_tag": "ABX9TyO5lnNMPvUDrJgH2jneYO8Y"
    },
    "kernelspec": {
      "name": "python3",
      "display_name": "Python 3"
    },
    "accelerator": "GPU"
  },
  "cells": [
    {
      "cell_type": "code",
      "metadata": {
        "id": "zY1x9LXTPuSr",
        "colab_type": "code",
        "colab": {}
      },
      "source": [
        ""
      ],
      "execution_count": 0,
      "outputs": []
    },
    {
      "cell_type": "code",
      "metadata": {
        "id": "Xol7FrrGgTBA",
        "colab_type": "code",
        "colab": {}
      },
      "source": [
        ""
      ],
      "execution_count": 0,
      "outputs": []
    },
    {
      "cell_type": "code",
      "metadata": {
        "id": "oEKhzKm_gS3M",
        "colab_type": "code",
        "colab": {
          "base_uri": "https://localhost:8080/",
          "height": 306
        },
        "outputId": "8f03ac80-7a65-4e20-8435-727d55e16323"
      },
      "source": [
        "! nvidia-smi"
      ],
      "execution_count": 1,
      "outputs": [
        {
          "output_type": "stream",
          "text": [
            "Wed May  6 11:29:54 2020       \n",
            "+-----------------------------------------------------------------------------+\n",
            "| NVIDIA-SMI 440.82       Driver Version: 418.67       CUDA Version: 10.1     |\n",
            "|-------------------------------+----------------------+----------------------+\n",
            "| GPU  Name        Persistence-M| Bus-Id        Disp.A | Volatile Uncorr. ECC |\n",
            "| Fan  Temp  Perf  Pwr:Usage/Cap|         Memory-Usage | GPU-Util  Compute M. |\n",
            "|===============================+======================+======================|\n",
            "|   0  Tesla P100-PCIE...  Off  | 00000000:00:04.0 Off |                    0 |\n",
            "| N/A   46C    P0    27W / 250W |      1MiB / 16280MiB |      0%      Default |\n",
            "+-------------------------------+----------------------+----------------------+\n",
            "                                                                               \n",
            "+-----------------------------------------------------------------------------+\n",
            "| Processes:                                                       GPU Memory |\n",
            "|  GPU       PID   Type   Process name                             Usage      |\n",
            "|=============================================================================|\n",
            "|  No running processes found                                                 |\n",
            "+-----------------------------------------------------------------------------+\n"
          ],
          "name": "stdout"
        }
      ]
    },
    {
      "cell_type": "code",
      "metadata": {
        "id": "MkOggdVogStV",
        "colab_type": "code",
        "colab": {}
      },
      "source": [
        ""
      ],
      "execution_count": 0,
      "outputs": []
    },
    {
      "cell_type": "markdown",
      "metadata": {
        "id": "Aoz2AjkOP33u",
        "colab_type": "text"
      },
      "source": [
        "# Install"
      ]
    },
    {
      "cell_type": "markdown",
      "metadata": {
        "id": "tPggMtA8uzCh",
        "colab_type": "text"
      },
      "source": [
        "ติดตั้ง Library Transformers จาก HuggingFace"
      ]
    },
    {
      "cell_type": "code",
      "metadata": {
        "id": "oRqQPbJ2P38j",
        "colab_type": "code",
        "colab": {}
      },
      "source": [
        "! pip install transformers -q\n",
        "! pip install fastai2 -q"
      ],
      "execution_count": 0,
      "outputs": []
    },
    {
      "cell_type": "markdown",
      "metadata": {
        "id": "hOdsOiZiP4BB",
        "colab_type": "text"
      },
      "source": [
        "# Import"
      ]
    },
    {
      "cell_type": "markdown",
      "metadata": {
        "id": "CgX-eav0upW-",
        "colab_type": "text"
      },
      "source": [
        "เราจะ Import "
      ]
    },
    {
      "cell_type": "code",
      "metadata": {
        "id": "UQiRCvL7P4FU",
        "colab_type": "code",
        "colab": {}
      },
      "source": [
        "from transformers import GPT2LMHeadModel, GPT2TokenizerFast"
      ],
      "execution_count": 0,
      "outputs": []
    },
    {
      "cell_type": "markdown",
      "metadata": {
        "id": "sBLs_g7LtqY_",
        "colab_type": "text"
      },
      "source": [
        "# Download Pre-trained Model"
      ]
    },
    {
      "cell_type": "markdown",
      "metadata": {
        "id": "qTT5G2ZztvBE",
        "colab_type": "text"
      },
      "source": [
        "ดาวน์โหลด Weight ของโมเดล ที่เทรนไว้เรียบร้อยแล้ว ชื่อ GPT2 "
      ]
    },
    {
      "cell_type": "code",
      "metadata": {
        "id": "7FlFyhzeP4Kp",
        "colab_type": "code",
        "colab": {}
      },
      "source": [
        "pretrained_weights = 'gpt2'\n",
        "tokenizer = GPT2TokenizerFast.from_pretrained(pretrained_weights)\n",
        "model = GPT2LMHeadModel.from_pretrained(pretrained_weights)"
      ],
      "execution_count": 0,
      "outputs": []
    },
    {
      "cell_type": "markdown",
      "metadata": {
        "id": "yQ__W0LBP4OI",
        "colab_type": "text"
      },
      "source": [
        "ใช้ Tokenizer ตัดตำ โดย Tokenizer ของ HuggingFace นี้ encode จะ Tokenize แปลงเป็น ตัวเลข Numericalize ในขั้นตอนเดียว"
      ]
    },
    {
      "cell_type": "code",
      "metadata": {
        "id": "nFPcb975P4RY",
        "colab_type": "code",
        "colab": {
          "base_uri": "https://localhost:8080/",
          "height": 51
        },
        "outputId": "9fb6016f-7045-416a-ca54-ac962918b9db"
      },
      "source": [
        "ids = tokenizer.encode(\"A lab at Florida Atlantic University is simulating a human cough\")\n",
        "ids"
      ],
      "execution_count": 5,
      "outputs": [
        {
          "output_type": "stream",
          "text": [
            "Using pad_token, but it is not set yet.\n"
          ],
          "name": "stderr"
        },
        {
          "output_type": "execute_result",
          "data": {
            "text/plain": [
              "[32, 2248, 379, 4744, 10596, 2059, 318, 985, 8306, 257, 1692, 22094]"
            ]
          },
          "metadata": {
            "tags": []
          },
          "execution_count": 5
        }
      ]
    },
    {
      "cell_type": "markdown",
      "metadata": {
        "id": "CrmyskCc_rN_",
        "colab_type": "text"
      },
      "source": [
        "หรือ เราสามารถแยกเป็น 2 Step ได้"
      ]
    },
    {
      "cell_type": "code",
      "metadata": {
        "id": "iW5eDE-f-k7i",
        "colab_type": "code",
        "colab": {}
      },
      "source": [
        "# toks = tokenizer.tokenize(\"A lab at Florida Atlantic University is simulating a human cough\")\n",
        "# toks, tokenizer.convert_tokens_to_ids(toks)"
      ],
      "execution_count": 0,
      "outputs": []
    },
    {
      "cell_type": "markdown",
      "metadata": {
        "id": "efSHbr0hscJt",
        "colab_type": "text"
      },
      "source": [
        "decode กลับเป็นข้อความต้นฉบับ"
      ]
    },
    {
      "cell_type": "code",
      "metadata": {
        "id": "XJCXiP0ssbeV",
        "colab_type": "code",
        "colab": {
          "base_uri": "https://localhost:8080/",
          "height": 34
        },
        "outputId": "cad5e2a5-ae37-4145-adb7-c8cb7138924a"
      },
      "source": [
        "tokenizer.decode(ids)"
      ],
      "execution_count": 7,
      "outputs": [
        {
          "output_type": "execute_result",
          "data": {
            "text/plain": [
              "'A lab at Florida Atlantic University is simulating a human cough'"
            ]
          },
          "metadata": {
            "tags": []
          },
          "execution_count": 7
        }
      ]
    },
    {
      "cell_type": "markdown",
      "metadata": {
        "id": "Y3YCAt4OsXtX",
        "colab_type": "text"
      },
      "source": [
        "# Generate text"
      ]
    },
    {
      "cell_type": "code",
      "metadata": {
        "id": "B32DRYkdsXg6",
        "colab_type": "code",
        "colab": {
          "base_uri": "https://localhost:8080/",
          "height": 51
        },
        "outputId": "468c3018-41e3-497c-8488-734666d0c528"
      },
      "source": [
        "import torch\n",
        "t = torch.LongTensor(ids)[None]\n",
        "\n",
        "preds = model.generate(t)\n",
        "preds.shape"
      ],
      "execution_count": 8,
      "outputs": [
        {
          "output_type": "stream",
          "text": [
            "Setting `pad_token_id` to 50256 (first `eos_token_id`) to generate sequence\n"
          ],
          "name": "stderr"
        },
        {
          "output_type": "execute_result",
          "data": {
            "text/plain": [
              "torch.Size([1, 20])"
            ]
          },
          "metadata": {
            "tags": []
          },
          "execution_count": 8
        }
      ]
    },
    {
      "cell_type": "code",
      "metadata": {
        "id": "dSbxQaiDsXUk",
        "colab_type": "code",
        "colab": {
          "base_uri": "https://localhost:8080/",
          "height": 51
        },
        "outputId": "10efda09-0b3f-47db-be27-6a1763b50b35"
      },
      "source": [
        "preds[0]"
      ],
      "execution_count": 9,
      "outputs": [
        {
          "output_type": "execute_result",
          "data": {
            "text/plain": [
              "tensor([   32,  2248,   379,  4744, 10596,  2059,   318,   985,  8306,   257,\n",
              "         1692, 22094,   351,   257,  3644,  1430,   326,   460,  4331,   262])"
            ]
          },
          "metadata": {
            "tags": []
          },
          "execution_count": 9
        }
      ]
    },
    {
      "cell_type": "code",
      "metadata": {
        "id": "qfOSkjvAsXHp",
        "colab_type": "code",
        "colab": {
          "base_uri": "https://localhost:8080/",
          "height": 34
        },
        "outputId": "d03b4b6a-4f9b-442a-a612-d4aacbbd8b0d"
      },
      "source": [
        "tokenizer.decode(preds[0].numpy())"
      ],
      "execution_count": 10,
      "outputs": [
        {
          "output_type": "execute_result",
          "data": {
            "text/plain": [
              "'A lab at Florida Atlantic University is simulating a human cough with a computer program that can predict the'"
            ]
          },
          "metadata": {
            "tags": []
          },
          "execution_count": 10
        }
      ]
    },
    {
      "cell_type": "code",
      "metadata": {
        "id": "Ue0wdSv4sW7o",
        "colab_type": "code",
        "colab": {}
      },
      "source": [
        ""
      ],
      "execution_count": 0,
      "outputs": []
    },
    {
      "cell_type": "markdown",
      "metadata": {
        "id": "magYoCQXtkKD",
        "colab_type": "text"
      },
      "source": [
        "# Fastai"
      ]
    },
    {
      "cell_type": "code",
      "metadata": {
        "id": "r3P3wnjYsWwl",
        "colab_type": "code",
        "colab": {}
      },
      "source": [
        "from fastai2.text.all import *"
      ],
      "execution_count": 0,
      "outputs": []
    },
    {
      "cell_type": "code",
      "metadata": {
        "id": "oMPvaYAXsWkK",
        "colab_type": "code",
        "colab": {
          "base_uri": "https://localhost:8080/",
          "height": 34
        },
        "outputId": "84d76221-30ca-43e3-fa80-367258f4fd14"
      },
      "source": [
        "path = untar_data(URLs.WIKITEXT_TINY)\n",
        "path.ls()"
      ],
      "execution_count": 12,
      "outputs": [
        {
          "output_type": "execute_result",
          "data": {
            "text/plain": [
              "(#2) [Path('/root/.fastai/data/wikitext-2/train.csv'),Path('/root/.fastai/data/wikitext-2/test.csv')]"
            ]
          },
          "metadata": {
            "tags": []
          },
          "execution_count": 12
        }
      ]
    },
    {
      "cell_type": "code",
      "metadata": {
        "id": "Hq-FHYhYsV_y",
        "colab_type": "code",
        "colab": {
          "base_uri": "https://localhost:8080/",
          "height": 459
        },
        "outputId": "52e2bb3c-813e-4d9c-d84c-342cb541e784"
      },
      "source": [
        "df_train = pd.read_csv(path/\"train.csv\", header=None)\n",
        "df_valid = pd.read_csv(path/\"test.csv\", header=None)\n",
        "df_train.head()"
      ],
      "execution_count": 13,
      "outputs": [
        {
          "output_type": "execute_result",
          "data": {
            "text/html": [
              "<div>\n",
              "<style scoped>\n",
              "    .dataframe tbody tr th:only-of-type {\n",
              "        vertical-align: middle;\n",
              "    }\n",
              "\n",
              "    .dataframe tbody tr th {\n",
              "        vertical-align: top;\n",
              "    }\n",
              "\n",
              "    .dataframe thead th {\n",
              "        text-align: right;\n",
              "    }\n",
              "</style>\n",
              "<table border=\"1\" class=\"dataframe\">\n",
              "  <thead>\n",
              "    <tr style=\"text-align: right;\">\n",
              "      <th></th>\n",
              "      <th>0</th>\n",
              "    </tr>\n",
              "  </thead>\n",
              "  <tbody>\n",
              "    <tr>\n",
              "      <th>0</th>\n",
              "      <td>\\n = 2013 – 14 York City F.C. season = \\n \\n The 2013 – 14 season was the &lt;unk&gt; season of competitive association football and 77th season in the Football League played by York City Football Club , a professional football club based in York , North Yorkshire , England . Their 17th @-@ place finish in 2012 – 13 meant it was their second consecutive season in League Two . The season ran from 1 July 2013 to 30 June 2014 . \\n Nigel Worthington , starting his first full season as York manager , made eight permanent summer signings . By the turn of the year York were only above the relegation z...</td>\n",
              "    </tr>\n",
              "    <tr>\n",
              "      <th>1</th>\n",
              "      <td>\\n = Big Boy ( song ) = \\n \\n \" Big Boy \" &lt;unk&gt; \" I 'm A Big Boy Now \" was the first single ever recorded by the Jackson 5 , which was released by Steeltown Records in January 1968 . The group played instruments on many of their Steeltown compositions , including \" Big Boy \" . The song was neither a critical nor commercial success , but the Jackson family were delighted with the outcome nonetheless . \\n The Jackson 5 would release a second single with Steeltown Records before moving to Motown Records . The group 's recordings at Steeltown Records were thought to be lost , but they were re...</td>\n",
              "    </tr>\n",
              "    <tr>\n",
              "      <th>2</th>\n",
              "      <td>\\n = The Remix ( Lady Gaga album ) = \\n \\n The Remix is a remix album by American recording artist Lady Gaga . Released in Japan on March 3 , 2010 , it contains remixes of the songs from her first studio album , The Fame ( 2008 ) , and her third extended play , The Fame Monster ( 2009 ) . A revised version of the track list was prepared for release in additional markets , beginning with Mexico on May 3 , 2010 . A number of recording artists have produced the songs , including Pet Shop Boys , Passion Pit and The Sound of Arrows . The remixed versions feature both uptempo and &lt;unk&gt; composit...</td>\n",
              "    </tr>\n",
              "    <tr>\n",
              "      <th>3</th>\n",
              "      <td>\\n = New Year 's Eve ( Up All Night ) = \\n \\n \" New Year 's Eve \" is the twelfth episode of the first season of the American comedy television series Up All Night . The episode originally aired on NBC in the United States on January 12 , 2012 . It was written by Erica &lt;unk&gt; and was directed by Beth McCarthy @-@ Miller . The episode also featured a guest appearance from Jason Lee as Chris and Reagan 's neighbor and Ava 's boyfriend , Kevin . \\n During Reagan ( Christina Applegate ) and Chris 's ( Will &lt;unk&gt; ) first New Year 's Eve game night , Reagan 's competitiveness comes out causing Ch...</td>\n",
              "    </tr>\n",
              "    <tr>\n",
              "      <th>4</th>\n",
              "      <td>\\n = Geopyxis carbonaria = \\n \\n Geopyxis carbonaria is a species of fungus in the genus Geopyxis , family &lt;unk&gt; . First described to science in 1805 , and given its current name in 1889 , the species is commonly known as the charcoal loving elf @-@ cup , dwarf &lt;unk&gt; cup , &lt;unk&gt; &lt;unk&gt; cup , or pixie cup . The small , &lt;unk&gt; @-@ shaped fruitbodies of the fungus are reddish @-@ brown with a whitish fringe and measure up to 2 cm ( 0 @.@ 8 in ) across . They have a short , tapered stalk . Fruitbodies are commonly found on soil where brush has recently been burned , sometimes in great numbers ....</td>\n",
              "    </tr>\n",
              "  </tbody>\n",
              "</table>\n",
              "</div>"
            ],
            "text/plain": [
              "                                                                                                                                                                                                                                                                                                                                                                                                                                                                                                                                                                                                                         0\n",
              "0   \\n = 2013 – 14 York City F.C. season = \\n \\n The 2013 – 14 season was the <unk> season of competitive association football and 77th season in the Football League played by York City Football Club , a professional football club based in York , North Yorkshire , England . Their 17th @-@ place finish in 2012 – 13 meant it was their second consecutive season in League Two . The season ran from 1 July 2013 to 30 June 2014 . \\n Nigel Worthington , starting his first full season as York manager , made eight permanent summer signings . By the turn of the year York were only above the relegation z...\n",
              "1   \\n = Big Boy ( song ) = \\n \\n \" Big Boy \" <unk> \" I 'm A Big Boy Now \" was the first single ever recorded by the Jackson 5 , which was released by Steeltown Records in January 1968 . The group played instruments on many of their Steeltown compositions , including \" Big Boy \" . The song was neither a critical nor commercial success , but the Jackson family were delighted with the outcome nonetheless . \\n The Jackson 5 would release a second single with Steeltown Records before moving to Motown Records . The group 's recordings at Steeltown Records were thought to be lost , but they were re...\n",
              "2   \\n = The Remix ( Lady Gaga album ) = \\n \\n The Remix is a remix album by American recording artist Lady Gaga . Released in Japan on March 3 , 2010 , it contains remixes of the songs from her first studio album , The Fame ( 2008 ) , and her third extended play , The Fame Monster ( 2009 ) . A revised version of the track list was prepared for release in additional markets , beginning with Mexico on May 3 , 2010 . A number of recording artists have produced the songs , including Pet Shop Boys , Passion Pit and The Sound of Arrows . The remixed versions feature both uptempo and <unk> composit...\n",
              "3   \\n = New Year 's Eve ( Up All Night ) = \\n \\n \" New Year 's Eve \" is the twelfth episode of the first season of the American comedy television series Up All Night . The episode originally aired on NBC in the United States on January 12 , 2012 . It was written by Erica <unk> and was directed by Beth McCarthy @-@ Miller . The episode also featured a guest appearance from Jason Lee as Chris and Reagan 's neighbor and Ava 's boyfriend , Kevin . \\n During Reagan ( Christina Applegate ) and Chris 's ( Will <unk> ) first New Year 's Eve game night , Reagan 's competitiveness comes out causing Ch...\n",
              "4   \\n = Geopyxis carbonaria = \\n \\n Geopyxis carbonaria is a species of fungus in the genus Geopyxis , family <unk> . First described to science in 1805 , and given its current name in 1889 , the species is commonly known as the charcoal loving elf @-@ cup , dwarf <unk> cup , <unk> <unk> cup , or pixie cup . The small , <unk> @-@ shaped fruitbodies of the fungus are reddish @-@ brown with a whitish fringe and measure up to 2 cm ( 0 @.@ 8 in ) across . They have a short , tapered stalk . Fruitbodies are commonly found on soil where brush has recently been burned , sometimes in great numbers ...."
            ]
          },
          "metadata": {
            "tags": []
          },
          "execution_count": 13
        }
      ]
    },
    {
      "cell_type": "code",
      "metadata": {
        "id": "qDXuH37rwZOr",
        "colab_type": "code",
        "colab": {}
      },
      "source": [
        ""
      ],
      "execution_count": 0,
      "outputs": []
    },
    {
      "cell_type": "code",
      "metadata": {
        "id": "2mjNG85awZSR",
        "colab_type": "code",
        "colab": {
          "base_uri": "https://localhost:8080/",
          "height": 34
        },
        "outputId": "99f27ca3-2ffb-4709-81ad-9cf324c1cd6d"
      },
      "source": [
        "all_texts = np.concatenate([df_train[0].values, df_valid[0].values])\n",
        "len(all_texts)"
      ],
      "execution_count": 14,
      "outputs": [
        {
          "output_type": "execute_result",
          "data": {
            "text/plain": [
              "662"
            ]
          },
          "metadata": {
            "tags": []
          },
          "execution_count": 14
        }
      ]
    },
    {
      "cell_type": "markdown",
      "metadata": {
        "id": "esP60xpf9Kdc",
        "colab_type": "text"
      },
      "source": [
        "# Creating TransformersTokenizer Transform"
      ]
    },
    {
      "cell_type": "markdown",
      "metadata": {
        "id": "z2NkcxLEwZWC",
        "colab_type": "text"
      },
      "source": [
        "เราจะนำ Tokenizer ของ Transformer มาสร้าง Transform ใน fastai ด้วยการกำหนด encodes, decodes และ setups    "
      ]
    },
    {
      "cell_type": "code",
      "metadata": {
        "id": "STfI4I7hwZfB",
        "colab_type": "code",
        "colab": {}
      },
      "source": [
        "class TransformersTokenizer(Transform):\n",
        "    def __init__(self, tokenizer): self.tokenizer = tokenizer\n",
        "    def encodes(self, x): \n",
        "        toks = self.tokenizer.tokenize(x)\n",
        "        return tensor(self.tokenizer.convert_tokens_to_ids(toks))\n",
        "    def decodes(self, x):\n",
        "        return TitledStr(self.tokenizer.decode(x.cpu().numpy()))"
      ],
      "execution_count": 0,
      "outputs": []
    },
    {
      "cell_type": "markdown",
      "metadata": {
        "id": "Pymv-GpCwZqp",
        "colab_type": "text"
      },
      "source": [
        "ใน encodes เราจะไม่ได้ใช้ tokenizer.encode เนื่องจากภายในนั้น มีการ preprocessing นอกจาก tokenize และ numericalize ที่เรายังไม่ต้องการในขณะนี้ และ decodes จะ return TitledStr แทนที่ string เฉย ๆ จะได้รองรับ show method"
      ]
    },
    {
      "cell_type": "code",
      "metadata": {
        "id": "ju0LLu3pD2nc",
        "colab_type": "code",
        "colab": {}
      },
      "source": [
        "# list(range_of(df_train))\n",
        "# list(range(len(df_train), len(all_texts)))"
      ],
      "execution_count": 0,
      "outputs": []
    },
    {
      "cell_type": "markdown",
      "metadata": {
        "id": "n7lfKY9owZpD",
        "colab_type": "text"
      },
      "source": [
        "เราจะเอา Transform ที่สร้างด้านบน ไปใส่ TfmdLists โดย split ตามลำดับที่ concat ไว้ และ กำหนด dl_type DataLoader Type เป็น LMDataLoader สำหรับใช้ในงาน Lanugage Model\n",
        "\n"
      ]
    },
    {
      "cell_type": "code",
      "metadata": {
        "id": "kZSo37eYwZnd",
        "colab_type": "code",
        "colab": {}
      },
      "source": [
        "splits = [list(range_of(df_train)), list(range(len(df_train), len(all_texts)))]\n",
        "tls = TfmdLists(all_texts, TransformersTokenizer(tokenizer), splits=splits, dl_type=LMDataLoader)\n",
        "# tls"
      ],
      "execution_count": 0,
      "outputs": []
    },
    {
      "cell_type": "markdown",
      "metadata": {
        "id": "z8PUPes3Rua4",
        "colab_type": "text"
      },
      "source": [
        "ดูข้อมูล Record แรก ของ Training Set"
      ]
    },
    {
      "cell_type": "code",
      "metadata": {
        "id": "2VhI-ICfwZjY",
        "colab_type": "code",
        "colab": {
          "base_uri": "https://localhost:8080/",
          "height": 34
        },
        "outputId": "4c05b204-3fa9-4945-e8fc-71406c1181a1"
      },
      "source": [
        "tls.train[0].shape, tls.train[0]"
      ],
      "execution_count": 18,
      "outputs": [
        {
          "output_type": "execute_result",
          "data": {
            "text/plain": [
              "(torch.Size([4576]), tensor([220, 198, 796,  ..., 198, 220, 198]))"
            ]
          },
          "metadata": {
            "tags": []
          },
          "execution_count": 18
        }
      ]
    },
    {
      "cell_type": "markdown",
      "metadata": {
        "id": "oVwgCQirwZdY",
        "colab_type": "text"
      },
      "source": [
        "ดูเป็นข้อมูล ที่ decode แล้ว "
      ]
    },
    {
      "cell_type": "code",
      "metadata": {
        "id": "xXDZfKy9wZbv",
        "colab_type": "code",
        "colab": {}
      },
      "source": [
        "# show_at(tls.train, 0)"
      ],
      "execution_count": 0,
      "outputs": []
    },
    {
      "cell_type": "markdown",
      "metadata": {
        "id": "gZXpgMPhR73X",
        "colab_type": "text"
      },
      "source": [
        "ดูข้อมูล Record แรก ของ Validation Set"
      ]
    },
    {
      "cell_type": "code",
      "metadata": {
        "id": "gB6f3PmbQiDp",
        "colab_type": "code",
        "colab": {
          "base_uri": "https://localhost:8080/",
          "height": 34
        },
        "outputId": "262fad44-6b26-4997-c24e-9b5ee39cf5b8"
      },
      "source": [
        "tls.valid[0].shape, tls.valid[0]"
      ],
      "execution_count": 20,
      "outputs": [
        {
          "output_type": "execute_result",
          "data": {
            "text/plain": [
              "(torch.Size([1485]), tensor([220, 198, 796,  ..., 198, 220, 198]))"
            ]
          },
          "metadata": {
            "tags": []
          },
          "execution_count": 20
        }
      ]
    },
    {
      "cell_type": "markdown",
      "metadata": {
        "id": "mBjr9QfDPezo",
        "colab_type": "text"
      },
      "source": [
        "ดูเป็นข้อมูล ที่ decode แล้ว "
      ]
    },
    {
      "cell_type": "code",
      "metadata": {
        "id": "KUm64PLtPeqG",
        "colab_type": "code",
        "colab": {}
      },
      "source": [
        "# show_at(tls.valid, 0)"
      ],
      "execution_count": 0,
      "outputs": []
    },
    {
      "cell_type": "markdown",
      "metadata": {
        "id": "YlJ-MzW-Peg-",
        "colab_type": "text"
      },
      "source": [
        "# DataLoaders"
      ]
    },
    {
      "cell_type": "markdown",
      "metadata": {
        "id": "Y38LIy_sTQDL",
        "colab_type": "text"
      },
      "source": [
        "สร้าง DataLoaders เพื่อส่งให้กับ Model ด้วย Batch Size ขนาด 64 และ Sequence Length 1024 ตามที่ GPT2 ใช้"
      ]
    },
    {
      "cell_type": "code",
      "metadata": {
        "id": "gFkQSbRqPeXW",
        "colab_type": "code",
        "colab": {
          "base_uri": "https://localhost:8080/",
          "height": 34
        },
        "outputId": "73f09c2f-ab76-4135-f902-e7edb360d913"
      },
      "source": [
        "bs, sl = 4, 1024\n",
        "dls = tls.dataloaders(bs=bs, seq_len=sl)\n",
        "dls"
      ],
      "execution_count": 22,
      "outputs": [
        {
          "output_type": "execute_result",
          "data": {
            "text/plain": [
              "<fastai2.data.core.DataLoaders at 0x7f8de9cf12b0>"
            ]
          },
          "metadata": {
            "tags": []
          },
          "execution_count": 22
        }
      ]
    },
    {
      "cell_type": "code",
      "metadata": {
        "id": "jMfsS8MQPeNb",
        "colab_type": "code",
        "colab": {
          "base_uri": "https://localhost:8080/",
          "height": 717
        },
        "outputId": "c965c6a0-506e-4392-bece-355337133805"
      },
      "source": [
        "dls.show_batch(max_n=5)"
      ],
      "execution_count": 23,
      "outputs": [
        {
          "output_type": "display_data",
          "data": {
            "text/html": [
              "<table border=\"1\" class=\"dataframe\">\n",
              "  <thead>\n",
              "    <tr style=\"text-align: right;\">\n",
              "      <th></th>\n",
              "      <th>text</th>\n",
              "      <th>text_</th>\n",
              "    </tr>\n",
              "  </thead>\n",
              "  <tbody>\n",
              "    <tr>\n",
              "      <th>0</th>\n",
              "      <td>\\n = Italian cruiser Aretusa = \\n \\n Aretusa was a torpedo cruiser of the &lt;unk&gt; class built for the Italian Regia Marina ( Royal Navy ) in the 1880s. &lt;unk&gt; down in June 1889 at the &lt;unk&gt; &lt;unk&gt; &lt;unk&gt; Orlando shipyard, she was launched in March 1891 and was commissioned in September 1892. Her main armament were her six torpedo tubes, which were supported by a battery of ten small @-@ caliber guns. Aretusa spent most of her career in the main Italian fleet, where she was primarily occupied with training exercises. At the start of the Italo @-@ Turkish War in September 1911, she was assigned to the Red Sea Squadron in Italian Eritrea. She bombarded Ottoman positions in the Arabian Peninsula and took part in a blockade of the coast. &lt;unk&gt; out by the end of the war in October 1912, Aretusa was sold for scrap</td>\n",
              "      <td>\\n = Italian cruiser Aretusa = \\n \\n Aretusa was a torpedo cruiser of the &lt;unk&gt; class built for the Italian Regia Marina ( Royal Navy ) in the 1880s. &lt;unk&gt; down in June 1889 at the &lt;unk&gt; &lt;unk&gt; &lt;unk&gt; Orlando shipyard, she was launched in March 1891 and was commissioned in September 1892. Her main armament were her six torpedo tubes, which were supported by a battery of ten small @-@ caliber guns. Aretusa spent most of her career in the main Italian fleet, where she was primarily occupied with training exercises. At the start of the Italo @-@ Turkish War in September 1911, she was assigned to the Red Sea Squadron in Italian Eritrea. She bombarded Ottoman positions in the Arabian Peninsula and took part in a blockade of the coast. &lt;unk&gt; out by the end of the war in October 1912, Aretusa was sold for scrap that</td>\n",
              "    </tr>\n",
              "    <tr>\n",
              "      <th>1</th>\n",
              "      <td>an interview with Billboard, RCA marketing executive Aaron &lt;unk&gt; remarked that the album was their main release of the holidays, quoting \" The angle on this album is that, like all great Christmas records, it's about amazing vocal performances. That's what this is intended to be @-@ an album launched this year but &lt;unk&gt; and genre @-@ &lt;unk&gt;. \" In preparation for its release in the United States, RCA shipped a half @-@ million units on Amazon.com and Target, which exclusively released a deluxe edition. A red LP pressing of Wrapped in Red by United Record &lt;unk&gt; followed the CD release on November 25, 2013, marking the first time an album by Clarkson was released on a vinyl record. A deluxe LP and CD edition was also released on the Sony Music store which included a scarf, a holiday ornament, and a snow globe, all of which were decorated</td>\n",
              "      <td>interview with Billboard, RCA marketing executive Aaron &lt;unk&gt; remarked that the album was their main release of the holidays, quoting \" The angle on this album is that, like all great Christmas records, it's about amazing vocal performances. That's what this is intended to be @-@ an album launched this year but &lt;unk&gt; and genre @-@ &lt;unk&gt;. \" In preparation for its release in the United States, RCA shipped a half @-@ million units on Amazon.com and Target, which exclusively released a deluxe edition. A red LP pressing of Wrapped in Red by United Record &lt;unk&gt; followed the CD release on November 25, 2013, marking the first time an album by Clarkson was released on a vinyl record. A deluxe LP and CD edition was also released on the Sony Music store which included a scarf, a holiday ornament, and a snow globe, all of which were decorated in</td>\n",
              "    </tr>\n",
              "    <tr>\n",
              "      <th>2</th>\n",
              "      <td>he &lt;unk&gt; up \" without a voice \". There was no intent to cancel, and the show went ahead as planned. Though Bono had few difficulties through the opening quartet of \" &lt;unk&gt; \", \" I Will Follow \", \" Gone \", and \" Even Better Than the Real Thing \", his voice gave out during \" Last Night on Earth \". In 2006, The Edge suggested that Bono's vocal troubles had been caused by &lt;unk&gt; or by the stress of the previous few months of touring, though he later remarked that \" it didn 't really matter that our lead singer was under the weather because every member of the audience seemed to join in on every song. There was a mass chorus for the whole concert. \" \\n At various points during \" Until the End of the World \" and \" New Year's Day \", Bono</td>\n",
              "      <td>&lt;unk&gt; up \" without a voice \". There was no intent to cancel, and the show went ahead as planned. Though Bono had few difficulties through the opening quartet of \" &lt;unk&gt; \", \" I Will Follow \", \" Gone \", and \" Even Better Than the Real Thing \", his voice gave out during \" Last Night on Earth \". In 2006, The Edge suggested that Bono's vocal troubles had been caused by &lt;unk&gt; or by the stress of the previous few months of touring, though he later remarked that \" it didn 't really matter that our lead singer was under the weather because every member of the audience seemed to join in on every song. There was a mass chorus for the whole concert. \" \\n At various points during \" Until the End of the World \" and \" New Year's Day \", Bono &lt;unk&gt;</td>\n",
              "    </tr>\n",
              "    <tr>\n",
              "      <th>3</th>\n",
              "      <td>Keats favours a female nightingale over Coleridge's masculine bird, both reject the traditional depiction of the nightingale as related to the tragedy of &lt;unk&gt;. Their &lt;unk&gt; is a happy nightingale that lacks the melancholic feel of previous poetic depictions. The bird is only a voice within the poem, but it is a voice that &lt;unk&gt; the narrator to join with in and forget the &lt;unk&gt; of the world. However, there is tension in that the narrator holds Keats's guilt regarding the death of Tom Keats, his brother. The song's conclusion represents the result of trying to escape into the realm of fancy. \\n Like Percy &lt;unk&gt; Shelley ’ s \" To a &lt;unk&gt; \", Keats ’ s narrator listens to a bird song, but listening to the song within “ Ode to a Nightingale ” is almost painful and similar to death. The narrator seeks to be with the</td>\n",
              "      <td>ats favours a female nightingale over Coleridge's masculine bird, both reject the traditional depiction of the nightingale as related to the tragedy of &lt;unk&gt;. Their &lt;unk&gt; is a happy nightingale that lacks the melancholic feel of previous poetic depictions. The bird is only a voice within the poem, but it is a voice that &lt;unk&gt; the narrator to join with in and forget the &lt;unk&gt; of the world. However, there is tension in that the narrator holds Keats's guilt regarding the death of Tom Keats, his brother. The song's conclusion represents the result of trying to escape into the realm of fancy. \\n Like Percy &lt;unk&gt; Shelley ’ s \" To a &lt;unk&gt; \", Keats ’ s narrator listens to a bird song, but listening to the song within “ Ode to a Nightingale ” is almost painful and similar to death. The narrator seeks to be with the nightingale</td>\n",
              "    </tr>\n",
              "  </tbody>\n",
              "</table>"
            ],
            "text/plain": [
              "<IPython.core.display.HTML object>"
            ]
          },
          "metadata": {
            "tags": []
          }
        }
      ]
    },
    {
      "cell_type": "markdown",
      "metadata": {
        "id": "PDKpN2cRPeDE",
        "colab_type": "text"
      },
      "source": [
        "จะได้ DataLoader สำหรับ Lanugage Model ที่มี input และ label เหลื่อมกันอยู่ 1 Token สำหรับให้โมเดล Predict คำต่อไปของประโยค"
      ]
    },
    {
      "cell_type": "markdown",
      "metadata": {
        "id": "69zvx036UDXD",
        "colab_type": "text"
      },
      "source": [
        "# Preprocessing ไว้ก่อนให้หมด"
      ]
    },
    {
      "cell_type": "markdown",
      "metadata": {
        "id": "R4PSn46mUDbQ",
        "colab_type": "text"
      },
      "source": [
        "อีกวิธีนึงคือ เราสามารถ Preprocessing ข้อมูลทั้งหมดไว้ก่อนได้เลย"
      ]
    },
    {
      "cell_type": "code",
      "metadata": {
        "id": "0V2I4QZmUDfF",
        "colab_type": "code",
        "colab": {}
      },
      "source": [
        "# def tokenize(text):\n",
        "#     toks = tokenizer.tokenize(text)\n",
        "#     return tensor(tokenizer.convert_tokens_to_ids(toks))\n",
        "\n",
        "# tokenized = [tokenize(t) for t in progress_bar(all_texts)]"
      ],
      "execution_count": 0,
      "outputs": []
    },
    {
      "cell_type": "code",
      "metadata": {
        "id": "Hz46X5trUDm0",
        "colab_type": "code",
        "colab": {}
      },
      "source": [
        "# len(tokenized), tokenized[0]"
      ],
      "execution_count": 0,
      "outputs": []
    },
    {
      "cell_type": "markdown",
      "metadata": {
        "id": "XKS2jPs5UDqg",
        "colab_type": "text"
      },
      "source": [
        "เราจะประกาศ TransformersTokenizer ใหม่ ให้ใน encodes ไม่ต้องทำอะไร (แต่ถ้าไม่เป็น Tensor มาก็ให้ tokenize ใหม่)"
      ]
    },
    {
      "cell_type": "code",
      "metadata": {
        "id": "6vAQswfpUDxZ",
        "colab_type": "code",
        "colab": {}
      },
      "source": [
        "# class TransformersTokenizer(Transform):\n",
        "#     def __init__(self, tokenizer): self.tokenizer = tokenizer\n",
        "#     def encodes(self, x): \n",
        "#         return x if isinstance(x, Tensor) else tokenize(x)\n",
        "#     def decodes(self, x):\n",
        "#         return TitledStr(self.tokenizer.decode(x.cpu().numpy()))"
      ],
      "execution_count": 0,
      "outputs": []
    },
    {
      "cell_type": "markdown",
      "metadata": {
        "id": "UbcRKEjbUD4t",
        "colab_type": "text"
      },
      "source": [
        "แล้วจึงสร้าง TfmdLists โดยส่ง tokenized (ข้อมูลทั้งหมดที่ถูก tokenize เรียบร้อยแล้ว) เข้าไป"
      ]
    },
    {
      "cell_type": "code",
      "metadata": {
        "id": "Yb-sl73TUD1z",
        "colab_type": "code",
        "colab": {}
      },
      "source": [
        "# tls = TfmdLists(tokenized, TransformersTokenizer(tokenizer), splits=splits, dl_type=LMDataLoader)\n",
        "# dls = tls.dataloaders(bs=bs, seq_len=sl)"
      ],
      "execution_count": 0,
      "outputs": []
    },
    {
      "cell_type": "code",
      "metadata": {
        "id": "GFA_XTrCUDvT",
        "colab_type": "code",
        "colab": {}
      },
      "source": [
        "# dls.show_batch(max_n=5)"
      ],
      "execution_count": 0,
      "outputs": []
    },
    {
      "cell_type": "code",
      "metadata": {
        "id": "TAwtvBnjUDjl",
        "colab_type": "code",
        "colab": {}
      },
      "source": [
        ""
      ],
      "execution_count": 0,
      "outputs": []
    },
    {
      "cell_type": "markdown",
      "metadata": {
        "id": "dJpK_RYZdPfx",
        "colab_type": "text"
      },
      "source": [
        "# Fine-tune Model"
      ]
    },
    {
      "cell_type": "markdown",
      "metadata": {
        "id": "UdwOy44AdPji",
        "colab_type": "text"
      },
      "source": [
        "เนื่องจากโมเดลของ HuggingFace นั่น return output เป็น Tuple ที่ประกอบด้วย Prediction และ Activation เพิ่มเติมอื่น ๆ สำหรับใช้ในงานอื่น ๆ แต่ในเคสนี้เรายังไม่ต้องการ ทำให้เราต้องสร้าง after_pred Callback มาคั่นเพื่อเปลี่ยนให้ return แต่ Prediction เพื่อส่งไปให้กับ Loss Function ทำงานได้ตามปกติเหมือนเดิม"
      ]
    },
    {
      "cell_type": "code",
      "metadata": {
        "id": "cvUvLQEXdPn_",
        "colab_type": "code",
        "colab": {}
      },
      "source": [
        "class DropOutput(Callback):\n",
        "    def after_pred(self): self.learn.pred = self.pred[0]"
      ],
      "execution_count": 0,
      "outputs": []
    },
    {
      "cell_type": "markdown",
      "metadata": {
        "id": "ybk2uEEveU6a",
        "colab_type": "text"
      },
      "source": [
        "ใน callback เราสามารถอ้างถึง Prediction ของโมเดล ได้ด้วย self.pred ได้เลย แต่จะเป็นการ Read-only ถ้าต้องการ Write ต้องอ้างเต็ม ๆ ด้วย self.learn.pred"
      ]
    },
    {
      "cell_type": "markdown",
      "metadata": {
        "id": "3RUiQ4-HdPu2",
        "colab_type": "text"
      },
      "source": [
        "ตอนนี้เราสามารถสร้าง learner เพื่อเทรนโมเดลได้แล้ว"
      ]
    },
    {
      "cell_type": "code",
      "metadata": {
        "id": "cLMiIUlnnWjV",
        "colab_type": "code",
        "colab": {}
      },
      "source": [
        "learn = None"
      ],
      "execution_count": 0,
      "outputs": []
    },
    {
      "cell_type": "code",
      "metadata": {
        "id": "KZLeKNG7ioRd",
        "colab_type": "code",
        "colab": {}
      },
      "source": [
        "torch.cuda.empty_cache()"
      ],
      "execution_count": 0,
      "outputs": []
    },
    {
      "cell_type": "code",
      "metadata": {
        "id": "O6UrIBL7so-L",
        "colab_type": "code",
        "colab": {}
      },
      "source": [
        "Perplexity??"
      ],
      "execution_count": 0,
      "outputs": []
    },
    {
      "cell_type": "code",
      "metadata": {
        "id": "OG9Am4zjdP2E",
        "colab_type": "code",
        "colab": {
          "base_uri": "https://localhost:8080/",
          "height": 34
        },
        "outputId": "bbecb743-d5c2-46a4-f7ce-e2919a2019f1"
      },
      "source": [
        "learn = Learner(dls, model, loss_func=CrossEntropyLossFlat(), cbs=[DropOutput], metrics=Perplexity()).to_fp16()\n",
        "learn"
      ],
      "execution_count": 33,
      "outputs": [
        {
          "output_type": "execute_result",
          "data": {
            "text/plain": [
              "<fastai2.learner.Learner at 0x7f8d7825dba8>"
            ]
          },
          "metadata": {
            "tags": []
          },
          "execution_count": 33
        }
      ]
    },
    {
      "cell_type": "markdown",
      "metadata": {
        "id": "vLbnmNIrggIl",
        "colab_type": "text"
      },
      "source": [
        "ดูประสิทธิภาพของโมเดล ก่อนที่จะ Fine-tuned ตัวเลขแรกคือ Validation Loss ตัวที่สอง คือ Metrics ในที่นี้คือ Perplexity"
      ]
    },
    {
      "cell_type": "code",
      "metadata": {
        "id": "5wUhuNYmdPzt",
        "colab_type": "code",
        "colab": {
          "base_uri": "https://localhost:8080/",
          "height": 34
        },
        "outputId": "fa145975-99de-4709-fd50-46833e945f15"
      },
      "source": [
        "learn.validate()"
      ],
      "execution_count": 34,
      "outputs": [
        {
          "output_type": "display_data",
          "data": {
            "text/html": [
              ""
            ],
            "text/plain": [
              "<IPython.core.display.HTML object>"
            ]
          },
          "metadata": {
            "tags": []
          }
        },
        {
          "output_type": "execute_result",
          "data": {
            "text/plain": [
              "(#2) [3.25368332862854,25.885509490966797]"
            ]
          },
          "metadata": {
            "tags": []
          },
          "execution_count": 34
        }
      ]
    },
    {
      "cell_type": "markdown",
      "metadata": {
        "id": "RqA3b0pigr-L",
        "colab_type": "text"
      },
      "source": [
        "ได้ Perplexity 25.6 คือไม่เลวเลยทีเดียว"
      ]
    },
    {
      "cell_type": "markdown",
      "metadata": {
        "id": "6lmS98Y7gsCs",
        "colab_type": "text"
      },
      "source": [
        "# Training"
      ]
    },
    {
      "cell_type": "markdown",
      "metadata": {
        "id": "-fC9qcNcj-Iw",
        "colab_type": "text"
      },
      "source": [
        "ก่อนเริ่มต้นเทรน เราจะเรียก lr_find หา Learning Rate กันก่อน"
      ]
    },
    {
      "cell_type": "code",
      "metadata": {
        "id": "Sl_YfD11gsHF",
        "colab_type": "code",
        "colab": {
          "base_uri": "https://localhost:8080/",
          "height": 300
        },
        "outputId": "1fc8ed9c-9faa-4d15-8f7d-244e5fbca804"
      },
      "source": [
        "learn.lr_find()"
      ],
      "execution_count": 35,
      "outputs": [
        {
          "output_type": "display_data",
          "data": {
            "text/html": [
              ""
            ],
            "text/plain": [
              "<IPython.core.display.HTML object>"
            ]
          },
          "metadata": {
            "tags": []
          }
        },
        {
          "output_type": "execute_result",
          "data": {
            "text/plain": [
              "SuggestedLRs(lr_min=0.00831763744354248, lr_steep=0.0691830962896347)"
            ]
          },
          "metadata": {
            "tags": []
          },
          "execution_count": 35
        },
        {
          "output_type": "display_data",
          "data": {
            "image/png": "[encoded data removed]",
            "text/plain": [
              "<Figure size 432x288 with 1 Axes>"
            ]
          },
          "metadata": {
            "tags": [],
            "needs_background": "light"
          }
        }
      ]
    },
    {
      "cell_type": "markdown",
      "metadata": {
        "id": "pOUSK0PnkFAS",
        "colab_type": "text"
      },
      "source": [
        "แล้วเทรนไปแค่ 1 Epoch "
      ]
    },
    {
      "cell_type": "code",
      "metadata": {
        "id": "8KGjIPv_dPsX",
        "colab_type": "code",
        "colab": {
          "base_uri": "https://localhost:8080/",
          "height": 80
        },
        "outputId": "4e7b7a36-d55d-43f8-d2d2-005f656572cf"
      },
      "source": [
        "learn.fit_one_cycle(1, 3e-5)"
      ],
      "execution_count": 36,
      "outputs": [
        {
          "output_type": "display_data",
          "data": {
            "text/html": [
              "<table border=\"1\" class=\"dataframe\">\n",
              "  <thead>\n",
              "    <tr style=\"text-align: left;\">\n",
              "      <th>epoch</th>\n",
              "      <th>train_loss</th>\n",
              "      <th>valid_loss</th>\n",
              "      <th>perplexity</th>\n",
              "      <th>time</th>\n",
              "    </tr>\n",
              "  </thead>\n",
              "  <tbody>\n",
              "    <tr>\n",
              "      <td>0</td>\n",
              "      <td>3.658444</td>\n",
              "      <td>3.253683</td>\n",
              "      <td>25.885509</td>\n",
              "      <td>08:18</td>\n",
              "    </tr>\n",
              "  </tbody>\n",
              "</table>"
            ],
            "text/plain": [
              "<IPython.core.display.HTML object>"
            ]
          },
          "metadata": {
            "tags": []
          }
        }
      ]
    },
    {
      "cell_type": "markdown",
      "metadata": {
        "id": "eerSUDt8j77d",
        "colab_type": "text"
      },
      "source": [
        ""
      ]
    },
    {
      "cell_type": "markdown",
      "metadata": {
        "id": "VkHuTFwYj7sw",
        "colab_type": "text"
      },
      "source": [
        "เราเทรนไปแค่ 1 Epoch โดยไม่ได้ปรับอะไรเลย โมเดลไม่ได้ประสิทธิภาพดีขึ้นสักเท่าไร เพราะมันดีมากอยู่แล้ว ต่อมาเราจะมาลองใช้โมเดล generate ข้อความดู ดังรูปแบบตัวอย่างใน Validation Set"
      ]
    },
    {
      "cell_type": "code",
      "metadata": {
        "id": "rCB-wc-9jzvN",
        "colab_type": "code",
        "colab": {
          "base_uri": "https://localhost:8080/",
          "height": 131
        },
        "outputId": "ed560add-56ea-4ef4-f333-952812d8fa11"
      },
      "source": [
        "df_valid.head(1)"
      ],
      "execution_count": 37,
      "outputs": [
        {
          "output_type": "execute_result",
          "data": {
            "text/html": [
              "<div>\n",
              "<style scoped>\n",
              "    .dataframe tbody tr th:only-of-type {\n",
              "        vertical-align: middle;\n",
              "    }\n",
              "\n",
              "    .dataframe tbody tr th {\n",
              "        vertical-align: top;\n",
              "    }\n",
              "\n",
              "    .dataframe thead th {\n",
              "        text-align: right;\n",
              "    }\n",
              "</style>\n",
              "<table border=\"1\" class=\"dataframe\">\n",
              "  <thead>\n",
              "    <tr style=\"text-align: right;\">\n",
              "      <th></th>\n",
              "      <th>0</th>\n",
              "    </tr>\n",
              "  </thead>\n",
              "  <tbody>\n",
              "    <tr>\n",
              "      <th>0</th>\n",
              "      <td>\\n = Tropical Storm &lt;unk&gt; ( 2008 ) = \\n \\n Tropical Storm &lt;unk&gt; was the tenth tropical storm of the 2008 Atlantic hurricane season . &lt;unk&gt; developed out of a strong tropical wave which moved off the African coast on August 31 . The wave quickly became organized and was declared Tropical Depression Ten while located 170 mi ( 270 km ) to the south @-@ southeast of the Cape Verde Islands on September 2 . The depression was quickly upgraded to Tropical Storm &lt;unk&gt; around noon the same day . Over the next several days , &lt;unk&gt; moved in a general west @-@ northwest direction and reached its peak...</td>\n",
              "    </tr>\n",
              "  </tbody>\n",
              "</table>\n",
              "</div>"
            ],
            "text/plain": [
              "                                                                                                                                                                                                                                                                                                                                                                                                                                                                                                                                                                                                                         0\n",
              "0   \\n = Tropical Storm <unk> ( 2008 ) = \\n \\n Tropical Storm <unk> was the tenth tropical storm of the 2008 Atlantic hurricane season . <unk> developed out of a strong tropical wave which moved off the African coast on August 31 . The wave quickly became organized and was declared Tropical Depression Ten while located 170 mi ( 270 km ) to the south @-@ southeast of the Cape Verde Islands on September 2 . The depression was quickly upgraded to Tropical Storm <unk> around noon the same day . Over the next several days , <unk> moved in a general west @-@ northwest direction and reached its peak..."
            ]
          },
          "metadata": {
            "tags": []
          },
          "execution_count": 37
        }
      ]
    },
    {
      "cell_type": "code",
      "metadata": {
        "id": "HUqjklY7jzjk",
        "colab_type": "code",
        "colab": {}
      },
      "source": [
        "prompt = \"\\n = Modern economy = \\n \\n The modern economy is driven by data, and that trend is being accelerated by\""
      ],
      "execution_count": 0,
      "outputs": []
    },
    {
      "cell_type": "code",
      "metadata": {
        "id": "NfWPFu1ou6C6",
        "colab_type": "code",
        "colab": {
          "base_uri": "https://localhost:8080/",
          "height": 34
        },
        "outputId": "1e7438a4-0faa-4841-98ab-deef12000aea"
      },
      "source": [
        "prompt_ids = tokenizer.encode(prompt)\n",
        "# prompt_ids"
      ],
      "execution_count": 66,
      "outputs": [
        {
          "output_type": "stream",
          "text": [
            "Using pad_token, but it is not set yet.\n"
          ],
          "name": "stderr"
        }
      ]
    },
    {
      "cell_type": "code",
      "metadata": {
        "id": "oDhQFIFMjzYy",
        "colab_type": "code",
        "colab": {
          "base_uri": "https://localhost:8080/",
          "height": 34
        },
        "outputId": "713e2d31-6af6-4894-afc3-aef3f1eaea99"
      },
      "source": [
        "inp = torch.LongTensor(prompt_ids)[None].cuda()\n",
        "inp.shape"
      ],
      "execution_count": 67,
      "outputs": [
        {
          "output_type": "execute_result",
          "data": {
            "text/plain": [
              "torch.Size([1, 24])"
            ]
          },
          "metadata": {
            "tags": []
          },
          "execution_count": 67
        }
      ]
    },
    {
      "cell_type": "code",
      "metadata": {
        "id": "AUZ9wVb6jzOV",
        "colab_type": "code",
        "colab": {
          "base_uri": "https://localhost:8080/",
          "height": 51
        },
        "outputId": "b9b9deab-133e-4f73-cb7f-339482acd22d"
      },
      "source": [
        "preds = learn.model.generate(inp, max_length=50, num_beams=5, temperature=1.6)\n",
        "preds.shape"
      ],
      "execution_count": 68,
      "outputs": [
        {
          "output_type": "stream",
          "text": [
            "Setting `pad_token_id` to 50256 (first `eos_token_id`) to generate sequence\n"
          ],
          "name": "stderr"
        },
        {
          "output_type": "execute_result",
          "data": {
            "text/plain": [
              "torch.Size([1, 50])"
            ]
          },
          "metadata": {
            "tags": []
          },
          "execution_count": 68
        }
      ]
    },
    {
      "cell_type": "code",
      "metadata": {
        "id": "LrcIG_U3vPir",
        "colab_type": "code",
        "colab": {
          "base_uri": "https://localhost:8080/",
          "height": 119
        },
        "outputId": "f3a8cfe3-bcd0-4c0a-8a40-f5873610291d"
      },
      "source": [
        "preds[0]"
      ],
      "execution_count": 69,
      "outputs": [
        {
          "output_type": "execute_result",
          "data": {
            "text/plain": [
              "tensor([  198,   796, 12495,  3773,   796,   220,   198,   220,   198,   383,\n",
              "         3660,  3773,   318,  7986,   416,  1366,    11,   290,   326,  5182,\n",
              "          318,   852, 23312,   416,   649,  8514,    13,   198,   198,   818,\n",
              "          262,  1613,  1178,   812,    11,   612,   468,   635,   587,   281,\n",
              "         2620,   287,   262,  1271,   286,   661,   508,   670,   287,   262],\n",
              "       device='cuda:0')"
            ]
          },
          "metadata": {
            "tags": []
          },
          "execution_count": 69
        }
      ]
    },
    {
      "cell_type": "code",
      "metadata": {
        "id": "gDJjPGubt0hn",
        "colab_type": "code",
        "colab": {
          "base_uri": "https://localhost:8080/",
          "height": 54
        },
        "outputId": "0ac479dc-eb0e-4e19-b012-043efa6ba0bb"
      },
      "source": [
        "tokenizer.decode(preds[0].cpu().numpy())"
      ],
      "execution_count": 70,
      "outputs": [
        {
          "output_type": "execute_result",
          "data": {
            "text/plain": [
              "'\\n = Modern economy = \\n \\n The modern economy is driven by data, and that trend is being accelerated by new technologies.\\n\\nIn the past few years, there has also been an increase in the number of people who work in the'"
            ]
          },
          "metadata": {
            "tags": []
          },
          "execution_count": 70
        }
      ]
    },
    {
      "cell_type": "code",
      "metadata": {
        "id": "lgnn5pIlutyV",
        "colab_type": "code",
        "colab": {}
      },
      "source": [
        ""
      ],
      "execution_count": 0,
      "outputs": []
    },
    {
      "cell_type": "markdown",
      "metadata": {
        "id": "YhRXTdGYP4U0",
        "colab_type": "text"
      },
      "source": [
        "# Credit"
      ]
    },
    {
      "cell_type": "markdown",
      "metadata": {
        "id": "RW3xTQlZQjd3",
        "colab_type": "text"
      },
      "source": [
        "* https://dev.fast.ai/tutorial.transformers\n",
        "* https://github.com/huggingface/transformers"
      ]
    },
    {
      "cell_type": "code",
      "metadata": {
        "id": "L9FThL8YQlZt",
        "colab_type": "code",
        "colab": {}
      },
      "source": [
        ""
      ],
      "execution_count": 0,
      "outputs": []
    }
  ]
}