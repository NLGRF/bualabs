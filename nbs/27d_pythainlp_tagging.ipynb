{
  "nbformat": 4,
  "nbformat_minor": 0,
  "metadata": {
    "colab": {
      "name": "27d_pythainlp_tagging.ipynb",
      "provenance": [],
      "authorship_tag": "ABX9TyMm2X4fwhmoESkq5b7DSk53"
    },
    "kernelspec": {
      "name": "python3",
      "display_name": "Python 3"
    }
  },
  "cells": [
    {
      "cell_type": "markdown",
      "metadata": {
        "id": "4CyRqw3lLp2v",
        "colab_type": "text"
      },
      "source": [
        "งานทาง [NLP](https://www.bualabs.com/archives/category/knowledge/artificial-intelligence/natural-language-processing-nlp/) อีกงาน ที่เป็นเรื่องพื้นฐานสุด ๆ ที่เราต้องเรียนรู้ ก่อนที่จะเข้าใจ ภาษาใด ๆ คือ Part of Speech ส่วนของคำพูด หรือ ประเภทของคำหรือชนิดของคำที่อยู่ในประโยค เช่น คำนาม คำสรรพนาม คำกริยา คำวิเศษณ์ เนื่องจาก ประโยค วลี คำพูด ต่าง ๆ ที่เราใช้สื่อสารกันนั้น ล้วนเกิดขึ้นจากการนำคำต่าง ๆ มาประกอบกันเป็นส่วนต่าง ๆ ที่ทำหน้าที่ต่างกันในประโยค\n",
        "\n",
        "และต่อจากเรารู้ว่าคำไหนเป็น Part of Speech อะไร แล้วเราจะมาเรียนรู้ Named-Entity Recognition ทำ Named-Entity Tagging ว่าคำ ๆ นี้ เป็น ชื่อสิ่งที่อยู่ในโลกความเป็นจริงหรือไม่ ประเภทอะไร เช่น ชื่อคน ชื่อสถานที่ องค์กร สินค้า จำนวน หรือ วันเวลา เป็นต้น persons, locations, organizations, products, medical codes, time expressions, quantities, monetary values, percentages "
      ]
    },
    {
      "cell_type": "markdown",
      "metadata": {
        "colab_type": "text",
        "id": "CzApwnjVlKxC"
      },
      "source": [
        "# 0. Install"
      ]
    },
    {
      "cell_type": "code",
      "metadata": {
        "colab_type": "code",
        "id": "0WcUkQRak7e6",
        "colab": {}
      },
      "source": [
        "%reload_ext autoreload\n",
        "%autoreload 2\n",
        "%matplotlib inline"
      ],
      "execution_count": 0,
      "outputs": []
    },
    {
      "cell_type": "markdown",
      "metadata": {
        "colab_type": "text",
        "id": "MGOPzh9vCLJh"
      },
      "source": [
        "Install Library ที่จำเป็น แล้ว Restart Runtime"
      ]
    },
    {
      "cell_type": "code",
      "metadata": {
        "id": "QpAhcT3WxGqF",
        "colab_type": "code",
        "colab": {}
      },
      "source": [
        "# dev version\n",
        "# !pip install https://github.com/PyThaiNLP/pythainlp/archive/dev.zip\n",
        "\n",
        "# release version \n",
        "! pip install pythainlp -q\n",
        "! pip install epitran -q\n",
        "! pip install sklearn_crfsuite -q"
      ],
      "execution_count": 0,
      "outputs": []
    },
    {
      "cell_type": "markdown",
      "metadata": {
        "id": "0u3BdH34_hN1",
        "colab_type": "text"
      },
      "source": [
        "Restart Runtime เพื่อให้ใช้ Library เวอร์ชัน ที่เพิ่ง Install ลงไป"
      ]
    },
    {
      "cell_type": "markdown",
      "metadata": {
        "id": "86CaxdqnE0Ag",
        "colab_type": "text"
      },
      "source": [
        "ในเคสนี้ เราจะปิด Warning ไว้ก่อน จะได้อ่านผลลัพท์ง่าย"
      ]
    },
    {
      "cell_type": "code",
      "metadata": {
        "id": "rha7sfRokmVJ",
        "colab_type": "code",
        "colab": {}
      },
      "source": [
        "import warnings\n",
        "warnings.filterwarnings('ignore')"
      ],
      "execution_count": 0,
      "outputs": []
    },
    {
      "cell_type": "markdown",
      "metadata": {
        "colab_type": "text",
        "id": "3VxLNfAElR29"
      },
      "source": [
        "# 1. Import"
      ]
    },
    {
      "cell_type": "markdown",
      "metadata": {
        "colab_type": "text",
        "id": "nGm02SG0CQrq"
      },
      "source": [
        "Import Library ที่จะใช้ ในที่นี้คือ PyThaiNLP"
      ]
    },
    {
      "cell_type": "code",
      "metadata": {
        "id": "RUurvnGIsEWv",
        "colab_type": "code",
        "outputId": "550ac2cc-1b12-407b-90da-b7c6a9b7a4a2",
        "colab": {
          "base_uri": "https://localhost:8080/",
          "height": 34
        }
      },
      "source": [
        "import pythainlp\n",
        "\n",
        "pythainlp.__version__"
      ],
      "execution_count": 4,
      "outputs": [
        {
          "output_type": "execute_result",
          "data": {
            "text/plain": [
              "'2.1.4'"
            ]
          },
          "metadata": {
            "tags": []
          },
          "execution_count": 4
        }
      ]
    },
    {
      "cell_type": "markdown",
      "metadata": {
        "id": "ZlMuSx6mpuAd",
        "colab_type": "text"
      },
      "source": [
        "เตรียมข้อความไว้ก่อน"
      ]
    },
    {
      "cell_type": "code",
      "metadata": {
        "id": "11FRiLJ3pNH7",
        "colab_type": "code",
        "colab": {}
      },
      "source": [
        "from pythainlp import sent_tokenize, word_tokenize"
      ],
      "execution_count": 0,
      "outputs": []
    },
    {
      "cell_type": "code",
      "metadata": {
        "id": "Rj8BCx72p4A2",
        "colab_type": "code",
        "colab": {}
      },
      "source": [
        "text = \"ชาวต่างชาติเรียกอาณาจักรอยุธยาว่าสยาม\""
      ],
      "execution_count": 0,
      "outputs": []
    },
    {
      "cell_type": "code",
      "metadata": {
        "id": "Ayj9MUCdpM6N",
        "colab_type": "code",
        "colab": {
          "base_uri": "https://localhost:8080/",
          "height": 34
        },
        "outputId": "2551f3da-109e-48d6-a119-acf9b3103810"
      },
      "source": [
        "sent = word_tokenize(text)\n",
        "sent"
      ],
      "execution_count": 17,
      "outputs": [
        {
          "output_type": "execute_result",
          "data": {
            "text/plain": [
              "['ชาวต่างชาติ', 'เรียก', 'อาณาจักร', 'อยุธยา', 'ว่า', 'สยาม']"
            ]
          },
          "metadata": {
            "tags": []
          },
          "execution_count": 17
        }
      ]
    },
    {
      "cell_type": "code",
      "metadata": {
        "id": "js4-KLXwpeTD",
        "colab_type": "code",
        "colab": {}
      },
      "source": [
        "texts = [\"ไทยบางแก้วเป็นสุนัขประเภทสปิตซ์สายพันธุ์หนึ่งที่มีถิ่นกำเนิดในประเทศไทย\",\n",
        "         \"ไทยบางแก้วถือเป็นสุนัขไทยสายพันธุ์เดียวที่มีขนยาวสองชั้นหางเป็นพวงมีขนขาหน้าคล้ายขนขาแข้งสิงห์แผงรอบคอคล้ายสิงโตมีความเฉลียวฉลาด\"]"
      ],
      "execution_count": 0,
      "outputs": []
    },
    {
      "cell_type": "code",
      "metadata": {
        "id": "WbkQ3kQwpelh",
        "colab_type": "code",
        "colab": {
          "base_uri": "https://localhost:8080/",
          "height": 782
        },
        "outputId": "95d74936-3cbe-4bf6-8255-071ec2778cfa"
      },
      "source": [
        "sents = [word_tokenize(text) for text in texts]\n",
        "sents"
      ],
      "execution_count": 49,
      "outputs": [
        {
          "output_type": "execute_result",
          "data": {
            "text/plain": [
              "[['ไทย',\n",
              "  'บาง',\n",
              "  'แก้ว',\n",
              "  'เป็น',\n",
              "  'สุนัข',\n",
              "  'ประเภท',\n",
              "  'สปิตซ์',\n",
              "  'สายพันธุ์',\n",
              "  'หนึ่ง',\n",
              "  'ที่',\n",
              "  'มี',\n",
              "  'ถิ่นกำเนิด',\n",
              "  'ในประเทศ',\n",
              "  'ไทย'],\n",
              " ['ไทย',\n",
              "  'บาง',\n",
              "  'แก้ว',\n",
              "  'ถือเป็น',\n",
              "  'สุนัข',\n",
              "  'ไทย',\n",
              "  'สายพันธุ์',\n",
              "  'เดียว',\n",
              "  'ที่',\n",
              "  'มี',\n",
              "  'ขน',\n",
              "  'ยาว',\n",
              "  'สองชั้น',\n",
              "  'หาง',\n",
              "  'เป็น',\n",
              "  'พวง',\n",
              "  'มี',\n",
              "  'ขน',\n",
              "  'ขา',\n",
              "  'หน้า',\n",
              "  'คล้าย',\n",
              "  'ขน',\n",
              "  'ขา',\n",
              "  'แข้งสิงห์',\n",
              "  'แผง',\n",
              "  'รอบ',\n",
              "  'คอ',\n",
              "  'คล้าย',\n",
              "  'สิงโต',\n",
              "  'มี',\n",
              "  'ความเฉลียวฉลาด']]"
            ]
          },
          "metadata": {
            "tags": []
          },
          "execution_count": 49
        }
      ]
    },
    {
      "cell_type": "markdown",
      "metadata": {
        "id": "YeJuPfAjSGnt",
        "colab_type": "text"
      },
      "source": [
        "# 2. PyThaiNLP Part-of-Speech Tagging"
      ]
    },
    {
      "cell_type": "markdown",
      "metadata": {
        "id": "Q2gg8KZqtFB2",
        "colab_type": "text"
      },
      "source": [
        "Part of Speech Tagging คือ การแปะป้ายว่า คำไหน เป็นส่วนไหนของประโยค เช่น คำนาม คำสรรพนาม คำกริยา คำวิเศษณ์ คำบุพบท คำสันธาน noun, pronoun, verb, adjective, adverb, preposition, conjunction และ interjection"
      ]
    },
    {
      "cell_type": "code",
      "metadata": {
        "id": "o_NpQW-aMFNh",
        "colab_type": "code",
        "colab": {}
      },
      "source": [
        "from pythainlp.tag import pos_tag, pos_tag_sents"
      ],
      "execution_count": 0,
      "outputs": []
    },
    {
      "cell_type": "markdown",
      "metadata": {
        "id": "e3vO4FghYs5B",
        "colab_type": "text"
      },
      "source": [
        "## 2.1 pos_tag"
      ]
    },
    {
      "cell_type": "markdown",
      "metadata": {
        "id": "Xm3W3oq5V1WS",
        "colab_type": "text"
      },
      "source": [
        "### Engine"
      ]
    },
    {
      "cell_type": "markdown",
      "metadata": {
        "id": "5GhAKVBjUvV4",
        "colab_type": "text"
      },
      "source": [
        "มี Engine ให้เลือกหลายตัว ได้แก่ \n",
        "\n",
        "* perceptron (default) - perceptron tagger \n",
        "* unigram - unigram tagger"
      ]
    },
    {
      "cell_type": "code",
      "metadata": {
        "id": "Nm1sebqdZFsY",
        "colab_type": "code",
        "colab": {}
      },
      "source": [
        "# sent = ['ชาวต่างชาติ', 'เรียก', 'อาณาจักร', 'อยุธยา', 'ว่า', 'สยาม']"
      ],
      "execution_count": 0,
      "outputs": []
    },
    {
      "cell_type": "code",
      "metadata": {
        "id": "E2XyZw2cSczg",
        "colab_type": "code",
        "colab": {
          "base_uri": "https://localhost:8080/",
          "height": 119
        },
        "outputId": "da5c439b-3afa-4aa8-b33e-0168a3c50366"
      },
      "source": [
        "pos_tag(sent) # Default engine=\"perceptron\""
      ],
      "execution_count": 24,
      "outputs": [
        {
          "output_type": "execute_result",
          "data": {
            "text/plain": [
              "[('ชาวต่างชาติ', 'NCMN'),\n",
              " ('เรียก', 'VACT'),\n",
              " ('อาณาจักร', 'NCMN'),\n",
              " ('อยุธยา', 'VACT'),\n",
              " ('ว่า', 'JSBR'),\n",
              " ('สยาม', 'NCMN')]"
            ]
          },
          "metadata": {
            "tags": []
          },
          "execution_count": 24
        }
      ]
    },
    {
      "cell_type": "code",
      "metadata": {
        "id": "GUpbFEbQScpW",
        "colab_type": "code",
        "colab": {
          "base_uri": "https://localhost:8080/",
          "height": 119
        },
        "outputId": "f975910a-1200-4e68-8ade-11fd4eef7048"
      },
      "source": [
        "pos_tag(sent, engine=\"unigram\")"
      ],
      "execution_count": 25,
      "outputs": [
        {
          "output_type": "execute_result",
          "data": {
            "text/plain": [
              "[('ชาวต่างชาติ', 'NCMN'),\n",
              " ('เรียก', 'VACT'),\n",
              " ('อาณาจักร', None),\n",
              " ('อยุธยา', None),\n",
              " ('ว่า', 'JSBR'),\n",
              " ('สยาม', None)]"
            ]
          },
          "metadata": {
            "tags": []
          },
          "execution_count": 25
        }
      ]
    },
    {
      "cell_type": "markdown",
      "metadata": {
        "id": "iuWNSsciV4V5",
        "colab_type": "text"
      },
      "source": [
        "## Corpus"
      ]
    },
    {
      "cell_type": "markdown",
      "metadata": {
        "id": "G-vkRRcvU3pk",
        "colab_type": "text"
      },
      "source": [
        "เราสามารถเลือกใช้คำศัพท์ จาก Curpus ต่าง ๆ ได้แก่ \n",
        "\n",
        "* orchid (default) - annotated Thai academic articles namedly Orchid \n",
        "* orchid_ud - annotated Thai academic articles *Orchid* but the POS tags are mapped to comply with Universal Dependencies POS  Tags\n",
        "* pud - Parallel Universal Dependencies (PUD)"
      ]
    },
    {
      "cell_type": "code",
      "metadata": {
        "id": "YS2R_QZ-Xlu7",
        "colab_type": "code",
        "colab": {
          "base_uri": "https://localhost:8080/",
          "height": 119
        },
        "outputId": "e91d796f-15c8-48e2-83bc-9a489b8e6820"
      },
      "source": [
        "pos_tag(sent)  # (default) corpus=\"orchid\""
      ],
      "execution_count": 26,
      "outputs": [
        {
          "output_type": "execute_result",
          "data": {
            "text/plain": [
              "[('ชาวต่างชาติ', 'NCMN'),\n",
              " ('เรียก', 'VACT'),\n",
              " ('อาณาจักร', 'NCMN'),\n",
              " ('อยุธยา', 'VACT'),\n",
              " ('ว่า', 'JSBR'),\n",
              " ('สยาม', 'NCMN')]"
            ]
          },
          "metadata": {
            "tags": []
          },
          "execution_count": 26
        }
      ]
    },
    {
      "cell_type": "code",
      "metadata": {
        "id": "HLBoFWpZUn9D",
        "colab_type": "code",
        "colab": {
          "base_uri": "https://localhost:8080/",
          "height": 119
        },
        "outputId": "fb312058-7cf2-4200-98b4-1317a6c3a698"
      },
      "source": [
        "pos_tag(sent, corpus=\"orchid_ud\")"
      ],
      "execution_count": 27,
      "outputs": [
        {
          "output_type": "execute_result",
          "data": {
            "text/plain": [
              "[('ชาวต่างชาติ', 'NOUN'),\n",
              " ('เรียก', 'VERB'),\n",
              " ('อาณาจักร', 'NOUN'),\n",
              " ('อยุธยา', 'VERB'),\n",
              " ('ว่า', 'SCONJ'),\n",
              " ('สยาม', 'NOUN')]"
            ]
          },
          "metadata": {
            "tags": []
          },
          "execution_count": 27
        }
      ]
    },
    {
      "cell_type": "code",
      "metadata": {
        "id": "UU24wDqpScfO",
        "colab_type": "code",
        "colab": {
          "base_uri": "https://localhost:8080/",
          "height": 119
        },
        "outputId": "785ca9d8-5c3d-404f-99dc-33435e6e1d3d"
      },
      "source": [
        "pos_tag(sent, corpus=\"pud\")"
      ],
      "execution_count": 28,
      "outputs": [
        {
          "output_type": "execute_result",
          "data": {
            "text/plain": [
              "[('ชาวต่างชาติ', 'NOUN'),\n",
              " ('เรียก', 'VERB'),\n",
              " ('อาณาจักร', 'VERB'),\n",
              " ('อยุธยา', 'PROPN'),\n",
              " ('ว่า', 'ADP'),\n",
              " ('สยาม', 'NOUN')]"
            ]
          },
          "metadata": {
            "tags": []
          },
          "execution_count": 28
        }
      ]
    },
    {
      "cell_type": "markdown",
      "metadata": {
        "id": "DU9QHthIScUB",
        "colab_type": "text"
      },
      "source": [
        "Uncomment แล้วรัน Cell เพื่อดู help"
      ]
    },
    {
      "cell_type": "code",
      "metadata": {
        "id": "6kQRyzzyMFSC",
        "colab_type": "code",
        "colab": {}
      },
      "source": [
        "# pos_tag??\n",
        "# pos_tag_sents??"
      ],
      "execution_count": 0,
      "outputs": []
    },
    {
      "cell_type": "markdown",
      "metadata": {
        "id": "A8PSmQmIYp7D",
        "colab_type": "text"
      },
      "source": [
        "## 2.2 pos_tag_sents"
      ]
    },
    {
      "cell_type": "markdown",
      "metadata": {
        "id": "fj908HIzYySE",
        "colab_type": "text"
      },
      "source": [
        "POS Tagging ทีละหลายประโยค"
      ]
    },
    {
      "cell_type": "code",
      "metadata": {
        "id": "OX7gwGIKMFV6",
        "colab_type": "code",
        "colab": {}
      },
      "source": [
        "# sents = [['ไทย', 'บาง', 'แก้ว', 'เป็น', 'สุนัข', 'ประเภท', 'สปิตซ์', 'สายพันธุ์', 'หนึ่ง', 'ที่', 'มี', 'ถิ่นกำเนิด', 'ในประเทศ', 'ไทย'],  \n",
        "#          ['ไทย', 'บาง', 'แก้ว', 'ถือเป็น', 'สุนัข', 'ไทย', 'สายพันธุ์', 'เดียว', 'ที่', 'มี', 'ขน', 'ยาว', 'สองชั้น', 'หาง', 'เป็น', 'พวง', 'มี', 'ขน', 'ขา', 'หน้า', 'คล้าย', 'ขน', 'ขา', 'แข้งสิงห์', 'แผง', 'รอบ', 'คอ', 'คล้าย', 'สิงโต', 'มี', 'ความเฉลียวฉลาด']]"
      ],
      "execution_count": 0,
      "outputs": []
    },
    {
      "cell_type": "code",
      "metadata": {
        "id": "IeXUxvjeMFZy",
        "colab_type": "code",
        "colab": {
          "base_uri": "https://localhost:8080/",
          "height": 782
        },
        "outputId": "6717d281-0b2e-487a-c321-20b0fe2a3795"
      },
      "source": [
        "pos_tag_sents(sents)"
      ],
      "execution_count": 35,
      "outputs": [
        {
          "output_type": "execute_result",
          "data": {
            "text/plain": [
              "[[('ไทย', 'NPRP'),\n",
              "  ('บาง', 'DIBQ'),\n",
              "  ('แก้ว', 'CNIT'),\n",
              "  ('เป็น', 'VSTA'),\n",
              "  ('สุนัข', 'NCMN'),\n",
              "  ('ประเภท', 'CLTV'),\n",
              "  ('สปิตซ์', 'NCMN'),\n",
              "  ('สายพันธุ์', 'NCMN'),\n",
              "  ('หนึ่ง', 'DCNM'),\n",
              "  ('ที่', 'PREL'),\n",
              "  ('มี', 'VSTA'),\n",
              "  ('ถิ่นกำเนิด', 'NCMN'),\n",
              "  ('ในประเทศ', 'NCMN'),\n",
              "  ('ไทย', 'NPRP')],\n",
              " [('ไทย', 'NPRP'),\n",
              "  ('บาง', 'DIBQ'),\n",
              "  ('แก้ว', 'CNIT'),\n",
              "  ('ถือเป็น', 'VSTA'),\n",
              "  ('สุนัข', 'NCMN'),\n",
              "  ('ไทย', 'NPRP'),\n",
              "  ('สายพันธุ์', 'CNIT'),\n",
              "  ('เดียว', 'DIAC'),\n",
              "  ('ที่', 'PREL'),\n",
              "  ('มี', 'VSTA'),\n",
              "  ('ขน', 'NCMN'),\n",
              "  ('ยาว', 'VATT'),\n",
              "  ('สองชั้น', 'ADVN'),\n",
              "  ('หาง', 'NCMN'),\n",
              "  ('เป็น', 'VSTA'),\n",
              "  ('พวง', 'NCMN'),\n",
              "  ('มี', 'VSTA'),\n",
              "  ('ขน', 'NCMN'),\n",
              "  ('ขา', 'NCMN'),\n",
              "  ('หน้า', 'VATT'),\n",
              "  ('คล้าย', 'VSTA'),\n",
              "  ('ขน', 'NCMN'),\n",
              "  ('ขา', 'NCMN'),\n",
              "  ('แข้งสิงห์', 'NCMN'),\n",
              "  ('แผง', 'NCMN'),\n",
              "  ('รอบ', 'CFQC'),\n",
              "  ('คอ', 'NCMN'),\n",
              "  ('คล้าย', 'VSTA'),\n",
              "  ('สิงโต', 'NCMN'),\n",
              "  ('มี', 'VSTA'),\n",
              "  ('ความเฉลียวฉลาด', 'NCMN')]]"
            ]
          },
          "metadata": {
            "tags": []
          },
          "execution_count": 35
        }
      ]
    },
    {
      "cell_type": "code",
      "metadata": {
        "id": "bPxE8fIxa5XL",
        "colab_type": "code",
        "colab": {
          "base_uri": "https://localhost:8080/",
          "height": 782
        },
        "outputId": "9268fb11-8345-49bd-b516-c03e8f9ec054"
      },
      "source": [
        "pos_tag_sents(sents, engine=\"unigram\")"
      ],
      "execution_count": 36,
      "outputs": [
        {
          "output_type": "execute_result",
          "data": {
            "text/plain": [
              "[[('ไทย', 'NPRP'),\n",
              "  ('บาง', 'DIBQ'),\n",
              "  ('แก้ว', 'NCMN'),\n",
              "  ('เป็น', 'VSTA'),\n",
              "  ('สุนัข', None),\n",
              "  ('ประเภท', 'CLTV'),\n",
              "  ('สปิตซ์', None),\n",
              "  ('สายพันธุ์', None),\n",
              "  ('หนึ่ง', 'DCNM'),\n",
              "  ('ที่', 'PREL'),\n",
              "  ('มี', 'VSTA'),\n",
              "  ('ถิ่นกำเนิด', None),\n",
              "  ('ในประเทศ', None),\n",
              "  ('ไทย', 'NPRP')],\n",
              " [('ไทย', 'NPRP'),\n",
              "  ('บาง', 'DIBQ'),\n",
              "  ('แก้ว', 'NCMN'),\n",
              "  ('ถือเป็น', 'VSTA'),\n",
              "  ('สุนัข', None),\n",
              "  ('ไทย', 'NPRP'),\n",
              "  ('สายพันธุ์', None),\n",
              "  ('เดียว', 'DIAC'),\n",
              "  ('ที่', 'PREL'),\n",
              "  ('มี', 'VSTA'),\n",
              "  ('ขน', None),\n",
              "  ('ยาว', 'VATT'),\n",
              "  ('สองชั้น', None),\n",
              "  ('หาง', 'NCMN'),\n",
              "  ('เป็น', 'VSTA'),\n",
              "  ('พวง', None),\n",
              "  ('มี', 'VSTA'),\n",
              "  ('ขน', None),\n",
              "  ('ขา', 'NCMN'),\n",
              "  ('หน้า', 'NCMN'),\n",
              "  ('คล้าย', 'VSTA'),\n",
              "  ('ขน', None),\n",
              "  ('ขา', 'NCMN'),\n",
              "  ('แข้งสิงห์', None),\n",
              "  ('แผง', 'NCMN'),\n",
              "  ('รอบ', 'NCMN'),\n",
              "  ('คอ', 'NCMN'),\n",
              "  ('คล้าย', 'VSTA'),\n",
              "  ('สิงโต', None),\n",
              "  ('มี', 'VSTA'),\n",
              "  ('ความเฉลียวฉลาด', None)]]"
            ]
          },
          "metadata": {
            "tags": []
          },
          "execution_count": 36
        }
      ]
    },
    {
      "cell_type": "code",
      "metadata": {
        "id": "CHt2nUuxa5M8",
        "colab_type": "code",
        "colab": {
          "base_uri": "https://localhost:8080/",
          "height": 782
        },
        "outputId": "e357e4df-6efc-4190-9364-e2f50aa74864"
      },
      "source": [
        "pos_tag_sents(sents, corpus=\"orchid_ud\")"
      ],
      "execution_count": 37,
      "outputs": [
        {
          "output_type": "execute_result",
          "data": {
            "text/plain": [
              "[[('ไทย', 'PROPN'),\n",
              "  ('บาง', 'DET'),\n",
              "  ('แก้ว', 'NOUN'),\n",
              "  ('เป็น', 'VERB'),\n",
              "  ('สุนัข', 'NOUN'),\n",
              "  ('ประเภท', 'NOUN'),\n",
              "  ('สปิตซ์', 'NOUN'),\n",
              "  ('สายพันธุ์', 'NOUN'),\n",
              "  ('หนึ่ง', 'NUM'),\n",
              "  ('ที่', 'SCONJ'),\n",
              "  ('มี', 'VERB'),\n",
              "  ('ถิ่นกำเนิด', 'NOUN'),\n",
              "  ('ในประเทศ', 'NOUN'),\n",
              "  ('ไทย', 'PROPN')],\n",
              " [('ไทย', 'PROPN'),\n",
              "  ('บาง', 'DET'),\n",
              "  ('แก้ว', 'NOUN'),\n",
              "  ('ถือเป็น', 'VERB'),\n",
              "  ('สุนัข', 'NOUN'),\n",
              "  ('ไทย', 'PROPN'),\n",
              "  ('สายพันธุ์', 'NOUN'),\n",
              "  ('เดียว', 'DET'),\n",
              "  ('ที่', 'SCONJ'),\n",
              "  ('มี', 'VERB'),\n",
              "  ('ขน', 'NOUN'),\n",
              "  ('ยาว', 'ADJ'),\n",
              "  ('สองชั้น', 'ADV'),\n",
              "  ('หาง', 'NOUN'),\n",
              "  ('เป็น', 'VERB'),\n",
              "  ('พวง', 'NOUN'),\n",
              "  ('มี', 'VERB'),\n",
              "  ('ขน', 'NOUN'),\n",
              "  ('ขา', 'NOUN'),\n",
              "  ('หน้า', 'ADJ'),\n",
              "  ('คล้าย', 'VERB'),\n",
              "  ('ขน', 'NOUN'),\n",
              "  ('ขา', 'NOUN'),\n",
              "  ('แข้งสิงห์', 'NOUN'),\n",
              "  ('แผง', 'NOUN'),\n",
              "  ('รอบ', 'NOUN'),\n",
              "  ('คอ', 'NOUN'),\n",
              "  ('คล้าย', 'VERB'),\n",
              "  ('สิงโต', 'NOUN'),\n",
              "  ('มี', 'VERB'),\n",
              "  ('ความเฉลียวฉลาด', 'NOUN')]]"
            ]
          },
          "metadata": {
            "tags": []
          },
          "execution_count": 37
        }
      ]
    },
    {
      "cell_type": "code",
      "metadata": {
        "id": "iwx8eGKJa5Cb",
        "colab_type": "code",
        "colab": {
          "base_uri": "https://localhost:8080/",
          "height": 782
        },
        "outputId": "007b424d-300f-4cb7-949d-2e1ad01d46cb"
      },
      "source": [
        "pos_tag_sents(sents, corpus=\"pud\")"
      ],
      "execution_count": 38,
      "outputs": [
        {
          "output_type": "execute_result",
          "data": {
            "text/plain": [
              "[[('ไทย', 'PROPN'),\n",
              "  ('บาง', 'DET'),\n",
              "  ('แก้ว', 'NOUN'),\n",
              "  ('เป็น', 'AUX'),\n",
              "  ('สุนัข', 'NOUN'),\n",
              "  ('ประเภท', 'NOUN'),\n",
              "  ('สปิตซ์', 'NOUN'),\n",
              "  ('สายพันธุ์', 'NOUN'),\n",
              "  ('หนึ่ง', 'NUM'),\n",
              "  ('ที่', 'DET'),\n",
              "  ('มี', 'VERB'),\n",
              "  ('ถิ่นกำเนิด', 'NOUN'),\n",
              "  ('ในประเทศ', 'VERB'),\n",
              "  ('ไทย', 'PROPN')],\n",
              " [('ไทย', 'PROPN'),\n",
              "  ('บาง', 'DET'),\n",
              "  ('แก้ว', 'NOUN'),\n",
              "  ('ถือเป็น', 'VERB'),\n",
              "  ('สุนัข', 'VERB'),\n",
              "  ('ไทย', 'PROPN'),\n",
              "  ('สายพันธุ์', 'NOUN'),\n",
              "  ('เดียว', 'ADJ'),\n",
              "  ('ที่', 'DET'),\n",
              "  ('มี', 'VERB'),\n",
              "  ('ขน', 'NOUN'),\n",
              "  ('ยาว', 'ADJ'),\n",
              "  ('สองชั้น', 'CCONJ'),\n",
              "  ('หาง', 'NOUN'),\n",
              "  ('เป็น', 'AUX'),\n",
              "  ('พวง', 'NOUN'),\n",
              "  ('มี', 'VERB'),\n",
              "  ('ขน', 'NOUN'),\n",
              "  ('ขา', 'VERB'),\n",
              "  ('หน้า', 'NOUN'),\n",
              "  ('คล้าย', 'ADJ'),\n",
              "  ('ขน', 'NOUN'),\n",
              "  ('ขา', 'NOUN'),\n",
              "  ('แข้งสิงห์', 'NOUN'),\n",
              "  ('แผง', 'NOUN'),\n",
              "  ('รอบ', 'ADP'),\n",
              "  ('คอ', 'NOUN'),\n",
              "  ('คล้าย', 'VERB'),\n",
              "  ('สิงโต', 'NOUN'),\n",
              "  ('มี', 'VERB'),\n",
              "  ('ความเฉลียวฉลาด', 'NOUN')]]"
            ]
          },
          "metadata": {
            "tags": []
          },
          "execution_count": 38
        }
      ]
    },
    {
      "cell_type": "markdown",
      "metadata": {
        "id": "VnoCCtvmMLwz",
        "colab_type": "text"
      },
      "source": [
        "# 3. PyThaiNLP Named-Entity Tagging"
      ]
    },
    {
      "cell_type": "markdown",
      "metadata": {
        "id": "CuAadKPIe6za",
        "colab_type": "text"
      },
      "source": [
        "Named-Entity Recognition หรือ Named Entity Tagging คือ กระบวนการในการหาตำแหน่ง และ แปะป้ายหมวดหมู่ของกลุ่มคำ ที่อยู่ในเอกสาร เช่น ชื่อคน ชื่อองค์กร สถานที่ ตัวเลข จำนวนเงิน วันเวลา persons, locations, organizations, products, medical codes, time expressions, quantities, monetary values, percentages"
      ]
    },
    {
      "cell_type": "code",
      "metadata": {
        "id": "k5VBf7iJML1S",
        "colab_type": "code",
        "colab": {
          "base_uri": "https://localhost:8080/",
          "height": 68
        },
        "outputId": "e88c3a44-2a56-4695-8510-0eb57ecec8ea"
      },
      "source": [
        "from pythainlp.tag.named_entity import ThaiNameTagger\n",
        "\n",
        "ner = ThaiNameTagger()\n",
        "# ner.get_ner??"
      ],
      "execution_count": 39,
      "outputs": [
        {
          "output_type": "stream",
          "text": [
            "Corpus: thainer-1-3\n",
            "- Downloading: thainer-1-3 1.3\n"
          ],
          "name": "stdout"
        },
        {
          "output_type": "stream",
          "text": [
            "100%|██████████| 1872468/1872468 [00:00<00:00, 4940661.37it/s]\n"
          ],
          "name": "stderr"
        }
      ]
    },
    {
      "cell_type": "markdown",
      "metadata": {
        "id": "_E4wWy9LeOrX",
        "colab_type": "text"
      },
      "source": [
        "## 3.1 POS Tag"
      ]
    },
    {
      "cell_type": "code",
      "metadata": {
        "id": "jtNnQb_BrkzZ",
        "colab_type": "code",
        "colab": {}
      },
      "source": [
        "text2 = \"จังหวัดพะเยา เป็นจังหวัดในภาคเหนือตอนบน บริเวณที่ตั้งของตัวเมืองพะเยาในปัจจุบันอยู่ติดกับกว๊านพะเยา เดิมเป็นที่ตั้งของเมือง ภูกามยาว หรือ พะยาว ที่ก่อตั้งขึ้นเมื่อพุทธศตวรรษที่ 16 โดยกษัตริย์องค์แรกคือ พญาจอมธรรม\""
      ],
      "execution_count": 0,
      "outputs": []
    },
    {
      "cell_type": "code",
      "metadata": {
        "id": "phO4H9qLML6N",
        "colab_type": "code",
        "colab": {
          "base_uri": "https://localhost:8080/",
          "height": 935
        },
        "outputId": "ee8ca896-c4a5-40ad-92a5-7c00263249fb"
      },
      "source": [
        "ner.get_ner(text2)"
      ],
      "execution_count": 42,
      "outputs": [
        {
          "output_type": "execute_result",
          "data": {
            "text/plain": [
              "[('จังหวัด', 'NOUN', 'B-LOCATION'),\n",
              " ('พะเยา', 'NOUN', 'I-LOCATION'),\n",
              " (' ', 'PUNCT', 'O'),\n",
              " ('เป็น', 'VERB', 'O'),\n",
              " ('จังหวัด', 'NOUN', 'O'),\n",
              " ('ใน', 'ADP', 'O'),\n",
              " ('ภาคเหนือ', 'NOUN', 'B-LOCATION'),\n",
              " ('ตอน', 'NOUN', 'I-LOCATION'),\n",
              " ('บน', 'ADP', 'I-LOCATION'),\n",
              " (' ', 'PUNCT', 'O'),\n",
              " ('บริเวณ', 'NOUN', 'O'),\n",
              " ('ที่ตั้ง', 'NOUN', 'O'),\n",
              " ('ของ', 'ADP', 'O'),\n",
              " ('ตัวเมือง', 'NOUN', 'O'),\n",
              " ('พะเยา', 'NOUN', 'B-LOCATION'),\n",
              " ('ใน', 'ADP', 'O'),\n",
              " ('ปัจจุบัน', 'NOUN', 'O'),\n",
              " ('อยู่', 'AUX', 'O'),\n",
              " ('ติดกับ', 'ADP', 'O'),\n",
              " ('กว๊าน', 'NOUN', 'O'),\n",
              " ('พะเยา', 'NOUN', 'O'),\n",
              " (' ', 'PUNCT', 'O'),\n",
              " ('เดิม', 'ADJ', 'O'),\n",
              " ('เป็นที่ตั้ง', 'NOUN', 'O'),\n",
              " ('ของ', 'ADP', 'O'),\n",
              " ('เมือง', 'NOUN', 'O'),\n",
              " (' ', 'PUNCT', 'O'),\n",
              " ('ภู', 'NOUN', 'B-LOCATION'),\n",
              " ('กาม', 'NOUN', 'I-LOCATION'),\n",
              " ('ยาว', 'ADJ', 'I-LOCATION'),\n",
              " (' ', 'PUNCT', 'O'),\n",
              " ('หรือ', 'CCONJ', 'O'),\n",
              " (' ', 'PUNCT', 'O'),\n",
              " ('พะ', 'NOUN', 'O'),\n",
              " ('ยาว', 'ADJ', 'O'),\n",
              " (' ', 'PUNCT', 'O'),\n",
              " ('ที่', 'SCONJ', 'O'),\n",
              " ('ก่อ', 'VERB', 'O'),\n",
              " ('ตั้งขึ้น', 'VERB', 'O'),\n",
              " ('เมื่อ', 'SCONJ', 'O'),\n",
              " ('พุทธศตวรรษ', 'NOUN', 'O'),\n",
              " ('ที่', 'SCONJ', 'O'),\n",
              " (' ', 'PUNCT', 'O'),\n",
              " ('16', 'NUM', 'O'),\n",
              " (' ', 'PUNCT', 'O'),\n",
              " ('โดย', 'SCONJ', 'O'),\n",
              " ('กษัตริย์', 'VERB', 'O'),\n",
              " ('องค์', 'NOUN', 'O'),\n",
              " ('แรก', 'ADJ', 'O'),\n",
              " ('คือ', 'VERB', 'O'),\n",
              " (' ', 'PUNCT', 'O'),\n",
              " ('พญา', 'NOUN', 'B-PERSON'),\n",
              " ('จอม', 'VERB', 'I-PERSON'),\n",
              " ('ธรรม', 'NOUN', 'I-PERSON')]"
            ]
          },
          "metadata": {
            "tags": []
          },
          "execution_count": 42
        }
      ]
    },
    {
      "cell_type": "code",
      "metadata": {
        "id": "4FHqTVQWrs0N",
        "colab_type": "code",
        "colab": {}
      },
      "source": [
        "text3 = \"ในท้ายที่สุดก่อนที่พะเยาจะถูกยกฐานะขึ้นเป็นจังหวัดพะเยา พะเยาอยู่ใต้การปกครองของจังหวัดเชียงรายในฐานะ อำเภอพะเยา และเมื่อวันที่ 28 สิงหาคม พ.ศ. 2520 อำเภอพะเยาได้ยกฐานะขึ้นเป็น จังหวัดพะเยา นับเป็นจังหวัดที่ 72 ของประเทศไทย\""
      ],
      "execution_count": 0,
      "outputs": []
    },
    {
      "cell_type": "code",
      "metadata": {
        "id": "haTHh1lBdETx",
        "colab_type": "code",
        "colab": {
          "base_uri": "https://localhost:8080/",
          "height": 986
        },
        "outputId": "de7f3175-7a23-4c7c-f6b1-7a3ece5ddd0b"
      },
      "source": [
        "ner.get_ner(text3)"
      ],
      "execution_count": 45,
      "outputs": [
        {
          "output_type": "execute_result",
          "data": {
            "text/plain": [
              "[('ใน', 'ADP', 'O'),\n",
              " ('ท้ายที่สุด', 'ADV', 'O'),\n",
              " ('ก่อนที่', 'SCONJ', 'O'),\n",
              " ('พะเยา', 'NOUN', 'O'),\n",
              " ('จะ', 'AUX', 'O'),\n",
              " ('ถูก', 'AUX', 'O'),\n",
              " ('ยกฐานะ', 'VERB', 'O'),\n",
              " ('ขึ้น', 'AUX', 'O'),\n",
              " ('เป็น', 'VERB', 'O'),\n",
              " ('จังหวัด', 'NOUN', 'B-LOCATION'),\n",
              " ('พะเยา', 'NOUN', 'I-LOCATION'),\n",
              " (' ', 'PUNCT', 'O'),\n",
              " ('พะเยา', 'NOUN', 'O'),\n",
              " ('อยู่', 'AUX', 'O'),\n",
              " ('ใต้', 'ADP', 'O'),\n",
              " ('การปกครอง', 'NOUN', 'O'),\n",
              " ('ของ', 'ADP', 'O'),\n",
              " ('จังหวัด', 'NOUN', 'B-LOCATION'),\n",
              " ('เชียงราย', 'NOUN', 'I-LOCATION'),\n",
              " ('ใน', 'ADP', 'O'),\n",
              " ('ฐานะ', 'NOUN', 'O'),\n",
              " (' ', 'PUNCT', 'O'),\n",
              " ('อำเภอ', 'NOUN', 'B-LOCATION'),\n",
              " ('พะเยา', 'NOUN', 'I-LOCATION'),\n",
              " (' ', 'PUNCT', 'O'),\n",
              " ('และ', 'CCONJ', 'O'),\n",
              " ('เมื่อ', 'SCONJ', 'O'),\n",
              " ('วันที่', 'NOUN', 'O'),\n",
              " (' ', 'PUNCT', 'O'),\n",
              " ('28', 'NUM', 'B-DATE'),\n",
              " (' ', 'PUNCT', 'I-DATE'),\n",
              " ('สิงหาคม', 'PROPN', 'I-DATE'),\n",
              " (' ', 'PUNCT', 'I-DATE'),\n",
              " ('พ.ศ.', 'NOUN', 'I-DATE'),\n",
              " (' ', 'PUNCT', 'I-DATE'),\n",
              " ('2520', 'NUM', 'I-DATE'),\n",
              " (' ', 'PUNCT', 'O'),\n",
              " ('อำเภอ', 'NOUN', 'B-LOCATION'),\n",
              " ('พะเยา', 'NOUN', 'I-LOCATION'),\n",
              " ('ได้', 'AUX', 'O'),\n",
              " ('ยกฐานะ', 'VERB', 'O'),\n",
              " ('ขึ้น', 'AUX', 'O'),\n",
              " ('เป็น', 'VERB', 'O'),\n",
              " (' ', 'PUNCT', 'O'),\n",
              " ('จังหวัด', 'NOUN', 'B-LOCATION'),\n",
              " ('พะเยา', 'NOUN', 'I-LOCATION'),\n",
              " (' ', 'PUNCT', 'O'),\n",
              " ('นับ', 'VERB', 'O'),\n",
              " ('เป็น', 'VERB', 'O'),\n",
              " ('จังหวัด', 'NOUN', 'O'),\n",
              " ('ที่', 'SCONJ', 'O'),\n",
              " (' ', 'PUNCT', 'O'),\n",
              " ('72', 'NUM', 'O'),\n",
              " (' ', 'PUNCT', 'O'),\n",
              " ('ของ', 'ADP', 'O'),\n",
              " ('ประเทศ', 'NOUN', 'B-LOCATION'),\n",
              " ('ไทย', 'PROPN', 'I-LOCATION')]"
            ]
          },
          "metadata": {
            "tags": []
          },
          "execution_count": 45
        }
      ]
    },
    {
      "cell_type": "markdown",
      "metadata": {
        "id": "KP2zYJZ8elLQ",
        "colab_type": "text"
      },
      "source": [
        "## 3.2 Output like HTML Tag"
      ]
    },
    {
      "cell_type": "markdown",
      "metadata": {
        "id": "yswQ7T3Fd8-Z",
        "colab_type": "text"
      },
      "source": [
        "เราสามารถกำหนดให้ Output เป็น tag แบบ HTML ได้ ด้วย tag=True"
      ]
    },
    {
      "cell_type": "code",
      "metadata": {
        "id": "FFCmaT10ryX6",
        "colab_type": "code",
        "colab": {}
      },
      "source": [
        "text4 = \"จังหวัดพะเยา เป็นจังหวัดในภาคเหนือตอนบน บริเวณที่ตั้งของตัวเมืองพะเยาในปัจจุบันอยู่ติดกับกว๊านพะเยา เดิมเป็นที่ตั้งของเมือง ภูกามยาว หรือ พะยาว ที่ก่อตั้งขึ้นเมื่อพุทธศตวรรษที่ 16 โดยกษัตริย์องค์แรกคือ พญาจอมธรรม\""
      ],
      "execution_count": 0,
      "outputs": []
    },
    {
      "cell_type": "code",
      "metadata": {
        "id": "i15GoRutd35S",
        "colab_type": "code",
        "colab": {
          "base_uri": "https://localhost:8080/",
          "height": 54
        },
        "outputId": "ca102106-9488-4fe5-e50a-b9ad7e80d4a5"
      },
      "source": [
        "ner.get_ner(text4, tag=True)"
      ],
      "execution_count": 47,
      "outputs": [
        {
          "output_type": "execute_result",
          "data": {
            "text/plain": [
              "'<LOCATION>จังหวัดพะเยา</LOCATION> เป็นจังหวัดใน<LOCATION>ภาคเหนือตอนบน</LOCATION> บริเวณที่ตั้งของตัวเมือง<LOCATION>พะเยา</LOCATION>ในปัจจุบันอยู่ติดกับกว๊านพะเยา เดิมเป็นที่ตั้งของเมือง <LOCATION>ภูกามยาว</LOCATION> หรือ พะยาว ที่ก่อตั้งขึ้นเมื่อพุทธศตวรรษที่ 16 โดยกษัตริย์องค์แรกคือ <PERSON>พญาจอมธรรม</PERSON>'"
            ]
          },
          "metadata": {
            "tags": []
          },
          "execution_count": 47
        }
      ]
    },
    {
      "cell_type": "markdown",
      "metadata": {
        "id": "EK8Mv6wyML_U",
        "colab_type": "text"
      },
      "source": [
        "# Credit"
      ]
    },
    {
      "cell_type": "markdown",
      "metadata": {
        "id": "qTi5ixZxcVcn",
        "colab_type": "text"
      },
      "source": [
        "* http://thainlp.org/pythainlp/tutorials/notebooks/pythainlp_get_started.html\n",
        "* https://www.academia.edu/9127599/Thai_Treebank\n",
        "* https://universaldependencies.org/u/pos/\n",
        "* https://github.com/UniversalDependencies/UD_Thai-PUD\n",
        "* "
      ]
    },
    {
      "cell_type": "code",
      "metadata": {
        "id": "3V4Rc3Q8ct8i",
        "colab_type": "code",
        "colab": {}
      },
      "source": [
        ""
      ],
      "execution_count": 0,
      "outputs": []
    }
  ]
}