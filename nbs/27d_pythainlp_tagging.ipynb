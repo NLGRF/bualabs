{
  "nbformat": 4,
  "nbformat_minor": 0,
  "metadata": {
    "colab": {
      "name": "27d_pythainlp_tagging.ipynb",
      "provenance": [],
      "authorship_tag": "ABX9TyOBe+5ucCyTdihkNQo0fqHm"
    },
    "kernelspec": {
      "name": "python3",
      "display_name": "Python 3"
    }
  },
  "cells": [
    {
      "cell_type": "markdown",
      "metadata": {
        "id": "4CyRqw3lLp2v",
        "colab_type": "text"
      },
      "source": [
        ""
      ]
    },
    {
      "cell_type": "markdown",
      "metadata": {
        "colab_type": "text",
        "id": "CzApwnjVlKxC"
      },
      "source": [
        "# 0. Install"
      ]
    },
    {
      "cell_type": "code",
      "metadata": {
        "colab_type": "code",
        "id": "0WcUkQRak7e6",
        "colab": {}
      },
      "source": [
        "%reload_ext autoreload\n",
        "%autoreload 2\n",
        "%matplotlib inline"
      ],
      "execution_count": 0,
      "outputs": []
    },
    {
      "cell_type": "markdown",
      "metadata": {
        "colab_type": "text",
        "id": "MGOPzh9vCLJh"
      },
      "source": [
        "Install Library ที่จำเป็น แล้ว Restart Runtime"
      ]
    },
    {
      "cell_type": "code",
      "metadata": {
        "id": "QpAhcT3WxGqF",
        "colab_type": "code",
        "colab": {}
      },
      "source": [
        "# dev version\n",
        "# !pip install https://github.com/PyThaiNLP/pythainlp/archive/dev.zip\n",
        "\n",
        "# release version \n",
        "! pip install pythainlp -q\n",
        "! pip install epitran -q\n",
        "! pip install sklearn_crfsuite -q"
      ],
      "execution_count": 0,
      "outputs": []
    },
    {
      "cell_type": "markdown",
      "metadata": {
        "id": "0u3BdH34_hN1",
        "colab_type": "text"
      },
      "source": [
        "Restart Runtime เพื่อให้ใช้ Library เวอร์ชัน ที่เพิ่ง Install ลงไป"
      ]
    },
    {
      "cell_type": "markdown",
      "metadata": {
        "id": "86CaxdqnE0Ag",
        "colab_type": "text"
      },
      "source": [
        "ในเคสนี้ เราจะปิด Warning ไว้ก่อน จะได้อ่านผลลัพท์ง่าย"
      ]
    },
    {
      "cell_type": "code",
      "metadata": {
        "id": "rha7sfRokmVJ",
        "colab_type": "code",
        "colab": {}
      },
      "source": [
        "import warnings\n",
        "warnings.filterwarnings('ignore')"
      ],
      "execution_count": 0,
      "outputs": []
    },
    {
      "cell_type": "markdown",
      "metadata": {
        "colab_type": "text",
        "id": "3VxLNfAElR29"
      },
      "source": [
        "# 1. Import"
      ]
    },
    {
      "cell_type": "markdown",
      "metadata": {
        "colab_type": "text",
        "id": "nGm02SG0CQrq"
      },
      "source": [
        "Import Library ที่จะใช้ ในที่นี้คือ PyThaiNLP"
      ]
    },
    {
      "cell_type": "code",
      "metadata": {
        "id": "RUurvnGIsEWv",
        "colab_type": "code",
        "outputId": "e08625a4-cb91-479c-9432-49447bb8a598",
        "colab": {
          "base_uri": "https://localhost:8080/",
          "height": 34
        }
      },
      "source": [
        "import pythainlp\n",
        "\n",
        "pythainlp.__version__"
      ],
      "execution_count": 4,
      "outputs": [
        {
          "output_type": "execute_result",
          "data": {
            "text/plain": [
              "'2.1.4'"
            ]
          },
          "metadata": {
            "tags": []
          },
          "execution_count": 4
        }
      ]
    },
    {
      "cell_type": "markdown",
      "metadata": {
        "id": "YeJuPfAjSGnt",
        "colab_type": "text"
      },
      "source": [
        "# 2. PyThaiNLP Part-of-Speech Tagging"
      ]
    },
    {
      "cell_type": "code",
      "metadata": {
        "id": "o_NpQW-aMFNh",
        "colab_type": "code",
        "colab": {}
      },
      "source": [
        "from pythainlp.tag import pos_tag, pos_tag_sents"
      ],
      "execution_count": 0,
      "outputs": []
    },
    {
      "cell_type": "markdown",
      "metadata": {
        "id": "e3vO4FghYs5B",
        "colab_type": "text"
      },
      "source": [
        "## 2.1 pos_tag"
      ]
    },
    {
      "cell_type": "markdown",
      "metadata": {
        "id": "Xm3W3oq5V1WS",
        "colab_type": "text"
      },
      "source": [
        "### Engine"
      ]
    },
    {
      "cell_type": "markdown",
      "metadata": {
        "id": "5GhAKVBjUvV4",
        "colab_type": "text"
      },
      "source": [
        "มี Engine ให้เลือกหลายตัว ได้แก่ \n",
        "\n",
        "* perceptron (default) - perceptron tagger \n",
        "* unigram - unigram tagger"
      ]
    },
    {
      "cell_type": "code",
      "metadata": {
        "id": "Nm1sebqdZFsY",
        "colab_type": "code",
        "colab": {}
      },
      "source": [
        "sent = [\"ชาวต่างชาติ\", \"เรียก\", \"อาณาจักร\", \"อยุธยา\", \"ว่า\", \"สยาม\"]"
      ],
      "execution_count": 0,
      "outputs": []
    },
    {
      "cell_type": "code",
      "metadata": {
        "id": "E2XyZw2cSczg",
        "colab_type": "code",
        "colab": {
          "base_uri": "https://localhost:8080/",
          "height": 119
        },
        "outputId": "6e874b46-6ff8-4f89-f95b-94d3064d7c06"
      },
      "source": [
        "pos_tag(sent) # Default engine=\"perceptron\""
      ],
      "execution_count": 25,
      "outputs": [
        {
          "output_type": "execute_result",
          "data": {
            "text/plain": [
              "[('ชาวต่างชาติ', 'NCMN'),\n",
              " ('เรียก', 'VACT'),\n",
              " ('อาณาจักร', 'NCMN'),\n",
              " ('อยุธยา', 'VACT'),\n",
              " ('ว่า', 'JSBR'),\n",
              " ('สยาม', 'NCMN')]"
            ]
          },
          "metadata": {
            "tags": []
          },
          "execution_count": 25
        }
      ]
    },
    {
      "cell_type": "code",
      "metadata": {
        "id": "GUpbFEbQScpW",
        "colab_type": "code",
        "colab": {
          "base_uri": "https://localhost:8080/",
          "height": 119
        },
        "outputId": "b8fb1b83-3fa9-4e99-f2b8-d7248e36feb9"
      },
      "source": [
        "pos_tag(sent, engine=\"unigram\")"
      ],
      "execution_count": 26,
      "outputs": [
        {
          "output_type": "execute_result",
          "data": {
            "text/plain": [
              "[('ชาวต่างชาติ', 'NCMN'),\n",
              " ('เรียก', 'VACT'),\n",
              " ('อาณาจักร', None),\n",
              " ('อยุธยา', None),\n",
              " ('ว่า', 'JSBR'),\n",
              " ('สยาม', None)]"
            ]
          },
          "metadata": {
            "tags": []
          },
          "execution_count": 26
        }
      ]
    },
    {
      "cell_type": "markdown",
      "metadata": {
        "id": "iuWNSsciV4V5",
        "colab_type": "text"
      },
      "source": [
        "## Corpus"
      ]
    },
    {
      "cell_type": "markdown",
      "metadata": {
        "id": "G-vkRRcvU3pk",
        "colab_type": "text"
      },
      "source": [
        "เราสามารถเลือกใช้คำศัพท์ จาก Curpus ต่าง ๆ ได้แก่ \n",
        "\n",
        "* orchid (default) - annotated Thai academic articles namedly Orchid \n",
        "* orchid_ud - annotated Thai academic articles *Orchid* but the POS tags are mapped to comply with Universal Dependencies POS  Tags\n",
        "* pud - Parallel Universal Dependencies (PUD)"
      ]
    },
    {
      "cell_type": "code",
      "metadata": {
        "id": "YS2R_QZ-Xlu7",
        "colab_type": "code",
        "colab": {
          "base_uri": "https://localhost:8080/",
          "height": 119
        },
        "outputId": "9af1048f-e382-4624-ae24-894df399e773"
      },
      "source": [
        "pos_tag(sent)  # (default) corpus=\"orchid\""
      ],
      "execution_count": 27,
      "outputs": [
        {
          "output_type": "execute_result",
          "data": {
            "text/plain": [
              "[('ชาวต่างชาติ', 'NCMN'),\n",
              " ('เรียก', 'VACT'),\n",
              " ('อาณาจักร', 'NCMN'),\n",
              " ('อยุธยา', 'VACT'),\n",
              " ('ว่า', 'JSBR'),\n",
              " ('สยาม', 'NCMN')]"
            ]
          },
          "metadata": {
            "tags": []
          },
          "execution_count": 27
        }
      ]
    },
    {
      "cell_type": "code",
      "metadata": {
        "id": "HLBoFWpZUn9D",
        "colab_type": "code",
        "colab": {
          "base_uri": "https://localhost:8080/",
          "height": 119
        },
        "outputId": "1a74aecf-c02f-4ef9-eb4e-54ef8430c28f"
      },
      "source": [
        "pos_tag(sent, corpus=\"orchid_ud\")"
      ],
      "execution_count": 28,
      "outputs": [
        {
          "output_type": "execute_result",
          "data": {
            "text/plain": [
              "[('ชาวต่างชาติ', 'NOUN'),\n",
              " ('เรียก', 'VERB'),\n",
              " ('อาณาจักร', 'NOUN'),\n",
              " ('อยุธยา', 'VERB'),\n",
              " ('ว่า', 'SCONJ'),\n",
              " ('สยาม', 'NOUN')]"
            ]
          },
          "metadata": {
            "tags": []
          },
          "execution_count": 28
        }
      ]
    },
    {
      "cell_type": "code",
      "metadata": {
        "id": "UU24wDqpScfO",
        "colab_type": "code",
        "colab": {
          "base_uri": "https://localhost:8080/",
          "height": 119
        },
        "outputId": "ac9c7090-785f-4764-94ac-49491313c01c"
      },
      "source": [
        "pos_tag(sent, corpus=\"pud\")"
      ],
      "execution_count": 29,
      "outputs": [
        {
          "output_type": "execute_result",
          "data": {
            "text/plain": [
              "[('ชาวต่างชาติ', 'NOUN'),\n",
              " ('เรียก', 'VERB'),\n",
              " ('อาณาจักร', 'VERB'),\n",
              " ('อยุธยา', 'PROPN'),\n",
              " ('ว่า', 'ADP'),\n",
              " ('สยาม', 'NOUN')]"
            ]
          },
          "metadata": {
            "tags": []
          },
          "execution_count": 29
        }
      ]
    },
    {
      "cell_type": "markdown",
      "metadata": {
        "id": "DU9QHthIScUB",
        "colab_type": "text"
      },
      "source": [
        "Uncomment แล้วรัน Cell เพื่อดู help"
      ]
    },
    {
      "cell_type": "code",
      "metadata": {
        "id": "6kQRyzzyMFSC",
        "colab_type": "code",
        "colab": {}
      },
      "source": [
        "pos_tag??\n",
        "# pos_tag_sents??"
      ],
      "execution_count": 0,
      "outputs": []
    },
    {
      "cell_type": "markdown",
      "metadata": {
        "id": "A8PSmQmIYp7D",
        "colab_type": "text"
      },
      "source": [
        "## 2.2 pos_tag_sents"
      ]
    },
    {
      "cell_type": "markdown",
      "metadata": {
        "id": "fj908HIzYySE",
        "colab_type": "text"
      },
      "source": [
        "POS Tagging ทีละหลายประโยค"
      ]
    },
    {
      "cell_type": "code",
      "metadata": {
        "id": "OX7gwGIKMFV6",
        "colab_type": "code",
        "colab": {}
      },
      "source": [
        "sents = [[\"ไทยบางแก้ว\", \"เป็น\", \"สุนัข\", \"ประเภท\", \"สปิตซ์\", \"สายพันธุ์\", \"หนึ่ง\", \"ที่มี\", \"ถิ่นกำเนิด\", \"ใน\", \"ประเทศไทย\"],\n",
        "    [\"ไทยบางแก้ว\", \"ถือเป็น\", \"สุนัข\", \"ไทย\", \"สายพันธุ์\", \"เดียว\", \"ที่มี\", \"ขน\", \"ยาว\", \"สอง\", \"ชั้น\", \"หาง\", \"เป็น\", \"พวง\", \"มี\", \"ขน\", \"ขาหน้า\", \"คล้าย\", \"ขนขา\", \"แข้ง\", \"สิงห์\", \"แผงรอบคอ\", \"คล้าย\", \"สิงโต\", \"มี\", \"ความเฉลียวฉลาด\"]]"
      ],
      "execution_count": 0,
      "outputs": []
    },
    {
      "cell_type": "code",
      "metadata": {
        "id": "IeXUxvjeMFZy",
        "colab_type": "code",
        "colab": {
          "base_uri": "https://localhost:8080/",
          "height": 646
        },
        "outputId": "daa35200-b8ed-4a39-c044-732c2d9a86c2"
      },
      "source": [
        "pos_tag_sents(sents)"
      ],
      "execution_count": 38,
      "outputs": [
        {
          "output_type": "execute_result",
          "data": {
            "text/plain": [
              "[[('ไทยบางแก้ว', 'NCMN'),\n",
              "  ('เป็น', 'VSTA'),\n",
              "  ('สุนัข', 'NCMN'),\n",
              "  ('ประเภท', 'CLTV'),\n",
              "  ('สปิตซ์', 'NCMN'),\n",
              "  ('สายพันธุ์', 'NCMN'),\n",
              "  ('หนึ่ง', 'DCNM'),\n",
              "  ('ที่มี', 'PREL'),\n",
              "  ('ถิ่นกำเนิด', 'NCMN'),\n",
              "  ('ใน', 'RPRE'),\n",
              "  ('ประเทศไทย', 'NPRP')],\n",
              " [('ไทยบางแก้ว', 'NCMN'),\n",
              "  ('ถือเป็น', 'VSTA'),\n",
              "  ('สุนัข', 'NCMN'),\n",
              "  ('ไทย', 'NPRP'),\n",
              "  ('สายพันธุ์', 'NCMN'),\n",
              "  ('เดียว', 'DIAC'),\n",
              "  ('ที่มี', 'RPRE'),\n",
              "  ('ขน', 'NCMN'),\n",
              "  ('ยาว', 'VATT'),\n",
              "  ('สอง', 'DCNM'),\n",
              "  ('ชั้น', 'CNIT'),\n",
              "  ('หาง', 'NCMN'),\n",
              "  ('เป็น', 'VSTA'),\n",
              "  ('พวง', 'NCMN'),\n",
              "  ('มี', 'VSTA'),\n",
              "  ('ขน', 'NCMN'),\n",
              "  ('ขาหน้า', 'NCMN'),\n",
              "  ('คล้าย', 'VSTA'),\n",
              "  ('ขนขา', 'NCMN'),\n",
              "  ('แข้ง', 'NCMN'),\n",
              "  ('สิงห์', 'NCMN'),\n",
              "  ('แผงรอบคอ', 'NCMN'),\n",
              "  ('คล้าย', 'VSTA'),\n",
              "  ('สิงโต', 'NCMN'),\n",
              "  ('มี', 'VSTA'),\n",
              "  ('ความเฉลียวฉลาด', 'NCMN')]]"
            ]
          },
          "metadata": {
            "tags": []
          },
          "execution_count": 38
        }
      ]
    },
    {
      "cell_type": "code",
      "metadata": {
        "id": "bPxE8fIxa5XL",
        "colab_type": "code",
        "colab": {
          "base_uri": "https://localhost:8080/",
          "height": 646
        },
        "outputId": "b069c8a5-c72b-49a2-c48c-068bf31ef560"
      },
      "source": [
        "pos_tag_sents(sents, engine=\"unigram\")"
      ],
      "execution_count": 39,
      "outputs": [
        {
          "output_type": "execute_result",
          "data": {
            "text/plain": [
              "[[('ไทยบางแก้ว', None),\n",
              "  ('เป็น', 'VSTA'),\n",
              "  ('สุนัข', None),\n",
              "  ('ประเภท', 'CLTV'),\n",
              "  ('สปิตซ์', None),\n",
              "  ('สายพันธุ์', None),\n",
              "  ('หนึ่ง', 'DCNM'),\n",
              "  ('ที่มี', None),\n",
              "  ('ถิ่นกำเนิด', None),\n",
              "  ('ใน', 'RPRE'),\n",
              "  ('ประเทศไทย', 'NPRP')],\n",
              " [('ไทยบางแก้ว', None),\n",
              "  ('ถือเป็น', 'VSTA'),\n",
              "  ('สุนัข', None),\n",
              "  ('ไทย', 'NPRP'),\n",
              "  ('สายพันธุ์', None),\n",
              "  ('เดียว', 'DIAC'),\n",
              "  ('ที่มี', None),\n",
              "  ('ขน', None),\n",
              "  ('ยาว', 'VATT'),\n",
              "  ('สอง', 'DCNM'),\n",
              "  ('ชั้น', 'CNIT'),\n",
              "  ('หาง', 'NCMN'),\n",
              "  ('เป็น', 'VSTA'),\n",
              "  ('พวง', None),\n",
              "  ('มี', 'VSTA'),\n",
              "  ('ขน', None),\n",
              "  ('ขาหน้า', None),\n",
              "  ('คล้าย', 'VSTA'),\n",
              "  ('ขนขา', None),\n",
              "  ('แข้ง', None),\n",
              "  ('สิงห์', None),\n",
              "  ('แผงรอบคอ', None),\n",
              "  ('คล้าย', 'VSTA'),\n",
              "  ('สิงโต', None),\n",
              "  ('มี', 'VSTA'),\n",
              "  ('ความเฉลียวฉลาด', None)]]"
            ]
          },
          "metadata": {
            "tags": []
          },
          "execution_count": 39
        }
      ]
    },
    {
      "cell_type": "code",
      "metadata": {
        "id": "CHt2nUuxa5M8",
        "colab_type": "code",
        "colab": {
          "base_uri": "https://localhost:8080/",
          "height": 646
        },
        "outputId": "e1ad0fba-ffb9-40e6-c411-66d01155be66"
      },
      "source": [
        "pos_tag_sents(sents, corpus=\"orchid_ud\")"
      ],
      "execution_count": 40,
      "outputs": [
        {
          "output_type": "execute_result",
          "data": {
            "text/plain": [
              "[[('ไทยบางแก้ว', 'NOUN'),\n",
              "  ('เป็น', 'VERB'),\n",
              "  ('สุนัข', 'NOUN'),\n",
              "  ('ประเภท', 'NOUN'),\n",
              "  ('สปิตซ์', 'NOUN'),\n",
              "  ('สายพันธุ์', 'NOUN'),\n",
              "  ('หนึ่ง', 'NUM'),\n",
              "  ('ที่มี', 'SCONJ'),\n",
              "  ('ถิ่นกำเนิด', 'NOUN'),\n",
              "  ('ใน', 'ADP'),\n",
              "  ('ประเทศไทย', 'PROPN')],\n",
              " [('ไทยบางแก้ว', 'NOUN'),\n",
              "  ('ถือเป็น', 'VERB'),\n",
              "  ('สุนัข', 'NOUN'),\n",
              "  ('ไทย', 'PROPN'),\n",
              "  ('สายพันธุ์', 'NOUN'),\n",
              "  ('เดียว', 'DET'),\n",
              "  ('ที่มี', 'ADP'),\n",
              "  ('ขน', 'NOUN'),\n",
              "  ('ยาว', 'ADJ'),\n",
              "  ('สอง', 'NUM'),\n",
              "  ('ชั้น', 'NOUN'),\n",
              "  ('หาง', 'NOUN'),\n",
              "  ('เป็น', 'VERB'),\n",
              "  ('พวง', 'NOUN'),\n",
              "  ('มี', 'VERB'),\n",
              "  ('ขน', 'NOUN'),\n",
              "  ('ขาหน้า', 'NOUN'),\n",
              "  ('คล้าย', 'VERB'),\n",
              "  ('ขนขา', 'NOUN'),\n",
              "  ('แข้ง', 'NOUN'),\n",
              "  ('สิงห์', 'NOUN'),\n",
              "  ('แผงรอบคอ', 'NOUN'),\n",
              "  ('คล้าย', 'VERB'),\n",
              "  ('สิงโต', 'NOUN'),\n",
              "  ('มี', 'VERB'),\n",
              "  ('ความเฉลียวฉลาด', 'NOUN')]]"
            ]
          },
          "metadata": {
            "tags": []
          },
          "execution_count": 40
        }
      ]
    },
    {
      "cell_type": "code",
      "metadata": {
        "id": "iwx8eGKJa5Cb",
        "colab_type": "code",
        "colab": {
          "base_uri": "https://localhost:8080/",
          "height": 646
        },
        "outputId": "8c8fdda0-2d85-4a9a-d9e6-725808270ca6"
      },
      "source": [
        "pos_tag_sents(sents, corpus=\"pud\")"
      ],
      "execution_count": 41,
      "outputs": [
        {
          "output_type": "execute_result",
          "data": {
            "text/plain": [
              "[[('ไทยบางแก้ว', 'PROPN'),\n",
              "  ('เป็น', 'AUX'),\n",
              "  ('สุนัข', 'NOUN'),\n",
              "  ('ประเภท', 'NOUN'),\n",
              "  ('สปิตซ์', 'NOUN'),\n",
              "  ('สายพันธุ์', 'NOUN'),\n",
              "  ('หนึ่ง', 'NUM'),\n",
              "  ('ที่มี', 'NOUN'),\n",
              "  ('ถิ่นกำเนิด', 'VERB'),\n",
              "  ('ใน', 'ADP'),\n",
              "  ('ประเทศไทย', 'PROPN')],\n",
              " [('ไทยบางแก้ว', 'PROPN'),\n",
              "  ('ถือเป็น', 'AUX'),\n",
              "  ('สุนัข', 'NOUN'),\n",
              "  ('ไทย', 'PROPN'),\n",
              "  ('สายพันธุ์', 'NOUN'),\n",
              "  ('เดียว', 'ADJ'),\n",
              "  ('ที่มี', 'DET'),\n",
              "  ('ขน', 'NOUN'),\n",
              "  ('ยาว', 'NOUN'),\n",
              "  ('สอง', 'NUM'),\n",
              "  ('ชั้น', 'NOUN'),\n",
              "  ('หาง', 'NOUN'),\n",
              "  ('เป็น', 'AUX'),\n",
              "  ('พวง', 'NOUN'),\n",
              "  ('มี', 'VERB'),\n",
              "  ('ขน', 'NOUN'),\n",
              "  ('ขาหน้า', 'NOUN'),\n",
              "  ('คล้าย', 'ADJ'),\n",
              "  ('ขนขา', 'NOUN'),\n",
              "  ('แข้ง', 'NOUN'),\n",
              "  ('สิงห์', 'NOUN'),\n",
              "  ('แผงรอบคอ', 'NOUN'),\n",
              "  ('คล้าย', 'VERB'),\n",
              "  ('สิงโต', 'NOUN'),\n",
              "  ('มี', 'VERB'),\n",
              "  ('ความเฉลียวฉลาด', 'NOUN')]]"
            ]
          },
          "metadata": {
            "tags": []
          },
          "execution_count": 41
        }
      ]
    },
    {
      "cell_type": "markdown",
      "metadata": {
        "id": "VnoCCtvmMLwz",
        "colab_type": "text"
      },
      "source": [
        "# 3. Named-Entity Tagging"
      ]
    },
    {
      "cell_type": "markdown",
      "metadata": {
        "id": "CuAadKPIe6za",
        "colab_type": "text"
      },
      "source": [
        "Named Entity Tagging คือ กระบวนการในการหาตำแหน่ง และ แปะป้ายหมวดหมู่ของกลุ่มคำ ที่อยู่ในเอกสาร เช่น ชื่อคน ชื่อองค์กร สถานที่ ตัวเลข จำนวนเงิน วันเวลา"
      ]
    },
    {
      "cell_type": "code",
      "metadata": {
        "id": "k5VBf7iJML1S",
        "colab_type": "code",
        "colab": {}
      },
      "source": [
        "from pythainlp.tag.named_entity import ThaiNameTagger\n",
        "\n",
        "ner = ThaiNameTagger()\n",
        "ner.get_ner??"
      ],
      "execution_count": 0,
      "outputs": []
    },
    {
      "cell_type": "markdown",
      "metadata": {
        "id": "_E4wWy9LeOrX",
        "colab_type": "text"
      },
      "source": [
        "## 3.1 POS Tag"
      ]
    },
    {
      "cell_type": "code",
      "metadata": {
        "id": "phO4H9qLML6N",
        "colab_type": "code",
        "colab": {
          "base_uri": "https://localhost:8080/",
          "height": 935
        },
        "outputId": "474d3c49-ebc8-4755-c17a-61ca53612e04"
      },
      "source": [
        "ner.get_ner(\"จังหวัดพะเยา เป็นจังหวัดในภาคเหนือตอนบน บริเวณที่ตั้งของตัวเมืองพะเยาในปัจจุบันอยู่ติดกับกว๊านพะเยา เดิมเป็นที่ตั้งของเมือง ภูกามยาว หรือ พะยาว ที่ก่อตั้งขึ้นเมื่อพุทธศตวรรษที่ 16 โดยกษัตริย์องค์แรกคือ พญาจอมธรรม\")"
      ],
      "execution_count": 54,
      "outputs": [
        {
          "output_type": "execute_result",
          "data": {
            "text/plain": [
              "[('จังหวัด', 'NOUN', 'B-LOCATION'),\n",
              " ('พะเยา', 'NOUN', 'I-LOCATION'),\n",
              " (' ', 'PUNCT', 'O'),\n",
              " ('เป็น', 'VERB', 'O'),\n",
              " ('จังหวัด', 'NOUN', 'O'),\n",
              " ('ใน', 'ADP', 'O'),\n",
              " ('ภาคเหนือ', 'NOUN', 'B-LOCATION'),\n",
              " ('ตอน', 'NOUN', 'I-LOCATION'),\n",
              " ('บน', 'ADP', 'I-LOCATION'),\n",
              " (' ', 'PUNCT', 'O'),\n",
              " ('บริเวณ', 'NOUN', 'O'),\n",
              " ('ที่ตั้ง', 'NOUN', 'O'),\n",
              " ('ของ', 'ADP', 'O'),\n",
              " ('ตัวเมือง', 'NOUN', 'O'),\n",
              " ('พะเยา', 'NOUN', 'B-LOCATION'),\n",
              " ('ใน', 'ADP', 'O'),\n",
              " ('ปัจจุบัน', 'NOUN', 'O'),\n",
              " ('อยู่', 'AUX', 'O'),\n",
              " ('ติดกับ', 'ADP', 'O'),\n",
              " ('กว๊าน', 'NOUN', 'O'),\n",
              " ('พะเยา', 'NOUN', 'O'),\n",
              " (' ', 'PUNCT', 'O'),\n",
              " ('เดิม', 'ADJ', 'O'),\n",
              " ('เป็นที่ตั้ง', 'NOUN', 'O'),\n",
              " ('ของ', 'ADP', 'O'),\n",
              " ('เมือง', 'NOUN', 'O'),\n",
              " (' ', 'PUNCT', 'O'),\n",
              " ('ภู', 'NOUN', 'B-LOCATION'),\n",
              " ('กาม', 'NOUN', 'I-LOCATION'),\n",
              " ('ยาว', 'ADJ', 'I-LOCATION'),\n",
              " (' ', 'PUNCT', 'O'),\n",
              " ('หรือ', 'CCONJ', 'O'),\n",
              " (' ', 'PUNCT', 'O'),\n",
              " ('พะ', 'NOUN', 'O'),\n",
              " ('ยาว', 'ADJ', 'O'),\n",
              " (' ', 'PUNCT', 'O'),\n",
              " ('ที่', 'SCONJ', 'O'),\n",
              " ('ก่อ', 'VERB', 'O'),\n",
              " ('ตั้งขึ้น', 'VERB', 'O'),\n",
              " ('เมื่อ', 'SCONJ', 'O'),\n",
              " ('พุทธศตวรรษ', 'NOUN', 'O'),\n",
              " ('ที่', 'SCONJ', 'O'),\n",
              " (' ', 'PUNCT', 'O'),\n",
              " ('16', 'NUM', 'O'),\n",
              " (' ', 'PUNCT', 'O'),\n",
              " ('โดย', 'SCONJ', 'O'),\n",
              " ('กษัตริย์', 'VERB', 'O'),\n",
              " ('องค์', 'NOUN', 'O'),\n",
              " ('แรก', 'ADJ', 'O'),\n",
              " ('คือ', 'VERB', 'O'),\n",
              " (' ', 'PUNCT', 'O'),\n",
              " ('พญา', 'NOUN', 'B-PERSON'),\n",
              " ('จอม', 'VERB', 'I-PERSON'),\n",
              " ('ธรรม', 'NOUN', 'I-PERSON')]"
            ]
          },
          "metadata": {
            "tags": []
          },
          "execution_count": 54
        }
      ]
    },
    {
      "cell_type": "code",
      "metadata": {
        "id": "haTHh1lBdETx",
        "colab_type": "code",
        "colab": {
          "base_uri": "https://localhost:8080/",
          "height": 986
        },
        "outputId": "bf7bd4bb-1968-4c47-e7f4-ce9ecfc54f7b"
      },
      "source": [
        "ner.get_ner(\"ในท้ายที่สุดก่อนที่พะเยาจะถูกยกฐานะขึ้นเป็นจังหวัดพะเยา พะเยาอยู่ใต้การปกครองของจังหวัดเชียงรายในฐานะ อำเภอพะเยา และเมื่อวันที่ 28 สิงหาคม พ.ศ. 2520 อำเภอพะเยาได้ยกฐานะขึ้นเป็น จังหวัดพะเยา นับเป็นจังหวัดที่ 72 ของประเทศไทย\")"
      ],
      "execution_count": 55,
      "outputs": [
        {
          "output_type": "execute_result",
          "data": {
            "text/plain": [
              "[('ใน', 'ADP', 'O'),\n",
              " ('ท้ายที่สุด', 'ADV', 'O'),\n",
              " ('ก่อนที่', 'SCONJ', 'O'),\n",
              " ('พะเยา', 'NOUN', 'O'),\n",
              " ('จะ', 'AUX', 'O'),\n",
              " ('ถูก', 'AUX', 'O'),\n",
              " ('ยกฐานะ', 'VERB', 'O'),\n",
              " ('ขึ้น', 'AUX', 'O'),\n",
              " ('เป็น', 'VERB', 'O'),\n",
              " ('จังหวัด', 'NOUN', 'B-LOCATION'),\n",
              " ('พะเยา', 'NOUN', 'I-LOCATION'),\n",
              " (' ', 'PUNCT', 'O'),\n",
              " ('พะเยา', 'NOUN', 'O'),\n",
              " ('อยู่', 'AUX', 'O'),\n",
              " ('ใต้', 'ADP', 'O'),\n",
              " ('การปกครอง', 'NOUN', 'O'),\n",
              " ('ของ', 'ADP', 'O'),\n",
              " ('จังหวัด', 'NOUN', 'B-LOCATION'),\n",
              " ('เชียงราย', 'NOUN', 'I-LOCATION'),\n",
              " ('ใน', 'ADP', 'O'),\n",
              " ('ฐานะ', 'NOUN', 'O'),\n",
              " (' ', 'PUNCT', 'O'),\n",
              " ('อำเภอ', 'NOUN', 'B-LOCATION'),\n",
              " ('พะเยา', 'NOUN', 'I-LOCATION'),\n",
              " (' ', 'PUNCT', 'O'),\n",
              " ('และ', 'CCONJ', 'O'),\n",
              " ('เมื่อ', 'SCONJ', 'O'),\n",
              " ('วันที่', 'NOUN', 'O'),\n",
              " (' ', 'PUNCT', 'O'),\n",
              " ('28', 'NUM', 'B-DATE'),\n",
              " (' ', 'PUNCT', 'I-DATE'),\n",
              " ('สิงหาคม', 'PROPN', 'I-DATE'),\n",
              " (' ', 'PUNCT', 'I-DATE'),\n",
              " ('พ.ศ.', 'NOUN', 'I-DATE'),\n",
              " (' ', 'PUNCT', 'I-DATE'),\n",
              " ('2520', 'NUM', 'I-DATE'),\n",
              " (' ', 'PUNCT', 'O'),\n",
              " ('อำเภอ', 'NOUN', 'B-LOCATION'),\n",
              " ('พะเยา', 'NOUN', 'I-LOCATION'),\n",
              " ('ได้', 'AUX', 'O'),\n",
              " ('ยกฐานะ', 'VERB', 'O'),\n",
              " ('ขึ้น', 'AUX', 'O'),\n",
              " ('เป็น', 'VERB', 'O'),\n",
              " (' ', 'PUNCT', 'O'),\n",
              " ('จังหวัด', 'NOUN', 'B-LOCATION'),\n",
              " ('พะเยา', 'NOUN', 'I-LOCATION'),\n",
              " (' ', 'PUNCT', 'O'),\n",
              " ('นับ', 'VERB', 'O'),\n",
              " ('เป็น', 'VERB', 'O'),\n",
              " ('จังหวัด', 'NOUN', 'O'),\n",
              " ('ที่', 'SCONJ', 'O'),\n",
              " (' ', 'PUNCT', 'O'),\n",
              " ('72', 'NUM', 'O'),\n",
              " (' ', 'PUNCT', 'O'),\n",
              " ('ของ', 'ADP', 'O'),\n",
              " ('ประเทศ', 'NOUN', 'B-LOCATION'),\n",
              " ('ไทย', 'PROPN', 'I-LOCATION')]"
            ]
          },
          "metadata": {
            "tags": []
          },
          "execution_count": 55
        }
      ]
    },
    {
      "cell_type": "markdown",
      "metadata": {
        "id": "KP2zYJZ8elLQ",
        "colab_type": "text"
      },
      "source": [
        "## 3.2 Output like HTML Tag"
      ]
    },
    {
      "cell_type": "markdown",
      "metadata": {
        "id": "yswQ7T3Fd8-Z",
        "colab_type": "text"
      },
      "source": [
        "เราสามารถกำหนดให้ Output เป็น tag แบบ HTML ได้ ด้วย tag=True"
      ]
    },
    {
      "cell_type": "code",
      "metadata": {
        "id": "i15GoRutd35S",
        "colab_type": "code",
        "colab": {
          "base_uri": "https://localhost:8080/",
          "height": 54
        },
        "outputId": "381a8732-8940-4c90-a8f1-e748abe77eab"
      },
      "source": [
        "ner.get_ner(\"จังหวัดพะเยา เป็นจังหวัดในภาคเหนือตอนบน บริเวณที่ตั้งของตัวเมืองพะเยาในปัจจุบันอยู่ติดกับกว๊านพะเยา เดิมเป็นที่ตั้งของเมือง ภูกามยาว หรือ พะยาว ที่ก่อตั้งขึ้นเมื่อพุทธศตวรรษที่ 16 โดยกษัตริย์องค์แรกคือ พญาจอมธรรม\", tag=True)"
      ],
      "execution_count": 56,
      "outputs": [
        {
          "output_type": "execute_result",
          "data": {
            "text/plain": [
              "'<LOCATION>จังหวัดพะเยา</LOCATION> เป็นจังหวัดใน<LOCATION>ภาคเหนือตอนบน</LOCATION> บริเวณที่ตั้งของตัวเมือง<LOCATION>พะเยา</LOCATION>ในปัจจุบันอยู่ติดกับกว๊านพะเยา เดิมเป็นที่ตั้งของเมือง <LOCATION>ภูกามยาว</LOCATION> หรือ พะยาว ที่ก่อตั้งขึ้นเมื่อพุทธศตวรรษที่ 16 โดยกษัตริย์องค์แรกคือ <PERSON>พญาจอมธรรม</PERSON>'"
            ]
          },
          "metadata": {
            "tags": []
          },
          "execution_count": 56
        }
      ]
    },
    {
      "cell_type": "markdown",
      "metadata": {
        "id": "EK8Mv6wyML_U",
        "colab_type": "text"
      },
      "source": [
        "# Credit"
      ]
    },
    {
      "cell_type": "markdown",
      "metadata": {
        "id": "qTi5ixZxcVcn",
        "colab_type": "text"
      },
      "source": [
        "* http://thainlp.org/pythainlp/tutorials/notebooks/pythainlp_get_started.html\n",
        "* https://www.academia.edu/9127599/Thai_Treebank\n",
        "* https://universaldependencies.org/u/pos/\n",
        "* https://github.com/UniversalDependencies/UD_Thai-PUD\n",
        "* "
      ]
    },
    {
      "cell_type": "code",
      "metadata": {
        "id": "3V4Rc3Q8ct8i",
        "colab_type": "code",
        "colab": {}
      },
      "source": [
        ""
      ],
      "execution_count": 0,
      "outputs": []
    }
  ]
}